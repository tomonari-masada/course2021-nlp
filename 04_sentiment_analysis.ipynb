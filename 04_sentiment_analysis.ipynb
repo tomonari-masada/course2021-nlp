{
  "nbformat": 4,
  "nbformat_minor": 0,
  "metadata": {
    "colab": {
      "name": "04_sentiment_analysis.ipynb",
      "provenance": [],
      "collapsed_sections": [],
      "mount_file_id": "1N4lKbEeHtRTAvV47AjDDqnaHul1tGFxh",
      "authorship_tag": "ABX9TyNSN3yzG/RLzEnaBnnd4bCg",
      "include_colab_link": true
    },
    "kernelspec": {
      "name": "python3",
      "display_name": "Python 3"
    }
  },
  "cells": [
    {
      "cell_type": "markdown",
      "metadata": {
        "id": "view-in-github",
        "colab_type": "text"
      },
      "source": [
        "<a href=\"https://colab.research.google.com/github/tomonari-masada/course2021-nlp/blob/main/04_sentiment_analysis.ipynb\" target=\"_parent\"><img src=\"https://colab.research.google.com/assets/colab-badge.svg\" alt=\"Open In Colab\"/></a>"
      ]
    },
    {
      "cell_type": "markdown",
      "metadata": {
        "id": "oo-mY9Lf_9NT"
      },
      "source": [
        "# 単語埋め込みを使った感情分析\n",
        "* IMDbデータで感情分析をおこなう。\n",
        "* fastTextを使って作成した文書埋め込みベクトルを使う。\n",
        "* 分類には、さまざまな古典的な機械学習の手法を使ってみる。"
      ]
    },
    {
      "cell_type": "code",
      "metadata": {
        "id": "xPV5rjYhASM6"
      },
      "source": [
        "import numpy as np"
      ],
      "execution_count": null,
      "outputs": []
    },
    {
      "cell_type": "markdown",
      "metadata": {
        "id": "cswS9fn5BHd1"
      },
      "source": [
        "### データファイルを保存してあるGoogle Driveのデイレクトリを指定する"
      ]
    },
    {
      "cell_type": "code",
      "metadata": {
        "id": "LwvTG5ac_3KG"
      },
      "source": [
        "PATH = '/content/drive/MyDrive/2021Courses/NLP/'"
      ],
      "execution_count": null,
      "outputs": []
    },
    {
      "cell_type": "markdown",
      "metadata": {
        "id": "Ix1kFwt-BNR3"
      },
      "source": [
        "### データを読み込む\n",
        "* データは文書埋め込みと文書ラベル（0か1）からなる。"
      ]
    },
    {
      "cell_type": "code",
      "metadata": {
        "id": "Yq3DxOR5AIg4"
      },
      "source": [
        "texts = dict()\n",
        "labels = dict()\n",
        "for tag in ['train', 'test']:\n",
        "  with open(f'{PATH}{tag}.npy', 'rb') as f:\n",
        "    texts[tag] = np.load(f)\n",
        "  with open(f'{PATH}{tag}_labels.npy', 'rb') as f:\n",
        "    labels[tag] = np.load(f)"
      ],
      "execution_count": null,
      "outputs": []
    },
    {
      "cell_type": "code",
      "metadata": {
        "id": "Mx7UQSGIAQWo"
      },
      "source": [
        "for tag in ['train', 'test']:\n",
        "  print(texts[tag].shape)"
      ],
      "execution_count": null,
      "outputs": []
    },
    {
      "cell_type": "markdown",
      "metadata": {
        "id": "j6nhT1XhBVDk"
      },
      "source": [
        "### scikit-learnのLinearSVCを使う\n",
        "* 各自、他の分類器も試す。"
      ]
    },
    {
      "cell_type": "code",
      "metadata": {
        "id": "56CHYI2EAYZy"
      },
      "source": [
        "from sklearn import svm\n",
        "from sklearn.model_selection import cross_val_score\n",
        "\n",
        "for C in 10. ** np.arange(-3, 5):\n",
        "  clf = svm.LinearSVC(C=C, random_state=42)\n",
        "  scores = cross_val_score(clf, texts['train'], labels['train'], cv=5)\n",
        "  print(f'{C:.2e} ' + ' '.join([f'{score:.3f}' for score in scores]) + f' | avg {scores.mean():.3f}')"
      ],
      "execution_count": null,
      "outputs": []
    }
  ]
}