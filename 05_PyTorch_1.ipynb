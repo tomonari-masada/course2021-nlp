{
  "nbformat": 4,
  "nbformat_minor": 0,
  "metadata": {
    "colab": {
      "name": "05_PyTorch_1.ipynb",
      "provenance": [],
      "collapsed_sections": [],
      "authorship_tag": "ABX9TyOCDb90LmrdZIq0/mTFgwD7",
      "include_colab_link": true
    },
    "kernelspec": {
      "name": "python3",
      "display_name": "Python 3"
    },
    "accelerator": "GPU"
  },
  "cells": [
    {
      "cell_type": "markdown",
      "metadata": {
        "id": "view-in-github",
        "colab_type": "text"
      },
      "source": [
        "<a href=\"https://colab.research.google.com/github/tomonari-masada/course2021-nlp/blob/main/05_PyTorch_1.ipynb\" target=\"_parent\"><img src=\"https://colab.research.google.com/assets/colab-badge.svg\" alt=\"Open In Colab\"/></a>"
      ]
    },
    {
      "cell_type": "markdown",
      "metadata": {
        "id": "jEY4wJjS58Uw"
      },
      "source": [
        "# PyTorch入門（１）\n",
        "参考資料: \n",
        "* PyTorch公式のチュートリアル https://pytorch.org/tutorials/index.html"
      ]
    },
    {
      "cell_type": "markdown",
      "metadata": {
        "id": "D4eoNznm85cQ"
      },
      "source": [
        "注意:\n",
        "* ランタイムのタイプをGPUにしておいてください。\n",
        "  * 上のメニュー「ランタイム」→「ランタイムのタイプを変更」で「GPU」を選択 \n"
      ]
    },
    {
      "cell_type": "markdown",
      "metadata": {
        "id": "Nb3T_6gD6Anx"
      },
      "source": [
        "## 1. テンソル"
      ]
    },
    {
      "cell_type": "code",
      "metadata": {
        "id": "HnNFPrUe53sF"
      },
      "source": [
        "import numpy as np\n",
        "import torch"
      ],
      "execution_count": null,
      "outputs": []
    },
    {
      "cell_type": "markdown",
      "metadata": {
        "id": "3FXJ5hE3qeL4"
      },
      "source": [
        "### テンソルの作り方"
      ]
    },
    {
      "cell_type": "code",
      "metadata": {
        "id": "vJm1Nbbo--oF",
        "colab": {
          "base_uri": "https://localhost:8080/"
        },
        "outputId": "a4d85f37-6ace-4c54-b020-08a580619f09"
      },
      "source": [
        "# 1で埋められたテンソルを作る\n",
        "x = torch.ones(2, 5)\n",
        "print(x)"
      ],
      "execution_count": null,
      "outputs": [
        {
          "output_type": "stream",
          "name": "stdout",
          "text": [
            "tensor([[1., 1., 1., 1., 1.],\n",
            "        [1., 1., 1., 1., 1.]])\n"
          ]
        }
      ]
    },
    {
      "cell_type": "code",
      "metadata": {
        "id": "_JKj6OfJBpcv",
        "colab": {
          "base_uri": "https://localhost:8080/"
        },
        "outputId": "253ad91e-6276-408b-ebb5-550f7ffce7f6"
      },
      "source": [
        "# 要素のデータ型を確認する\n",
        "print(x.dtype)"
      ],
      "execution_count": null,
      "outputs": [
        {
          "output_type": "stream",
          "name": "stdout",
          "text": [
            "torch.float32\n"
          ]
        }
      ]
    },
    {
      "cell_type": "code",
      "metadata": {
        "id": "v2_2JQuB_Efe",
        "colab": {
          "base_uri": "https://localhost:8080/"
        },
        "outputId": "7ff9245f-7fd8-4af8-c86f-61d18bad922e"
      },
      "source": [
        "# 0で埋められたテンソルを作る\n",
        "x = torch.zeros(4, 4)\n",
        "print(x)"
      ],
      "execution_count": null,
      "outputs": [
        {
          "output_type": "stream",
          "name": "stdout",
          "text": [
            "tensor([[0., 0., 0., 0.],\n",
            "        [0., 0., 0., 0.],\n",
            "        [0., 0., 0., 0.],\n",
            "        [0., 0., 0., 0.]])\n"
          ]
        }
      ]
    },
    {
      "cell_type": "code",
      "metadata": {
        "id": "9yyGCRno_TXq",
        "colab": {
          "base_uri": "https://localhost:8080/"
        },
        "outputId": "334709f0-de0b-42f1-afba-90842fbc5d08"
      },
      "source": [
        "# 特定の値で埋められたテンソルを作る\n",
        "x = torch.full((2, 3), 3.141592)\n",
        "print(x)"
      ],
      "execution_count": null,
      "outputs": [
        {
          "output_type": "stream",
          "name": "stdout",
          "text": [
            "tensor([[3.1416, 3.1416, 3.1416],\n",
            "        [3.1416, 3.1416, 3.1416]])\n"
          ]
        }
      ]
    },
    {
      "cell_type": "code",
      "metadata": {
        "id": "REXovnHcq18O",
        "colab": {
          "base_uri": "https://localhost:8080/"
        },
        "outputId": "63d2d1de-abd7-4f79-cf6e-fda4d9f8d4a2"
      },
      "source": [
        "# 不定な値を要素とするテンソルを作る\n",
        "x = torch.empty(5, 3) \n",
        "print(x)"
      ],
      "execution_count": null,
      "outputs": [
        {
          "output_type": "stream",
          "name": "stdout",
          "text": [
            "tensor([[-6.6738e+06,  3.0956e-41,  3.3631e-44],\n",
            "        [ 0.0000e+00,         nan,  0.0000e+00],\n",
            "        [ 1.1578e+27,  1.1362e+30,  7.1547e+22],\n",
            "        [ 4.5828e+30,  1.2121e+04,  7.1846e+22],\n",
            "        [ 9.2198e-39,  7.0374e+22,  1.8515e+28]])\n"
          ]
        }
      ]
    },
    {
      "cell_type": "code",
      "metadata": {
        "id": "3ajeiMCeq5-y",
        "colab": {
          "base_uri": "https://localhost:8080/"
        },
        "outputId": "bacee6d0-8ccf-46c4-ea8a-9d20bb7f775f"
      },
      "source": [
        "# [0,1)の一様乱数を要素とするテンソルを作る\n",
        "x = torch.rand(5, 3)\n",
        "print(x)"
      ],
      "execution_count": null,
      "outputs": [
        {
          "output_type": "stream",
          "name": "stdout",
          "text": [
            "tensor([[0.8415, 0.5839, 0.1145],\n",
            "        [0.9596, 0.3560, 0.4337],\n",
            "        [0.6644, 0.5246, 0.7349],\n",
            "        [0.3655, 0.6408, 0.5650],\n",
            "        [0.7820, 0.0212, 0.2225]])\n"
          ]
        }
      ]
    },
    {
      "cell_type": "code",
      "metadata": {
        "id": "eNtphqmer-bo",
        "colab": {
          "base_uri": "https://localhost:8080/"
        },
        "outputId": "e9b91b8a-b5c4-49c4-eee6-9ca5191c47c2"
      },
      "source": [
        "# Pythonのリストからテンソルを作る\n",
        "x = torch.tensor([5.5, 3])\n",
        "print(x)"
      ],
      "execution_count": null,
      "outputs": [
        {
          "output_type": "stream",
          "name": "stdout",
          "text": [
            "tensor([5.5000, 3.0000])\n"
          ]
        }
      ]
    },
    {
      "cell_type": "code",
      "metadata": {
        "id": "CQD9IrR__a4O",
        "colab": {
          "base_uri": "https://localhost:8080/"
        },
        "outputId": "88f7d856-0275-4eea-d346-3e94bc2c03d1"
      },
      "source": [
        "# NumPyのndarrayからテンソルを作る\n",
        "a = np.array([1, 2, 3])\n",
        "print(a)\n",
        "t = torch.from_numpy(a)\n",
        "print(t)\n",
        "\n",
        "a[0] = -1\n",
        "print(t)\n",
        "t[1] = -2\n",
        "print(a)"
      ],
      "execution_count": null,
      "outputs": [
        {
          "output_type": "stream",
          "name": "stdout",
          "text": [
            "[1 2 3]\n",
            "tensor([1, 2, 3])\n",
            "tensor([-1,  2,  3])\n",
            "[-1 -2  3]\n"
          ]
        }
      ]
    },
    {
      "cell_type": "code",
      "metadata": {
        "id": "pZMEJU17AUMf",
        "colab": {
          "base_uri": "https://localhost:8080/"
        },
        "outputId": "9b7b1b47-120b-4f70-977d-519e6c1252a1"
      },
      "source": [
        "# cloneメソッドを使ってテンソルの複製を作る\n",
        "a = np.array([1, 2, 3])\n",
        "print(a)\n",
        "t = torch.from_numpy(a)\n",
        "print(t)\n",
        "s = t.clone()\n",
        "print(s)\n",
        "\n",
        "s[0] = -1\n",
        "print(a)\n",
        "print(s)\n",
        "\n",
        "a[1] = -2\n",
        "print(a)\n",
        "print(s)"
      ],
      "execution_count": null,
      "outputs": [
        {
          "output_type": "stream",
          "name": "stdout",
          "text": [
            "[1 2 3]\n",
            "tensor([1, 2, 3])\n",
            "tensor([1, 2, 3])\n",
            "[1 2 3]\n",
            "tensor([-1,  2,  3])\n",
            "[ 1 -2  3]\n",
            "tensor([-1,  2,  3])\n"
          ]
        }
      ]
    },
    {
      "cell_type": "code",
      "metadata": {
        "id": "pep3TEu8DT30",
        "colab": {
          "base_uri": "https://localhost:8080/"
        },
        "outputId": "7edf646a-2ac6-4407-eb84-48330d3dff22"
      },
      "source": [
        "# テンソルからndarrayを作る\n",
        "x = torch.ones(3,4)\n",
        "print(x)\n",
        "y = x.numpy()\n",
        "print(y)\n",
        "print()\n",
        "\n",
        "x[0,0] = -1\n",
        "print(x)\n",
        "print(y)"
      ],
      "execution_count": null,
      "outputs": [
        {
          "output_type": "stream",
          "name": "stdout",
          "text": [
            "tensor([[1., 1., 1., 1.],\n",
            "        [1., 1., 1., 1.],\n",
            "        [1., 1., 1., 1.]])\n",
            "[[1. 1. 1. 1.]\n",
            " [1. 1. 1. 1.]\n",
            " [1. 1. 1. 1.]]\n",
            "tensor([[-1.,  1.,  1.,  1.],\n",
            "        [ 1.,  1.,  1.,  1.],\n",
            "        [ 1.,  1.,  1.,  1.]])\n",
            "[[-1.  1.  1.  1.]\n",
            " [ 1.  1.  1.  1.]\n",
            " [ 1.  1.  1.  1.]]\n",
            "\n"
          ]
        }
      ]
    },
    {
      "cell_type": "markdown",
      "metadata": {
        "id": "Ti9r0QyNauEN"
      },
      "source": [
        "* 参考: NumPyのnumpy.copyはshallow copy\n",
        " * https://numpy.org/doc/stable/reference/generated/numpy.copy.html\n"
      ]
    },
    {
      "cell_type": "code",
      "metadata": {
        "id": "Curpxrdlaa8S",
        "colab": {
          "base_uri": "https://localhost:8080/"
        },
        "outputId": "bea854ea-64e3-467f-dd81-917536dcb779"
      },
      "source": [
        "from copy import deepcopy\n",
        "\n",
        "x = torch.ones(3,4)\n",
        "print(x)\n",
        "y = deepcopy(x.numpy())\n",
        "x[0,0] = -1\n",
        "print(x)\n",
        "print(y)"
      ],
      "execution_count": null,
      "outputs": [
        {
          "output_type": "stream",
          "name": "stdout",
          "text": [
            "tensor([[1., 1., 1., 1.],\n",
            "        [1., 1., 1., 1.],\n",
            "        [1., 1., 1., 1.]])\n",
            "tensor([[-1.,  1.,  1.,  1.],\n",
            "        [ 1.,  1.,  1.,  1.],\n",
            "        [ 1.,  1.,  1.,  1.]])\n",
            "[[1. 1. 1. 1.]\n",
            " [1. 1. 1. 1.]\n",
            " [1. 1. 1. 1.]]\n"
          ]
        }
      ]
    },
    {
      "cell_type": "markdown",
      "metadata": {
        "id": "yH3xfOOtBXc7"
      },
      "source": [
        "### テンソルの形状を得る"
      ]
    },
    {
      "cell_type": "code",
      "metadata": {
        "id": "lGjDbafgsnc4",
        "colab": {
          "base_uri": "https://localhost:8080/"
        },
        "outputId": "facb6eb6-2d9a-49af-8b67-8da5c74b3223"
      },
      "source": [
        "x = torch.zeros(5, 3) \n",
        "print(x)\n",
        "\n",
        "print(x.size())\n",
        "print(x.shape)"
      ],
      "execution_count": null,
      "outputs": [
        {
          "output_type": "stream",
          "name": "stdout",
          "text": [
            "tensor([[0., 0., 0.],\n",
            "        [0., 0., 0.],\n",
            "        [0., 0., 0.],\n",
            "        [0., 0., 0.],\n",
            "        [0., 0., 0.]])\n",
            "torch.Size([5, 3])\n",
            "torch.Size([5, 3])\n"
          ]
        }
      ]
    },
    {
      "cell_type": "markdown",
      "metadata": {
        "id": "EQmjzqTiBGSm"
      },
      "source": [
        "### 既存のテンソルから新たにテンソルを作る"
      ]
    },
    {
      "cell_type": "code",
      "metadata": {
        "id": "yRt1jFlTBT2d",
        "colab": {
          "base_uri": "https://localhost:8080/"
        },
        "outputId": "79c4b37b-9c06-4493-ac28-302d2986451b"
      },
      "source": [
        "# 既存のテンソルから形状を引き継いで新たにテンソルを作る\n",
        "# 要素のデータ型は変更できる\n",
        "x2 = torch.randn_like(x, dtype=torch.float)\n",
        "print(x2)"
      ],
      "execution_count": null,
      "outputs": [
        {
          "output_type": "stream",
          "name": "stdout",
          "text": [
            "tensor([[-0.1899, -0.2854,  0.2315],\n",
            "        [ 0.3351, -0.0832, -0.2939],\n",
            "        [-1.8034,  0.9114,  1.0022],\n",
            "        [ 1.3136, -0.8853,  1.1224],\n",
            "        [ 0.8120, -0.5010, -0.3269]])\n"
          ]
        }
      ]
    },
    {
      "cell_type": "markdown",
      "metadata": {
        "id": "q_UZIAV06aqr"
      },
      "source": [
        "### テンソルの要素のデータ型いろいろ"
      ]
    },
    {
      "cell_type": "code",
      "metadata": {
        "id": "mXv3W-9zCjn1",
        "colab": {
          "base_uri": "https://localhost:8080/"
        },
        "outputId": "7675e75c-ae4e-490c-b494-53f032e2d04d"
      },
      "source": [
        "a = torch.tensor(1)\n",
        "print(a, a.dtype)"
      ],
      "execution_count": null,
      "outputs": [
        {
          "output_type": "stream",
          "name": "stdout",
          "text": [
            "tensor(1) torch.int64\n"
          ]
        }
      ]
    },
    {
      "cell_type": "code",
      "metadata": {
        "id": "JPHJ9pGa6Ra6",
        "colab": {
          "base_uri": "https://localhost:8080/"
        },
        "outputId": "78b29e45-8ad5-435c-f579-f01d40cde88b"
      },
      "source": [
        "x = torch.tensor(2.0)\n",
        "print(x, x.dtype)\n",
        "y = torch.tensor(2.0, dtype=torch.float64)\n",
        "print(y, y.dtype)\n",
        "z = torch.tensor(2.0, dtype=torch.float16)\n",
        "print(z, z.dtype)\n",
        "print()\n",
        "\n",
        "print(x + y + z)"
      ],
      "execution_count": null,
      "outputs": [
        {
          "output_type": "stream",
          "name": "stdout",
          "text": [
            "tensor(2.) torch.float32\n",
            "tensor(2., dtype=torch.float64) torch.float64\n",
            "tensor(2., dtype=torch.float16) torch.float16\n",
            "\n",
            "tensor(6., dtype=torch.float64)\n"
          ]
        }
      ]
    },
    {
      "cell_type": "code",
      "metadata": {
        "id": "7jIv5bx0Clps",
        "colab": {
          "base_uri": "https://localhost:8080/"
        },
        "outputId": "0eadd2dc-a312-4984-f63b-58e8c7c0d7b3"
      },
      "source": [
        "b = torch.tensor(True)\n",
        "print(b, b.dtype)"
      ],
      "execution_count": null,
      "outputs": [
        {
          "output_type": "stream",
          "name": "stdout",
          "text": [
            "tensor(True) torch.bool\n"
          ]
        }
      ]
    },
    {
      "cell_type": "markdown",
      "metadata": {
        "id": "mDrafV5e74Ca"
      },
      "source": [
        "### 特定の型のテンソルとして初期化(1)"
      ]
    },
    {
      "cell_type": "code",
      "metadata": {
        "id": "XXFfYPSG6ZFO",
        "colab": {
          "base_uri": "https://localhost:8080/"
        },
        "outputId": "2df8890f-92af-485d-ce91-60da1e6991d9"
      },
      "source": [
        "a = torch.tensor(1, dtype=torch.int32)\n",
        "print(a, a.dtype)\n",
        "x = torch.tensor(2.0, dtype=torch.float)\n",
        "print(x, x.dtype)\n",
        "z = torch.tensor(2.0, dtype=torch.double)\n",
        "print(z, z.dtype)"
      ],
      "execution_count": null,
      "outputs": [
        {
          "output_type": "stream",
          "name": "stdout",
          "text": [
            "tensor(1, dtype=torch.int32) torch.int32\n",
            "tensor(2.) torch.float32\n",
            "tensor(2., dtype=torch.float64) torch.float64\n"
          ]
        }
      ]
    },
    {
      "cell_type": "markdown",
      "metadata": {
        "id": "vQrL43C27wrG"
      },
      "source": [
        "### 特定の型のテンソルとして初期化(2)"
      ]
    },
    {
      "cell_type": "code",
      "metadata": {
        "id": "udgaTsg66syq",
        "colab": {
          "base_uri": "https://localhost:8080/"
        },
        "outputId": "366075d4-f7ab-415e-897c-b90ca7a21094"
      },
      "source": [
        "a = torch.IntTensor([1, 2, 3])\n",
        "print(a, a.dtype)\n",
        "x = torch.FloatTensor(np.array([2.0, -4.0]))\n",
        "print(x, x.dtype)\n",
        "y = torch.DoubleTensor([2.0, -4.0])\n",
        "print(y, y.dtype)\n",
        "b = torch.BoolTensor([1, 0, 2, 0])\n",
        "print(b, b.dtype)"
      ],
      "execution_count": null,
      "outputs": [
        {
          "output_type": "stream",
          "name": "stdout",
          "text": [
            "tensor([1, 2, 3], dtype=torch.int32) torch.int32\n",
            "tensor([ 2., -4.]) torch.float32\n",
            "tensor([ 2., -4.], dtype=torch.float64) torch.float64\n",
            "tensor([ True, False,  True, False]) torch.bool\n"
          ]
        }
      ]
    },
    {
      "cell_type": "markdown",
      "metadata": {
        "id": "vxW9yw9X7jZZ"
      },
      "source": [
        "### 要素の型の変更"
      ]
    },
    {
      "cell_type": "code",
      "metadata": {
        "id": "4fKa8r5g7C59",
        "colab": {
          "base_uri": "https://localhost:8080/"
        },
        "outputId": "719c9d2d-137b-48de-e6d0-1a8e981653fb"
      },
      "source": [
        "a = torch.tensor([1, 10])\n",
        "print(a, a.dtype)\n",
        "x = a.float()\n",
        "print(x, x.dtype)\n",
        "y = a.type(torch.float64)\n",
        "print(y, y.dtype)\n",
        "z = a.type_as(x)\n",
        "print(z, z.dtype)"
      ],
      "execution_count": null,
      "outputs": [
        {
          "output_type": "stream",
          "name": "stdout",
          "text": [
            "tensor([ 1, 10]) torch.int64\n",
            "tensor([ 1., 10.]) torch.float32\n",
            "tensor([ 1., 10.], dtype=torch.float64) torch.float64\n",
            "tensor([ 1., 10.]) torch.float32\n"
          ]
        }
      ]
    },
    {
      "cell_type": "markdown",
      "metadata": {
        "id": "S5YSHzUR8E_B"
      },
      "source": [
        "### スカラーとベクトル"
      ]
    },
    {
      "cell_type": "code",
      "metadata": {
        "id": "f0KRJeiu7mE0",
        "colab": {
          "base_uri": "https://localhost:8080/"
        },
        "outputId": "75ca9e09-5caa-4d43-cc6e-f362717cafab"
      },
      "source": [
        "s = torch.tensor(1.0)\n",
        "print(s)\n",
        "print(s.dim())\n",
        "print(s.shape)\n",
        "v = torch.tensor([1.0, 2.0, 3.0, 4.0])\n",
        "print(v)\n",
        "print(v.dim())\n",
        "print(v.shape)\n",
        "v = torch.tensor([4.0])\n",
        "print(v)\n",
        "print(v.dim())\n",
        "print(v.shape)"
      ],
      "execution_count": null,
      "outputs": [
        {
          "output_type": "stream",
          "name": "stdout",
          "text": [
            "tensor(1.)\n",
            "0\n",
            "torch.Size([])\n",
            "tensor([1., 2., 3., 4.])\n",
            "1\n",
            "torch.Size([4])\n",
            "tensor([4.])\n",
            "1\n",
            "torch.Size([1])\n"
          ]
        }
      ]
    },
    {
      "cell_type": "code",
      "metadata": {
        "id": "gBuSFAnqvq4i",
        "colab": {
          "base_uri": "https://localhost:8080/"
        },
        "outputId": "78895331-a784-4bb1-a53d-e9aa52da5147"
      },
      "source": [
        "# 要素がひとつのテンソルから、その要素を単なる数値として取り出す\n",
        "x = torch.randn(1)\n",
        "print(x)\n",
        "print(x.item())"
      ],
      "execution_count": null,
      "outputs": [
        {
          "output_type": "stream",
          "name": "stdout",
          "text": [
            "tensor([-1.2094])\n",
            "-1.2094446420669556\n"
          ]
        }
      ]
    },
    {
      "cell_type": "markdown",
      "metadata": {
        "id": "ohAYO4Om8WmT"
      },
      "source": [
        "### 行列"
      ]
    },
    {
      "cell_type": "code",
      "metadata": {
        "id": "SrayRh_48EPA",
        "colab": {
          "base_uri": "https://localhost:8080/"
        },
        "outputId": "1d1c26cc-4c47-41b9-db15-0b656f5ebbe6"
      },
      "source": [
        "m = torch.tensor([[1.0, 2.0], [3.0, 4.0]])\n",
        "print(m)\n",
        "print(m.dim())\n",
        "print(m.shape)\n",
        "print(m[1, 1])"
      ],
      "execution_count": null,
      "outputs": [
        {
          "output_type": "stream",
          "name": "stdout",
          "text": [
            "tensor([[1., 2.],\n",
            "        [3., 4.]])\n",
            "2\n",
            "torch.Size([2, 2])\n",
            "tensor(4.)\n"
          ]
        }
      ]
    },
    {
      "cell_type": "markdown",
      "metadata": {
        "id": "6XRgzduC8oID"
      },
      "source": [
        "### テンソル"
      ]
    },
    {
      "cell_type": "code",
      "metadata": {
        "id": "ZPERpt9z8YJ0",
        "colab": {
          "base_uri": "https://localhost:8080/"
        },
        "outputId": "cb441c82-d818-4a51-c9dc-29d9cc0404b9"
      },
      "source": [
        "t = torch.tensor([[[1.0, 2.0], [3.0, 4.0]], [[5.0, 6.0], [7.0, 8.0]]])\n",
        "print(t)\n",
        "print(t.dim())\n",
        "print(t.shape)\n",
        "print(t[1, 1, 1])"
      ],
      "execution_count": null,
      "outputs": [
        {
          "output_type": "stream",
          "name": "stdout",
          "text": [
            "tensor([[[1., 2.],\n",
            "         [3., 4.]],\n",
            "\n",
            "        [[5., 6.],\n",
            "         [7., 8.]]])\n",
            "3\n",
            "torch.Size([2, 2, 2])\n",
            "tensor(8.)\n"
          ]
        }
      ]
    },
    {
      "cell_type": "code",
      "metadata": {
        "id": "MW1dYvFR8qYF",
        "colab": {
          "base_uri": "https://localhost:8080/"
        },
        "outputId": "9fe81305-94fe-4da4-d4fa-065630d0fe7a"
      },
      "source": [
        "t = torch.tensor([[[[1.0, 1.0], [2.0, 2.0]], [[3.0, 3.0], [4.0, 4.0]]],\n",
        "                        [[[5.0, 5.0], [6.0, 6.0]], [[7.0, 7.0], [8.0, 8.0]]]])\n",
        "print(t)\n",
        "print(t.dim())\n",
        "print(t.shape)\n",
        "print(t[1, 1, 1, 1])"
      ],
      "execution_count": null,
      "outputs": [
        {
          "output_type": "stream",
          "name": "stdout",
          "text": [
            "tensor([[[[1., 1.],\n",
            "          [2., 2.]],\n",
            "\n",
            "         [[3., 3.],\n",
            "          [4., 4.]]],\n",
            "\n",
            "\n",
            "        [[[5., 5.],\n",
            "          [6., 6.]],\n",
            "\n",
            "         [[7., 7.],\n",
            "          [8., 8.]]]])\n",
            "4\n",
            "torch.Size([2, 2, 2, 2])\n",
            "tensor(8.)\n"
          ]
        }
      ]
    },
    {
      "cell_type": "markdown",
      "metadata": {
        "id": "PZQMWS__ohwA"
      },
      "source": [
        "## 2. テンソルのビュー "
      ]
    },
    {
      "cell_type": "markdown",
      "metadata": {
        "id": "Rjqhtv-n9mM4"
      },
      "source": [
        "### view()メソッド\n",
        "* viewとreshapeについては、下記リンク先を参照。\n",
        " * https://pytorch.org/docs/stable/tensor_view.html"
      ]
    },
    {
      "cell_type": "code",
      "metadata": {
        "id": "4VNbS-gekWPb",
        "colab": {
          "base_uri": "https://localhost:8080/"
        },
        "outputId": "a7ed1cae-dae8-447a-dc65-4a99d55a8bf9"
      },
      "source": [
        "v = torch.arange(0, 12)\n",
        "print(v)\n",
        "print(v.shape)"
      ],
      "execution_count": null,
      "outputs": [
        {
          "output_type": "stream",
          "name": "stdout",
          "text": [
            "tensor([ 0,  1,  2,  3,  4,  5,  6,  7,  8,  9, 10, 11])\n",
            "torch.Size([12])\n"
          ]
        }
      ]
    },
    {
      "cell_type": "code",
      "metadata": {
        "id": "D-R-5W6d9bwV",
        "colab": {
          "base_uri": "https://localhost:8080/"
        },
        "outputId": "1e450b8f-d2de-4198-e21b-6c9f188789a4"
      },
      "source": [
        "m34 = v.view(3, 4)\n",
        "print(m34)\n",
        "print(m34.shape)\n",
        "\n",
        "m43 = v.view(4, -1)\n",
        "print(m43)\n",
        "print(m43.shape)"
      ],
      "execution_count": null,
      "outputs": [
        {
          "output_type": "stream",
          "name": "stdout",
          "text": [
            "tensor([[ 0,  1,  2,  3],\n",
            "        [ 4,  5,  6,  7],\n",
            "        [ 8,  9, 10, 11]])\n",
            "torch.Size([3, 4])\n",
            "tensor([[ 0,  1,  2],\n",
            "        [ 3,  4,  5],\n",
            "        [ 6,  7,  8],\n",
            "        [ 9, 10, 11]])\n",
            "torch.Size([4, 3])\n"
          ]
        }
      ]
    },
    {
      "cell_type": "markdown",
      "metadata": {
        "id": "JF4-o8Ow-vZK"
      },
      "source": [
        "### reshape()メソッド"
      ]
    },
    {
      "cell_type": "code",
      "metadata": {
        "id": "3IsUrajfkJRC",
        "colab": {
          "base_uri": "https://localhost:8080/"
        },
        "outputId": "b3f9c91a-2ab8-4228-80d7-549ac6f26bc9"
      },
      "source": [
        "v = torch.arange(0, 12)\n",
        "print(v)"
      ],
      "execution_count": null,
      "outputs": [
        {
          "output_type": "stream",
          "name": "stdout",
          "text": [
            "tensor([ 0,  1,  2,  3,  4,  5,  6,  7,  8,  9, 10, 11])\n"
          ]
        }
      ]
    },
    {
      "cell_type": "code",
      "metadata": {
        "id": "gY9SucFBkHCU",
        "colab": {
          "base_uri": "https://localhost:8080/"
        },
        "outputId": "5c2ffdcc-6f43-4e86-d7fd-b25432decc51"
      },
      "source": [
        "m26 = v.view(2, 6)\n",
        "print(m26)\n",
        "print(m26.shape)"
      ],
      "execution_count": null,
      "outputs": [
        {
          "output_type": "stream",
          "name": "stdout",
          "text": [
            "tensor([[ 0,  1,  2,  3,  4,  5],\n",
            "        [ 6,  7,  8,  9, 10, 11]])\n",
            "torch.Size([2, 6])\n"
          ]
        }
      ]
    },
    {
      "cell_type": "markdown",
      "metadata": {
        "id": "49mAdtBNkqGR"
      },
      "source": [
        "### contiguousなテンソルとそうでないテンソルの違い\n",
        "* 「contiguousである」とは、テンソルとしての要素の配置の順番が、メモリ上での要素の配置の順番と一致していることを言う。\n",
        "* 例えばtメソッドは、見かけ上で転置するだけなので、その結果得られるテンソルでの要素の配置の順番は、メモリ上の要素の配置の順番と一致しなくなる。\n",
        "* contiguous()メソッドを呼ぶことで、強制的にメモリ上の要素の配置の順番を、テンソルでのそれに一致させることができる。"
      ]
    },
    {
      "cell_type": "code",
      "metadata": {
        "id": "Up7birrIkmWO",
        "colab": {
          "base_uri": "https://localhost:8080/"
        },
        "outputId": "a6dd6482-17ef-4ddd-98f8-a67663718703"
      },
      "source": [
        "print(m26.is_contiguous())\n",
        "\n",
        "m62 = m26.t()\n",
        "print(m62)\n",
        "print(m62.is_contiguous())\n",
        "\n",
        "m62_new = m62.contiguous()\n",
        "print(m62_new)\n",
        "print(m62_new.is_contiguous())"
      ],
      "execution_count": null,
      "outputs": [
        {
          "output_type": "stream",
          "name": "stdout",
          "text": [
            "True\n",
            "tensor([[ 0,  6],\n",
            "        [ 1,  7],\n",
            "        [ 2,  8],\n",
            "        [ 3,  9],\n",
            "        [ 4, 10],\n",
            "        [ 5, 11]])\n",
            "False\n",
            "tensor([[ 0,  6],\n",
            "        [ 1,  7],\n",
            "        [ 2,  8],\n",
            "        [ 3,  9],\n",
            "        [ 4, 10],\n",
            "        [ 5, 11]])\n",
            "True\n"
          ]
        }
      ]
    },
    {
      "cell_type": "code",
      "metadata": {
        "id": "W1hBFq0PuXbq",
        "colab": {
          "base_uri": "https://localhost:8080/"
        },
        "outputId": "7316ec45-70d1-4f78-d26f-8f4291ae096e"
      },
      "source": [
        "v = torch.arange(0, 12)\n",
        "m26 = v.view(2, 6)\n",
        "m34 = m26.view(3, 4)\n",
        "print(m34)"
      ],
      "execution_count": null,
      "outputs": [
        {
          "output_type": "stream",
          "name": "stdout",
          "text": [
            "tensor([[ 0,  1,  2,  3],\n",
            "        [ 4,  5,  6,  7],\n",
            "        [ 8,  9, 10, 11]])\n"
          ]
        }
      ]
    },
    {
      "cell_type": "code",
      "metadata": {
        "id": "mElojr5UmzvS",
        "colab": {
          "base_uri": "https://localhost:8080/",
          "height": 210
        },
        "outputId": "b05cfc39-48c5-4524-9c3c-e521260d16ee"
      },
      "source": [
        "v = torch.arange(0, 12)\n",
        "m26 = v.view(2, 6)\n",
        "m62 = m26.t()\n",
        "m34 = m62.view(3, 4) # これはエラーになる"
      ],
      "execution_count": null,
      "outputs": [
        {
          "output_type": "error",
          "ename": "RuntimeError",
          "evalue": "ignored",
          "traceback": [
            "\u001b[0;31m---------------------------------------------------------------------------\u001b[0m",
            "\u001b[0;31mRuntimeError\u001b[0m                              Traceback (most recent call last)",
            "\u001b[0;32m<ipython-input-32-92802f3987d6>\u001b[0m in \u001b[0;36m<module>\u001b[0;34m()\u001b[0m\n\u001b[1;32m      2\u001b[0m \u001b[0mm26\u001b[0m \u001b[0;34m=\u001b[0m \u001b[0mv\u001b[0m\u001b[0;34m.\u001b[0m\u001b[0mview\u001b[0m\u001b[0;34m(\u001b[0m\u001b[0;36m2\u001b[0m\u001b[0;34m,\u001b[0m \u001b[0;36m6\u001b[0m\u001b[0;34m)\u001b[0m\u001b[0;34m\u001b[0m\u001b[0;34m\u001b[0m\u001b[0m\n\u001b[1;32m      3\u001b[0m \u001b[0mm62\u001b[0m \u001b[0;34m=\u001b[0m \u001b[0mm26\u001b[0m\u001b[0;34m.\u001b[0m\u001b[0mt\u001b[0m\u001b[0;34m(\u001b[0m\u001b[0;34m)\u001b[0m\u001b[0;34m\u001b[0m\u001b[0;34m\u001b[0m\u001b[0m\n\u001b[0;32m----> 4\u001b[0;31m \u001b[0mm34\u001b[0m \u001b[0;34m=\u001b[0m \u001b[0mm62\u001b[0m\u001b[0;34m.\u001b[0m\u001b[0mview\u001b[0m\u001b[0;34m(\u001b[0m\u001b[0;36m3\u001b[0m\u001b[0;34m,\u001b[0m \u001b[0;36m4\u001b[0m\u001b[0;34m)\u001b[0m \u001b[0;31m# これはエラーになる\u001b[0m\u001b[0;34m\u001b[0m\u001b[0;34m\u001b[0m\u001b[0m\n\u001b[0m",
            "\u001b[0;31mRuntimeError\u001b[0m: view size is not compatible with input tensor's size and stride (at least one dimension spans across two contiguous subspaces). Use .reshape(...) instead."
          ]
        }
      ]
    },
    {
      "cell_type": "code",
      "metadata": {
        "id": "ktDwmwFym__Q",
        "colab": {
          "base_uri": "https://localhost:8080/"
        },
        "outputId": "0ce4f70f-4971-45ea-b005-f33d48d185fe"
      },
      "source": [
        "v = torch.arange(0, 12)\n",
        "m26 = v.view(2, 6)\n",
        "m62 = m26.t()\n",
        "m34 = m62.reshape(3, 4) # reshapeではエラーにならない\n",
        "print(m62)\n",
        "print(m34)"
      ],
      "execution_count": null,
      "outputs": [
        {
          "output_type": "stream",
          "name": "stdout",
          "text": [
            "tensor([[ 0,  6],\n",
            "        [ 1,  7],\n",
            "        [ 2,  8],\n",
            "        [ 3,  9],\n",
            "        [ 4, 10],\n",
            "        [ 5, 11]])\n",
            "tensor([[ 0,  6,  1,  7],\n",
            "        [ 2,  8,  3,  9],\n",
            "        [ 4, 10,  5, 11]])\n"
          ]
        }
      ]
    },
    {
      "cell_type": "code",
      "metadata": {
        "id": "AvQRiLG4m3Nq",
        "colab": {
          "base_uri": "https://localhost:8080/"
        },
        "outputId": "7d781f83-c0df-4777-95e2-506918f0c2eb"
      },
      "source": [
        "v = torch.arange(0, 12)\n",
        "m26 = v.view(2, 6)\n",
        "m62 = m26.t()\n",
        "m62_new = m62.contiguous() # contiguousにしてからだと・・・\n",
        "m34 = m62_new.view(3, 4) # エラーにならない\n",
        "print(m62)\n",
        "print(m34)"
      ],
      "execution_count": null,
      "outputs": [
        {
          "output_type": "stream",
          "name": "stdout",
          "text": [
            "tensor([[ 0,  6],\n",
            "        [ 1,  7],\n",
            "        [ 2,  8],\n",
            "        [ 3,  9],\n",
            "        [ 4, 10],\n",
            "        [ 5, 11]])\n",
            "tensor([[ 0,  6,  1,  7],\n",
            "        [ 2,  8,  3,  9],\n",
            "        [ 4, 10,  5, 11]])\n"
          ]
        }
      ]
    },
    {
      "cell_type": "markdown",
      "metadata": {
        "id": "s8QXyEMqd3qV"
      },
      "source": [
        "### テンソルとその要素のメモリ上での配置\n",
        "* 下のリンク先が詳しい。\n",
        " * https://livebook.manning.com/book/deep-learning-with-pytorch/chapter-3/v-12/198"
      ]
    },
    {
      "cell_type": "code",
      "metadata": {
        "id": "Kz8s7Hv_c8O5",
        "colab": {
          "base_uri": "https://localhost:8080/"
        },
        "outputId": "c19683a5-429d-48c8-aceb-0e3b0f858cc5"
      },
      "source": [
        "m = torch.tensor([[4.0, 1.0], [5.0, 3.0], [2.0, 1.0]])\n",
        "print(m)\n",
        "print(m.storage())"
      ],
      "execution_count": null,
      "outputs": [
        {
          "output_type": "stream",
          "name": "stdout",
          "text": [
            "tensor([[4., 1.],\n",
            "        [5., 3.],\n",
            "        [2., 1.]])\n",
            " 4.0\n",
            " 1.0\n",
            " 5.0\n",
            " 3.0\n",
            " 2.0\n",
            " 1.0\n",
            "[torch.FloatStorage of size 6]\n"
          ]
        }
      ]
    },
    {
      "cell_type": "code",
      "metadata": {
        "id": "Pl9H1MKLdDmc",
        "colab": {
          "base_uri": "https://localhost:8080/"
        },
        "outputId": "416deea9-45bc-455b-84fa-111f2a8f3db9"
      },
      "source": [
        "m = torch.tensor([[4.0, 1.0], [5.0, 3.0], [2.0, 1.0]])\n",
        "m = m.t()\n",
        "print(m)\n",
        "print(m.storage())"
      ],
      "execution_count": null,
      "outputs": [
        {
          "output_type": "stream",
          "name": "stdout",
          "text": [
            "tensor([[4., 5., 2.],\n",
            "        [1., 3., 1.]])\n",
            " 4.0\n",
            " 1.0\n",
            " 5.0\n",
            " 3.0\n",
            " 2.0\n",
            " 1.0\n",
            "[torch.FloatStorage of size 6]\n"
          ]
        }
      ]
    },
    {
      "cell_type": "markdown",
      "metadata": {
        "id": "kOmNOlTYouJc"
      },
      "source": [
        "## 3. テンソルの操作"
      ]
    },
    {
      "cell_type": "markdown",
      "metadata": {
        "id": "b7x8e_cbtFQ8"
      },
      "source": [
        "### 演算"
      ]
    },
    {
      "cell_type": "code",
      "metadata": {
        "id": "1pUfEhrdtDBq",
        "colab": {
          "base_uri": "https://localhost:8080/"
        },
        "outputId": "0e90fe2c-04cd-453f-f214-1ae365a1ba08"
      },
      "source": [
        "x = torch.rand(5, 3)\n",
        "y = torch.rand(5, 3)\n",
        "print(x)\n",
        "print(y)\n",
        "print(x + y)"
      ],
      "execution_count": null,
      "outputs": [
        {
          "output_type": "stream",
          "name": "stdout",
          "text": [
            "tensor([[4.1936e-01, 9.8843e-01, 9.8131e-01],\n",
            "        [2.5286e-01, 3.4098e-01, 8.9567e-01],\n",
            "        [7.6979e-01, 1.2013e-01, 9.8493e-01],\n",
            "        [2.7389e-01, 6.7922e-01, 6.9708e-04],\n",
            "        [7.0776e-02, 1.5792e-01, 6.2412e-01]])\n",
            "tensor([[0.7726, 0.9800, 0.7196],\n",
            "        [0.8080, 0.8283, 0.0552],\n",
            "        [0.6343, 0.1871, 0.2728],\n",
            "        [0.7161, 0.2366, 0.2699],\n",
            "        [0.6480, 0.4551, 0.8095]])\n",
            "tensor([[1.1920, 1.9684, 1.7009],\n",
            "        [1.0609, 1.1693, 0.9508],\n",
            "        [1.4041, 0.3072, 1.2578],\n",
            "        [0.9899, 0.9158, 0.2706],\n",
            "        [0.7187, 0.6130, 1.4336]])\n"
          ]
        }
      ]
    },
    {
      "cell_type": "code",
      "metadata": {
        "id": "G4peakdFtPDd",
        "colab": {
          "base_uri": "https://localhost:8080/"
        },
        "outputId": "df02b188-a5c7-4a03-f293-fb6048140082"
      },
      "source": [
        "print(torch.add(x, y))"
      ],
      "execution_count": null,
      "outputs": [
        {
          "output_type": "stream",
          "name": "stdout",
          "text": [
            "tensor([[1.1920, 1.9684, 1.7009],\n",
            "        [1.0609, 1.1693, 0.9508],\n",
            "        [1.4041, 0.3072, 1.2578],\n",
            "        [0.9899, 0.9158, 0.2706],\n",
            "        [0.7187, 0.6130, 1.4336]])\n"
          ]
        }
      ]
    },
    {
      "cell_type": "code",
      "metadata": {
        "id": "Y5if6ThktSoX",
        "colab": {
          "base_uri": "https://localhost:8080/"
        },
        "outputId": "471f0d8c-8c88-4e80-fe7e-fa97dd563296"
      },
      "source": [
        "result = torch.empty(5, 3)\n",
        "torch.add(x, y, out=result)\n",
        "print(result)"
      ],
      "execution_count": null,
      "outputs": [
        {
          "output_type": "stream",
          "name": "stdout",
          "text": [
            "tensor([[1.1920, 1.9684, 1.7009],\n",
            "        [1.0609, 1.1693, 0.9508],\n",
            "        [1.4041, 0.3072, 1.2578],\n",
            "        [0.9899, 0.9158, 0.2706],\n",
            "        [0.7187, 0.6130, 1.4336]])\n"
          ]
        }
      ]
    },
    {
      "cell_type": "markdown",
      "metadata": {
        "id": "vrT0mREK-_xK"
      },
      "source": [
        "### NumPyのndarrayからfrom_numpy()でPyTorchのテンソルを作る"
      ]
    },
    {
      "cell_type": "code",
      "metadata": {
        "id": "kAHQnU5e-TNN",
        "colab": {
          "base_uri": "https://localhost:8080/"
        },
        "outputId": "a203921e-c303-4a57-db47-5420c5778a81"
      },
      "source": [
        "a = np.zeros(3)\n",
        "t = torch.from_numpy(a)\n",
        "print(a)\n",
        "print(t)\n",
        "\n",
        "# 元のndarrayを変更するとテンソルも変更されることに注意！\n",
        "np.add(a, 1, out=a)\n",
        "print(a)\n",
        "print(t)"
      ],
      "execution_count": null,
      "outputs": [
        {
          "output_type": "stream",
          "name": "stdout",
          "text": [
            "[0. 0. 0.]\n",
            "tensor([0., 0., 0.], dtype=torch.float64)\n",
            "[1. 1. 1.]\n",
            "tensor([1., 1., 1.], dtype=torch.float64)\n"
          ]
        }
      ]
    },
    {
      "cell_type": "code",
      "metadata": {
        "id": "zsDubMPx_KMH",
        "colab": {
          "base_uri": "https://localhost:8080/"
        },
        "outputId": "6c26ebe4-929a-41ec-b690-f91d0748b075"
      },
      "source": [
        "t = torch.zeros(3)\n",
        "a = t.numpy()\n",
        "print(t)\n",
        "print(a)\n",
        "\n",
        "t.add_(1)\n",
        "print(t)\n",
        "print(a)"
      ],
      "execution_count": null,
      "outputs": [
        {
          "output_type": "stream",
          "name": "stdout",
          "text": [
            "tensor([0., 0., 0.])\n",
            "[0. 0. 0.]\n",
            "tensor([1., 1., 1.])\n",
            "[1. 1. 1.]\n"
          ]
        }
      ]
    },
    {
      "cell_type": "markdown",
      "metadata": {
        "id": "ReF3qlOh_yfP"
      },
      "source": [
        "### clone()によるテンソルの複製"
      ]
    },
    {
      "cell_type": "code",
      "metadata": {
        "id": "czJEKEr-_i9S",
        "colab": {
          "base_uri": "https://localhost:8080/"
        },
        "outputId": "ebf47381-a3ed-4543-c041-ef3aa4cc0754"
      },
      "source": [
        "t = torch.zeros(3)\n",
        "\n",
        "a = t.clone().numpy()\n",
        "print(t)\n",
        "print(a)\n",
        "\n",
        "t.add_(1) # aは変わらない\n",
        "print(t)\n",
        "print(a)"
      ],
      "execution_count": null,
      "outputs": [
        {
          "output_type": "stream",
          "name": "stdout",
          "text": [
            "tensor([0., 0., 0.])\n",
            "[0. 0. 0.]\n",
            "tensor([1., 1., 1.])\n",
            "[0. 0. 0.]\n"
          ]
        }
      ]
    },
    {
      "cell_type": "markdown",
      "metadata": {
        "id": "aMNweIJMtbl0"
      },
      "source": [
        "### インデクシング\n",
        "* NumPyと同じ。"
      ]
    },
    {
      "cell_type": "code",
      "metadata": {
        "id": "1Zhf3VU7taY_",
        "colab": {
          "base_uri": "https://localhost:8080/"
        },
        "outputId": "2bdacd3b-8960-4e33-e765-478746f7ae47"
      },
      "source": [
        "x = torch.rand(5, 3)\n",
        "print(x)\n",
        "print(x[:,1])"
      ],
      "execution_count": null,
      "outputs": [
        {
          "output_type": "stream",
          "name": "stdout",
          "text": [
            "tensor([[0.6249, 0.7944, 0.0689],\n",
            "        [0.5029, 0.5317, 0.0614],\n",
            "        [0.6121, 0.9074, 0.1199],\n",
            "        [0.1561, 0.2504, 0.4157],\n",
            "        [0.2593, 0.5288, 0.7553]])\n",
            "tensor([0.7944, 0.5317, 0.9074, 0.2504, 0.5288])\n"
          ]
        }
      ]
    },
    {
      "cell_type": "markdown",
      "metadata": {
        "id": "2zBYJfxFAIe_"
      },
      "source": [
        "### item()とtolist()によるPythonの組み込み型への変換"
      ]
    },
    {
      "cell_type": "code",
      "metadata": {
        "id": "LhSlf8Cz_7y9",
        "colab": {
          "base_uri": "https://localhost:8080/"
        },
        "outputId": "1d5849d0-25ad-4a3c-ff9e-9f0598f504f2"
      },
      "source": [
        "t = torch.tensor([1.0])\n",
        "print(t)\n",
        "print(type(t))\n",
        "s = t.item()\n",
        "print(s)\n",
        "print(type(s))"
      ],
      "execution_count": null,
      "outputs": [
        {
          "output_type": "stream",
          "name": "stdout",
          "text": [
            "tensor(1.)\n",
            "<class 'torch.Tensor'>\n",
            "1.0\n",
            "<class 'float'>\n"
          ]
        }
      ]
    },
    {
      "cell_type": "code",
      "metadata": {
        "colab": {
          "base_uri": "https://localhost:8080/"
        },
        "id": "EQFlyY517G2O",
        "outputId": "a100beeb-fef3-4560-927c-2f8a17ec2188"
      },
      "source": [
        "t = torch.rand(2,2)\n",
        "print(t)\n",
        "print(type(t))\n",
        "l = t.tolist()\n",
        "print(l)\n",
        "print(type(l))"
      ],
      "execution_count": null,
      "outputs": [
        {
          "output_type": "stream",
          "name": "stdout",
          "text": [
            "tensor([[0.6103, 0.6843],\n",
            "        [0.6399, 0.1557]])\n",
            "<class 'torch.Tensor'>\n",
            "[[0.6102650165557861, 0.6842734217643738], [0.639850378036499, 0.15566885471343994]]\n",
            "<class 'list'>\n"
          ]
        }
      ]
    },
    {
      "cell_type": "markdown",
      "metadata": {
        "id": "rZzusZ3FwMir"
      },
      "source": [
        "### GPUへテンソルを持っていく\n",
        "* ランタイムのタイプをGPUへ変更してから下のセルを実行する。"
      ]
    },
    {
      "cell_type": "code",
      "metadata": {
        "colab": {
          "base_uri": "https://localhost:8080/"
        },
        "id": "moakf3Hp7eId",
        "outputId": "acddc567-371c-4169-c252-8cf6e953b8d6"
      },
      "source": [
        "import torch\n",
        "\n",
        "# GPUが使える環境かどうかの確認\n",
        "torch.cuda.is_available()"
      ],
      "execution_count": null,
      "outputs": [
        {
          "output_type": "execute_result",
          "data": {
            "text/plain": [
              "True"
            ]
          },
          "metadata": {},
          "execution_count": 46
        }
      ]
    },
    {
      "cell_type": "code",
      "metadata": {
        "colab": {
          "base_uri": "https://localhost:8080/"
        },
        "id": "8_1SmjbK7f9g",
        "outputId": "59485cde-ed36-4b4f-9a06-37401a9e9c7f"
      },
      "source": [
        "# GPUの取得\n",
        "device = torch.device(\"cuda\")\n",
        "print(device)"
      ],
      "execution_count": null,
      "outputs": [
        {
          "output_type": "stream",
          "name": "stdout",
          "text": [
            "cuda\n"
          ]
        }
      ]
    },
    {
      "cell_type": "code",
      "metadata": {
        "id": "UG9eEPK2wH-v",
        "colab": {
          "base_uri": "https://localhost:8080/"
        },
        "outputId": "a542a23e-52e2-4cee-fba6-80911f5d2f8f"
      },
      "source": [
        "x = torch.rand(5, 3)\n",
        "\n",
        "y = torch.ones_like(x, device=device) # 直接GPU上にテンソルを作る\n",
        "x = x.to(device)                      # CPU上で作ってからGPUへ持っていく\n",
        "z = x + y\n",
        "print(z)\n",
        "w = z.cpu()\n",
        "print(w)\n",
        "print(w.dtype)\n",
        "w = w.numpy()\n",
        "print(w)\n",
        "print(w.dtype) # float32になることに注意"
      ],
      "execution_count": null,
      "outputs": [
        {
          "output_type": "stream",
          "name": "stdout",
          "text": [
            "tensor([[1.4658, 1.0610, 1.9082],\n",
            "        [1.6088, 1.9841, 1.9015],\n",
            "        [1.2983, 1.8106, 1.4835],\n",
            "        [1.2062, 1.3491, 1.2142],\n",
            "        [1.5023, 1.1410, 1.4514]], device='cuda:0')\n",
            "tensor([[1.4658, 1.0610, 1.9082],\n",
            "        [1.6088, 1.9841, 1.9015],\n",
            "        [1.2983, 1.8106, 1.4835],\n",
            "        [1.2062, 1.3491, 1.2142],\n",
            "        [1.5023, 1.1410, 1.4514]])\n",
            "torch.float32\n",
            "[[1.4657847 1.0610323 1.9082218]\n",
            " [1.6087737 1.9840844 1.9014901]\n",
            " [1.2982651 1.8106154 1.483527 ]\n",
            " [1.2062154 1.3491174 1.2142324]\n",
            " [1.502337  1.1409731 1.4514111]]\n",
            "float32\n"
          ]
        }
      ]
    },
    {
      "cell_type": "markdown",
      "metadata": {
        "id": "A-m9JrrUAbA4"
      },
      "source": [
        "## 4. 自動微分"
      ]
    },
    {
      "cell_type": "markdown",
      "metadata": {
        "id": "aE00Ln1DA8fL"
      },
      "source": [
        "### それに関して微分をする変数を作る\n",
        "* requires_gradをTrueにする"
      ]
    },
    {
      "cell_type": "code",
      "metadata": {
        "id": "HfTNyEQIwzgX",
        "colab": {
          "base_uri": "https://localhost:8080/"
        },
        "outputId": "0993b2fa-2c71-425f-8321-d7adbbfac3aa"
      },
      "source": [
        "x = torch.ones(2, 2, requires_grad=True)\n",
        "print(x)\n",
        "print(x.requires_grad)"
      ],
      "execution_count": null,
      "outputs": [
        {
          "output_type": "stream",
          "name": "stdout",
          "text": [
            "tensor([[1., 1.],\n",
            "        [1., 1.]], requires_grad=True)\n",
            "True\n"
          ]
        }
      ]
    },
    {
      "cell_type": "markdown",
      "metadata": {
        "id": "4gHPbxKr-G5E"
      },
      "source": [
        "* テンソルを作った後でrequires_gradをTrueにすることもできる。"
      ]
    },
    {
      "cell_type": "code",
      "metadata": {
        "colab": {
          "base_uri": "https://localhost:8080/"
        },
        "id": "ZLdChREo90mO",
        "outputId": "62ce51bd-7a00-4f6b-9f7b-49d6601c84bc"
      },
      "source": [
        "a = torch.randn(2, 2)\n",
        "print(a)\n",
        "print(a.requires_grad)\n",
        "a.requires_grad_(True)\n",
        "print(a.requires_grad)"
      ],
      "execution_count": null,
      "outputs": [
        {
          "output_type": "stream",
          "name": "stdout",
          "text": [
            "tensor([[-1.5126,  0.6357],\n",
            "        [ 2.2184,  1.1074]])\n",
            "False\n",
            "True\n"
          ]
        }
      ]
    },
    {
      "cell_type": "code",
      "metadata": {
        "colab": {
          "base_uri": "https://localhost:8080/"
        },
        "id": "2PPGEN5V-OpM",
        "outputId": "ab4b5e9b-8c86-483d-f983-10b64e530906"
      },
      "source": [
        "a = torch.randn(2, 2)\n",
        "print(a)\n",
        "print(a.requires_grad)\n",
        "a.requires_grad = True\n",
        "print(a.requires_grad)"
      ],
      "execution_count": null,
      "outputs": [
        {
          "output_type": "stream",
          "name": "stdout",
          "text": [
            "tensor([[ 1.4793, -0.0027],\n",
            "        [-0.9856,  0.9407]])\n",
            "False\n",
            "True\n"
          ]
        }
      ]
    },
    {
      "cell_type": "markdown",
      "metadata": {
        "id": "kB_aYJRixpjj"
      },
      "source": [
        "### 計算グラフ\n",
        "* 微分できる変数を含む計算を行うと、計算グラフが作られる。"
      ]
    },
    {
      "cell_type": "code",
      "metadata": {
        "id": "g4Oo1I0Tw8j4",
        "colab": {
          "base_uri": "https://localhost:8080/"
        },
        "outputId": "e15f8dd1-cab8-4c6b-fb48-45037095cae0"
      },
      "source": [
        "x = torch.ones(2, 2, requires_grad=True)\n",
        "print(x)\n",
        "y = x + 2\n",
        "print(y)"
      ],
      "execution_count": null,
      "outputs": [
        {
          "output_type": "stream",
          "name": "stdout",
          "text": [
            "tensor([[1., 1.],\n",
            "        [1., 1.]], requires_grad=True)\n",
            "tensor([[3., 3.],\n",
            "        [3., 3.]], grad_fn=<AddBackward0>)\n"
          ]
        }
      ]
    },
    {
      "cell_type": "code",
      "metadata": {
        "id": "sCL6pdONxKw1",
        "colab": {
          "base_uri": "https://localhost:8080/"
        },
        "outputId": "f80e3534-5d1a-4c8c-9685-a20533a614a3"
      },
      "source": [
        "x = torch.ones(2, 2, device=device, requires_grad=True)\n",
        "print(x)\n",
        "y = x * x * 4\n",
        "out = y.mean()\n",
        "print(out)"
      ],
      "execution_count": null,
      "outputs": [
        {
          "output_type": "stream",
          "name": "stdout",
          "text": [
            "tensor([[1., 1.],\n",
            "        [1., 1.]], device='cuda:0', requires_grad=True)\n",
            "tensor(4., device='cuda:0', grad_fn=<MeanBackward0>)\n"
          ]
        }
      ]
    },
    {
      "cell_type": "markdown",
      "metadata": {
        "id": "U50NxpxpxzB5"
      },
      "source": [
        "### Backpropagationの実行"
      ]
    },
    {
      "cell_type": "code",
      "metadata": {
        "id": "vLdQlh6mxxYH",
        "colab": {
          "base_uri": "https://localhost:8080/"
        },
        "outputId": "15522a52-ef49-4cd0-85ca-6d62c2e7282f"
      },
      "source": [
        "x = torch.ones(2, 2, device=device, requires_grad=True)\n",
        "print(x)\n",
        "y = x * x * 4\n",
        "print(y)\n",
        "out = y.mean()\n",
        "print(out)\n",
        "out.backward()\n",
        "print(x.grad) # 微分係数を表示"
      ],
      "execution_count": null,
      "outputs": [
        {
          "output_type": "stream",
          "name": "stdout",
          "text": [
            "tensor([[1., 1.],\n",
            "        [1., 1.]], device='cuda:0', requires_grad=True)\n",
            "tensor([[4., 4.],\n",
            "        [4., 4.]], device='cuda:0', grad_fn=<MulBackward0>)\n",
            "tensor(4., device='cuda:0', grad_fn=<MeanBackward0>)\n",
            "tensor([[2., 2.],\n",
            "        [2., 2.]], device='cuda:0')\n"
          ]
        }
      ]
    },
    {
      "cell_type": "markdown",
      "metadata": {
        "id": "gYIC6bs8Czm-"
      },
      "source": [
        "* 注意：一度 backward() を実行すると、計算グラフは破棄される。\n",
        " * 続けて backward() を実行することはできない。"
      ]
    },
    {
      "cell_type": "markdown",
      "metadata": {
        "id": "VU2vuVxvy-Kq"
      },
      "source": [
        "### 計算グラフを作らせない"
      ]
    },
    {
      "cell_type": "code",
      "metadata": {
        "id": "PFZbFjOQy8U-",
        "colab": {
          "base_uri": "https://localhost:8080/"
        },
        "outputId": "00664fb7-c190-450a-d3d7-4ff586ab41a4"
      },
      "source": [
        "x = torch.tensor(3.0, requires_grad=True)\n",
        "y = x ** 2\n",
        "print(y.requires_grad)\n",
        "y.backward()\n",
        "print(x.grad)\n",
        "print()"
      ],
      "execution_count": null,
      "outputs": [
        {
          "output_type": "stream",
          "name": "stdout",
          "text": [
            "True\n",
            "tensor(6.)\n",
            "\n"
          ]
        }
      ]
    },
    {
      "cell_type": "code",
      "metadata": {
        "colab": {
          "base_uri": "https://localhost:8080/"
        },
        "id": "sT-mhBMfAXqq",
        "outputId": "c4c6d298-fde1-41ba-86d5-6ab723f2a4ac"
      },
      "source": [
        "x = torch.tensor(3.0, requires_grad=True)\n",
        "with torch.no_grad():\n",
        "  y = x ** 2\n",
        "print(y.requires_grad)\n",
        "# もしこの行で y.backward() を実行したらエラーが出る"
      ],
      "execution_count": null,
      "outputs": [
        {
          "output_type": "stream",
          "name": "stdout",
          "text": [
            "False\n"
          ]
        }
      ]
    },
    {
      "cell_type": "code",
      "metadata": {
        "id": "h2rDU_28zLok",
        "colab": {
          "base_uri": "https://localhost:8080/"
        },
        "outputId": "2e897fe4-dc80-4778-e589-14b36396d4ea"
      },
      "source": [
        "x = torch.tensor(3.0, requires_grad=True)\n",
        "print(x.requires_grad)\n",
        "y = x.detach()\n",
        "print(y.requires_grad)"
      ],
      "execution_count": null,
      "outputs": [
        {
          "output_type": "stream",
          "name": "stdout",
          "text": [
            "True\n",
            "False\n"
          ]
        }
      ]
    },
    {
      "cell_type": "code",
      "metadata": {
        "id": "BYiICIm2AT28",
        "colab": {
          "base_uri": "https://localhost:8080/"
        },
        "outputId": "c2a6bf6f-741e-438d-af6c-9663bfa87347"
      },
      "source": [
        "# f(x) = a*x**2 + b*x + cの、x=2におけるxに関する微分係数を求める\n",
        "\n",
        "x = torch.tensor(2.0, device=device, requires_grad=True)\n",
        "a = torch.tensor(1.0)\n",
        "b = torch.tensor(-2.0)\n",
        "c = torch.tensor(1.0)\n",
        "\n",
        "y = a * x ** 2 + b * x + c\n",
        "\n",
        "y.backward()\n",
        "print(x.grad)"
      ],
      "execution_count": null,
      "outputs": [
        {
          "output_type": "stream",
          "name": "stdout",
          "text": [
            "tensor(2., device='cuda:0')\n"
          ]
        }
      ]
    },
    {
      "cell_type": "markdown",
      "metadata": {
        "id": "3PqN5anRXKd-"
      },
      "source": [
        "### 計算グラフの可視化"
      ]
    },
    {
      "cell_type": "code",
      "metadata": {
        "id": "UdQtGCKfWejm",
        "colab": {
          "base_uri": "https://localhost:8080/"
        },
        "outputId": "967fcc19-6603-4c4c-b511-0146bdde8bb7"
      },
      "source": [
        "!pip install torchviz"
      ],
      "execution_count": null,
      "outputs": [
        {
          "output_type": "stream",
          "name": "stdout",
          "text": [
            "Requirement already satisfied: torchviz in /usr/local/lib/python3.7/dist-packages (0.0.2)\n",
            "Requirement already satisfied: graphviz in /usr/local/lib/python3.7/dist-packages (from torchviz) (0.10.1)\n",
            "Requirement already satisfied: torch in /usr/local/lib/python3.7/dist-packages (from torchviz) (1.9.0+cu111)\n",
            "Requirement already satisfied: typing-extensions in /usr/local/lib/python3.7/dist-packages (from torch->torchviz) (3.7.4.3)\n"
          ]
        }
      ]
    },
    {
      "cell_type": "code",
      "metadata": {
        "id": "B-LsTdNcWkp5",
        "colab": {
          "base_uri": "https://localhost:8080/",
          "height": 601
        },
        "outputId": "39632fee-dc97-4cc1-bc74-cd7b30263d04"
      },
      "source": [
        "from torchviz import make_dot\n",
        "\n",
        "x = torch.ones(2, 2, device=device, requires_grad=True)\n",
        "x_sum = x.sum()\n",
        "a = torch.tensor(1.0)\n",
        "b = torch.tensor(-2.0)\n",
        "c = torch.tensor(1.0)\n",
        "\n",
        "y = a * x_sum ** 2 + b * x_sum + c\n",
        "make_dot(y, params={'x':x})"
      ],
      "execution_count": null,
      "outputs": [
        {
          "output_type": "execute_result",
          "data": {
            "text/plain": [
              "<graphviz.dot.Digraph at 0x7f8b2fe2d490>"
            ],
            "image/svg+xml": "<?xml version=\"1.0\" encoding=\"UTF-8\" standalone=\"no\"?>\n<!DOCTYPE svg PUBLIC \"-//W3C//DTD SVG 1.1//EN\"\n \"http://www.w3.org/Graphics/SVG/1.1/DTD/svg11.dtd\">\n<!-- Generated by graphviz version 2.40.1 (20161225.0304)\n -->\n<!-- Title: %3 Pages: 1 -->\n<svg width=\"204pt\" height=\"435pt\"\n viewBox=\"0.00 0.00 204.00 435.00\" xmlns=\"http://www.w3.org/2000/svg\" xmlns:xlink=\"http://www.w3.org/1999/xlink\">\n<g id=\"graph0\" class=\"graph\" transform=\"scale(1 1) rotate(0) translate(4 431)\">\n<title>%3</title>\n<polygon fill=\"#ffffff\" stroke=\"transparent\" points=\"-4,4 -4,-431 200,-431 200,4 -4,4\"/>\n<!-- 140235781217488 -->\n<g id=\"node1\" class=\"node\">\n<title>140235781217488</title>\n<polygon fill=\"#caff70\" stroke=\"#000000\" points=\"124.5,-31 70.5,-31 70.5,0 124.5,0 124.5,-31\"/>\n<text text-anchor=\"middle\" x=\"97.5\" y=\"-7\" font-family=\"monospace\" font-size=\"10.00\" fill=\"#000000\"> ()</text>\n</g>\n<!-- 140235780652368 -->\n<g id=\"node2\" class=\"node\">\n<title>140235780652368</title>\n<polygon fill=\"#d3d3d3\" stroke=\"#000000\" points=\"142,-86 53,-86 53,-67 142,-67 142,-86\"/>\n<text text-anchor=\"middle\" x=\"97.5\" y=\"-74\" font-family=\"monospace\" font-size=\"10.00\" fill=\"#000000\">AddBackward0</text>\n</g>\n<!-- 140235780652368&#45;&gt;140235781217488 -->\n<g id=\"edge9\" class=\"edge\">\n<title>140235780652368&#45;&gt;140235781217488</title>\n<path fill=\"none\" stroke=\"#000000\" d=\"M97.5,-66.9688C97.5,-60.1289 97.5,-50.5621 97.5,-41.5298\"/>\n<polygon fill=\"#000000\" stroke=\"#000000\" points=\"101.0001,-41.3678 97.5,-31.3678 94.0001,-41.3678 101.0001,-41.3678\"/>\n</g>\n<!-- 140235780652560 -->\n<g id=\"node3\" class=\"node\">\n<title>140235780652560</title>\n<polygon fill=\"#d3d3d3\" stroke=\"#000000\" points=\"142,-141 53,-141 53,-122 142,-122 142,-141\"/>\n<text text-anchor=\"middle\" x=\"97.5\" y=\"-129\" font-family=\"monospace\" font-size=\"10.00\" fill=\"#000000\">AddBackward0</text>\n</g>\n<!-- 140235780652560&#45;&gt;140235780652368 -->\n<g id=\"edge1\" class=\"edge\">\n<title>140235780652560&#45;&gt;140235780652368</title>\n<path fill=\"none\" stroke=\"#000000\" d=\"M97.5,-121.9197C97.5,-114.9083 97.5,-105.1442 97.5,-96.4652\"/>\n<polygon fill=\"#000000\" stroke=\"#000000\" points=\"101.0001,-96.3408 97.5,-86.3408 94.0001,-96.3409 101.0001,-96.3408\"/>\n</g>\n<!-- 140235780652624 -->\n<g id=\"node4\" class=\"node\">\n<title>140235780652624</title>\n<polygon fill=\"#d3d3d3\" stroke=\"#000000\" points=\"89,-196 0,-196 0,-177 89,-177 89,-196\"/>\n<text text-anchor=\"middle\" x=\"44.5\" y=\"-184\" font-family=\"monospace\" font-size=\"10.00\" fill=\"#000000\">MulBackward0</text>\n</g>\n<!-- 140235780652624&#45;&gt;140235780652560 -->\n<g id=\"edge2\" class=\"edge\">\n<title>140235780652624&#45;&gt;140235780652560</title>\n<path fill=\"none\" stroke=\"#000000\" d=\"M53.7319,-176.9197C61.2391,-169.1293 72.021,-157.9405 81.0049,-148.6176\"/>\n<polygon fill=\"#000000\" stroke=\"#000000\" points=\"83.5983,-150.9703 88.017,-141.3408 78.5578,-146.113 83.5983,-150.9703\"/>\n</g>\n<!-- 140235780652432 -->\n<g id=\"node5\" class=\"node\">\n<title>140235780652432</title>\n<polygon fill=\"#d3d3d3\" stroke=\"#000000\" points=\"106,-251 17,-251 17,-232 106,-232 106,-251\"/>\n<text text-anchor=\"middle\" x=\"61.5\" y=\"-239\" font-family=\"monospace\" font-size=\"10.00\" fill=\"#000000\">PowBackward0</text>\n</g>\n<!-- 140235780652432&#45;&gt;140235780652624 -->\n<g id=\"edge3\" class=\"edge\">\n<title>140235780652432&#45;&gt;140235780652624</title>\n<path fill=\"none\" stroke=\"#000000\" d=\"M58.5388,-231.9197C56.3476,-224.8304 53.2865,-214.9269 50.5818,-206.1763\"/>\n<polygon fill=\"#000000\" stroke=\"#000000\" points=\"53.8388,-204.8613 47.5417,-196.3408 47.1509,-206.9285 53.8388,-204.8613\"/>\n</g>\n<!-- 140235780652944 -->\n<g id=\"node6\" class=\"node\">\n<title>140235780652944</title>\n<polygon fill=\"#d3d3d3\" stroke=\"#000000\" points=\"142,-306 53,-306 53,-287 142,-287 142,-306\"/>\n<text text-anchor=\"middle\" x=\"97.5\" y=\"-294\" font-family=\"monospace\" font-size=\"10.00\" fill=\"#000000\">SumBackward0</text>\n</g>\n<!-- 140235780652944&#45;&gt;140235780652432 -->\n<g id=\"edge4\" class=\"edge\">\n<title>140235780652944&#45;&gt;140235780652432</title>\n<path fill=\"none\" stroke=\"#000000\" d=\"M91.2293,-286.9197C86.334,-279.4409 79.3888,-268.8301 73.4422,-259.745\"/>\n<polygon fill=\"#000000\" stroke=\"#000000\" points=\"76.3464,-257.791 67.9413,-251.3408 70.4894,-261.6247 76.3464,-257.791\"/>\n</g>\n<!-- 140235780652816 -->\n<g id=\"node9\" class=\"node\">\n<title>140235780652816</title>\n<polygon fill=\"#d3d3d3\" stroke=\"#000000\" points=\"196,-196 107,-196 107,-177 196,-177 196,-196\"/>\n<text text-anchor=\"middle\" x=\"151.5\" y=\"-184\" font-family=\"monospace\" font-size=\"10.00\" fill=\"#000000\">MulBackward0</text>\n</g>\n<!-- 140235780652944&#45;&gt;140235780652816 -->\n<g id=\"edge8\" class=\"edge\">\n<title>140235780652944&#45;&gt;140235780652816</title>\n<path fill=\"none\" stroke=\"#000000\" d=\"M102.2921,-286.7382C111.2812,-268.4271 130.8075,-228.6514 142.3779,-205.082\"/>\n<polygon fill=\"#000000\" stroke=\"#000000\" points=\"145.5308,-206.6019 146.7957,-196.0828 139.2471,-203.5171 145.5308,-206.6019\"/>\n</g>\n<!-- 140235780652880 -->\n<g id=\"node7\" class=\"node\">\n<title>140235780652880</title>\n<polygon fill=\"#d3d3d3\" stroke=\"#000000\" points=\"148,-361 47,-361 47,-342 148,-342 148,-361\"/>\n<text text-anchor=\"middle\" x=\"97.5\" y=\"-349\" font-family=\"monospace\" font-size=\"10.00\" fill=\"#000000\">AccumulateGrad</text>\n</g>\n<!-- 140235780652880&#45;&gt;140235780652944 -->\n<g id=\"edge5\" class=\"edge\">\n<title>140235780652880&#45;&gt;140235780652944</title>\n<path fill=\"none\" stroke=\"#000000\" d=\"M97.5,-341.9197C97.5,-334.9083 97.5,-325.1442 97.5,-316.4652\"/>\n<polygon fill=\"#000000\" stroke=\"#000000\" points=\"101.0001,-316.3408 97.5,-306.3408 94.0001,-316.3409 101.0001,-316.3408\"/>\n</g>\n<!-- 140235780979520 -->\n<g id=\"node8\" class=\"node\">\n<title>140235780979520</title>\n<polygon fill=\"#add8e6\" stroke=\"#000000\" points=\"127,-427 68,-427 68,-397 127,-397 127,-427\"/>\n<text text-anchor=\"middle\" x=\"97.5\" y=\"-415\" font-family=\"monospace\" font-size=\"10.00\" fill=\"#000000\">x</text>\n<text text-anchor=\"middle\" x=\"97.5\" y=\"-404\" font-family=\"monospace\" font-size=\"10.00\" fill=\"#000000\"> (2, 2)</text>\n</g>\n<!-- 140235780979520&#45;&gt;140235780652880 -->\n<g id=\"edge6\" class=\"edge\">\n<title>140235780979520&#45;&gt;140235780652880</title>\n<path fill=\"none\" stroke=\"#000000\" d=\"M97.5,-396.7333C97.5,-389.0322 97.5,-379.5977 97.5,-371.3414\"/>\n<polygon fill=\"#000000\" stroke=\"#000000\" points=\"101.0001,-371.0864 97.5,-361.0864 94.0001,-371.0864 101.0001,-371.0864\"/>\n</g>\n<!-- 140235780652816&#45;&gt;140235780652560 -->\n<g id=\"edge7\" class=\"edge\">\n<title>140235780652816&#45;&gt;140235780652560</title>\n<path fill=\"none\" stroke=\"#000000\" d=\"M142.0939,-176.9197C134.4451,-169.1293 123.4597,-157.9405 114.3064,-148.6176\"/>\n<polygon fill=\"#000000\" stroke=\"#000000\" points=\"116.6653,-146.0244 107.1619,-141.3408 111.6704,-150.9286 116.6653,-146.0244\"/>\n</g>\n</g>\n</svg>\n"
          },
          "metadata": {},
          "execution_count": 60
        }
      ]
    },
    {
      "cell_type": "markdown",
      "metadata": {
        "id": "G9RBnEz6bkT8"
      },
      "source": [
        "### autograd()を使った高階微分\n",
        "* 第一引数は微分される関数\n",
        "* 第二引数はそれに関して微分する変数\n",
        "* create_graphをTrueにすると計算グラフが作られるので、高階微分を計算できるようになる。"
      ]
    },
    {
      "cell_type": "markdown",
      "metadata": {
        "id": "mvwlRmblpoYh"
      },
      "source": [
        "例1. $y = ax^3 + bx^2 + cx + d$を、$x$について微分"
      ]
    },
    {
      "cell_type": "code",
      "metadata": {
        "id": "yni32jSLpgwh"
      },
      "source": [
        "x = torch.tensor(0.0, requires_grad=True)\n",
        "a = torch.tensor(1.0)\n",
        "b = torch.tensor(-2.0)\n",
        "c = torch.tensor(1.0)\n",
        "d = torch.tensor(5.0)\n",
        "y = a * x ** 3 + b * x ** 2 + c * x + d"
      ],
      "execution_count": null,
      "outputs": []
    },
    {
      "cell_type": "code",
      "metadata": {
        "id": "O7Of3KxWpz_3",
        "colab": {
          "base_uri": "https://localhost:8080/"
        },
        "outputId": "0a4c18b2-cc59-41f4-dedf-ce7691d4e861"
      },
      "source": [
        "dy_dx = torch.autograd.grad(y, x) #単に微分するだけ\n",
        "print(dy_dx) # 要素が一つだけのtupleになっている\n",
        "print(dy_dx[0])"
      ],
      "execution_count": null,
      "outputs": [
        {
          "output_type": "stream",
          "name": "stdout",
          "text": [
            "(tensor(1.),)\n",
            "tensor(1.)\n"
          ]
        }
      ]
    },
    {
      "cell_type": "markdown",
      "metadata": {
        "id": "182AbHtyqWcm"
      },
      "source": [
        "例2. $y=x_1 x_2$を、$x_1$と$x_2$それぞれについて偏微分"
      ]
    },
    {
      "cell_type": "code",
      "metadata": {
        "id": "4d0exl5BqEYp"
      },
      "source": [
        "x1 = torch.tensor(0.0, requires_grad=True)\n",
        "x2 = torch.tensor(0.0, requires_grad=True)\n",
        "y = x1 * x2"
      ],
      "execution_count": null,
      "outputs": []
    },
    {
      "cell_type": "code",
      "metadata": {
        "id": "MTUSCu6lqxvm",
        "colab": {
          "base_uri": "https://localhost:8080/"
        },
        "outputId": "83bec863-4f9a-4970-85e5-bf57d2a001b4"
      },
      "source": [
        "dy_dx = torch.autograd.grad(y, (x1, x2)) # 単に微分するだけ\n",
        "print(dy_dx)"
      ],
      "execution_count": null,
      "outputs": [
        {
          "output_type": "stream",
          "name": "stdout",
          "text": [
            "(tensor(0.), tensor(0.))\n"
          ]
        }
      ]
    },
    {
      "cell_type": "markdown",
      "metadata": {
        "id": "aLThUJSuqqfi"
      },
      "source": [
        "例3. $y = ax^3 + bx^2 + cx + d$を、$x$について微分し、さらにそれを$x$で微分する"
      ]
    },
    {
      "cell_type": "code",
      "metadata": {
        "id": "Byntago3q5Hl"
      },
      "source": [
        "x = torch.tensor(0.0, requires_grad=True)\n",
        "a = torch.tensor(1.0)\n",
        "b = torch.tensor(-2.0)\n",
        "c = torch.tensor(1.0)\n",
        "d = torch.tensor(5.0)\n",
        "y = a * x ** 3 + b * x ** 2 + c * x + d"
      ],
      "execution_count": null,
      "outputs": []
    },
    {
      "cell_type": "code",
      "metadata": {
        "id": "n1lr5L5SBOIj",
        "colab": {
          "base_uri": "https://localhost:8080/"
        },
        "outputId": "4d0cb175-60be-49a7-ca2d-c1e1f2ab6b28"
      },
      "source": [
        "# backpropagationの計算の計算グラフを作らせる\n",
        "dy_dx = torch.autograd.grad(y, x, create_graph=True) \n",
        "print(dy_dx)\n",
        "print(dy_dx[0])\n",
        "\n",
        "# その計算グラフが表す関数をxで微分\n",
        "d２y_dx2 = torch.autograd.grad(dy_dx, x)\n",
        "print(d2y_dx2)\n",
        "print(d2y_dx2[0])"
      ],
      "execution_count": null,
      "outputs": [
        {
          "output_type": "stream",
          "name": "stdout",
          "text": [
            "(tensor(1., grad_fn=<AddBackward0>),)\n",
            "tensor(1., grad_fn=<AddBackward0>)\n",
            "(tensor(-4.),)\n",
            "tensor(-4.)\n"
          ]
        }
      ]
    },
    {
      "cell_type": "markdown",
      "metadata": {
        "id": "cZNfPAyHdpVs"
      },
      "source": [
        "### 多変数関数の偏微分とヘシアン"
      ]
    },
    {
      "cell_type": "markdown",
      "metadata": {
        "id": "7KQGlWRRrx9-"
      },
      "source": [
        "例. $y=(x_1+3x_2)^2$のヘシアンを求める"
      ]
    },
    {
      "cell_type": "code",
      "metadata": {
        "id": "13dhstNSsKi2"
      },
      "source": [
        "def func(x1, x2):\n",
        "  return (x1 + 3 * x2) ** 2\n",
        "\n",
        "x1 = torch.tensor(1.0, requires_grad=True)\n",
        "x2 = torch.tensor(2.0, requires_grad=True)\n",
        "y = func(x1, x2)"
      ],
      "execution_count": null,
      "outputs": []
    },
    {
      "cell_type": "code",
      "metadata": {
        "id": "VWrfQilec8PE",
        "colab": {
          "base_uri": "https://localhost:8080/"
        },
        "outputId": "360598cf-d0fb-4d23-8e74-8383bd34bcef"
      },
      "source": [
        "dy_dx1, dy_dx2 = torch.autograd.grad(y, [x1, x2], create_graph=True)\n",
        "print(dy_dx1.data, dy_dx2.data)\n",
        "d2y_dx1dx1, d2y_dx1dx2 = torch.autograd.grad(dy_dx1, [x1, x2], retain_graph=True)\n",
        "print(d2y_dx1dx1.data, d2y_dx1dx2.data)\n",
        "d2y_dx2dx1, d2y_dx2dx2 = torch.autograd.grad(dy_dx2, [x1, x2])\n",
        "print(d2y_dx2dx1.data, d2y_dx2dx2.data)"
      ],
      "execution_count": null,
      "outputs": [
        {
          "output_type": "stream",
          "name": "stdout",
          "text": [
            "tensor(14.) tensor(42.)\n",
            "tensor(2.) tensor(6.)\n",
            "tensor(6.) tensor(18.)\n"
          ]
        }
      ]
    },
    {
      "cell_type": "code",
      "metadata": {
        "colab": {
          "base_uri": "https://localhost:8080/"
        },
        "id": "87kXkqNWCpCn",
        "outputId": "205e8be1-21e5-443d-b4f8-bbe8062a22ff"
      },
      "source": [
        "# 答え合わせ\n",
        "print(torch.autograd.functional.hessian(func, inputs=(x1, x2)))"
      ],
      "execution_count": null,
      "outputs": [
        {
          "output_type": "stream",
          "name": "stdout",
          "text": [
            "((tensor(2.), tensor(6.)), (tensor(6.), tensor(18.)))\n"
          ]
        }
      ]
    },
    {
      "cell_type": "markdown",
      "metadata": {
        "id": "HkBqBy05iNM-"
      },
      "source": [
        "## 5. 自動微分を使った制約なし最適化"
      ]
    },
    {
      "cell_type": "markdown",
      "metadata": {
        "id": "jTYwK4oFsS1D"
      },
      "source": [
        "例. $f(x)=x^2-2x+1$を最小にする$x$を求める"
      ]
    },
    {
      "cell_type": "code",
      "metadata": {
        "id": "xag69ntVsdZM"
      },
      "source": [
        "# 関数の定義\n",
        "def f(x, a=1.0, b=-2.0, c=1.0):\n",
        "  return a * x ** 2 + b * x + c"
      ],
      "execution_count": null,
      "outputs": []
    },
    {
      "cell_type": "code",
      "metadata": {
        "id": "HsE2vqbKsgqi"
      },
      "source": [
        "# テンソルの準備\n",
        "x = torch.tensor(10.0, requires_grad=True)\n",
        "\n",
        "# 最適化手法のインスタンスを作る\n",
        "#   param: どの変数で微分するか\n",
        "#   lr: 学習率\n",
        "optimizer = torch.optim.SGD(params=[x], lr=0.1)"
      ],
      "execution_count": null,
      "outputs": []
    },
    {
      "cell_type": "code",
      "metadata": {
        "id": "Z8rOcDFviTVp",
        "colab": {
          "base_uri": "https://localhost:8080/"
        },
        "outputId": "14eca947-b0b4-4614-9bba-0bc15439d953"
      },
      "source": [
        "for i in range(1, 101):\n",
        "  optimizer.zero_grad()\n",
        "  y = f(x)\n",
        "  y.backward()\n",
        "  optimizer.step()\n",
        "  if i % 5 == 0:\n",
        "    print(f'iter {i} : f(x) = {y.data:.6f}, x = {x.data:.6f}')"
      ],
      "execution_count": null,
      "outputs": [
        {
          "output_type": "stream",
          "name": "stdout",
          "text": [
            "iter 5 : f(x) = 13.589545, x = 3.949120\n",
            "iter 10 : f(x) = 1.459167, x = 1.966368\n",
            "iter 15 : f(x) = 0.156677, x = 1.316659\n",
            "iter 20 : f(x) = 0.016823, x = 1.103763\n",
            "iter 25 : f(x) = 0.001806, x = 1.034001\n",
            "iter 30 : f(x) = 0.000194, x = 1.011142\n",
            "iter 35 : f(x) = 0.000021, x = 1.003651\n",
            "iter 40 : f(x) = 0.000002, x = 1.001196\n",
            "iter 45 : f(x) = 0.000000, x = 1.000392\n",
            "iter 50 : f(x) = 0.000000, x = 1.000128\n",
            "iter 55 : f(x) = 0.000000, x = 1.000042\n",
            "iter 60 : f(x) = 0.000000, x = 1.000014\n",
            "iter 65 : f(x) = 0.000000, x = 1.000005\n",
            "iter 70 : f(x) = 0.000000, x = 1.000001\n",
            "iter 75 : f(x) = 0.000000, x = 1.000000\n",
            "iter 80 : f(x) = 0.000000, x = 1.000000\n",
            "iter 85 : f(x) = 0.000000, x = 1.000000\n",
            "iter 90 : f(x) = 0.000000, x = 1.000000\n",
            "iter 95 : f(x) = 0.000000, x = 1.000000\n",
            "iter 100 : f(x) = 0.000000, x = 1.000000\n"
          ]
        }
      ]
    },
    {
      "cell_type": "markdown",
      "metadata": {
        "id": "y_74bIGBkIib"
      },
      "source": [
        "# 課題4\n",
        "* 関数$f(x_1,x_2)=x_1^2+x_2^2$の最小値と、$f(x_1,x_2)$がその最小値をとるときの$x_1$と$x_2$の値を、PyTorchの自動微分を使って求めよう。"
      ]
    }
  ]
}