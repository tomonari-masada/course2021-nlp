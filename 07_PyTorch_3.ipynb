{
  "nbformat": 4,
  "nbformat_minor": 0,
  "metadata": {
    "colab": {
      "name": "07_PyTorch_3.ipynb",
      "provenance": [],
      "collapsed_sections": [],
      "mount_file_id": "1Ju5Lc6g45t9qjI0R2cFUAA1wHBFm2IeB",
      "authorship_tag": "ABX9TyMv0kTzh0yaN7BctgohWkTz",
      "include_colab_link": true
    },
    "kernelspec": {
      "name": "python3",
      "display_name": "Python 3"
    },
    "accelerator": "GPU"
  },
  "cells": [
    {
      "cell_type": "markdown",
      "metadata": {
        "id": "view-in-github",
        "colab_type": "text"
      },
      "source": [
        "<a href=\"https://colab.research.google.com/github/tomonari-masada/course2021-nlp/blob/main/07_PyTorch_3.ipynb\" target=\"_parent\"><img src=\"https://colab.research.google.com/assets/colab-badge.svg\" alt=\"Open In Colab\"/></a>"
      ]
    },
    {
      "cell_type": "markdown",
      "metadata": {
        "id": "2hx2zN0IvyqF"
      },
      "source": [
        "# PyTorch入門 (3)\n",
        "* IMDbデータセットの感情分析をPyTorchを使っておこなう。\n",
        " * \b前にscikit-learnを使って同じ作業をおこなった。\n",
        "* 参考資料\n",
        " * PyTorch公式のチュートリアル https://pytorch.org/tutorials/beginner/text_sentiment_ngrams_tutorial.html\n",
        "* データは以前作ったIMDbの文書埋め込みを使う。\n",
        "* sentiment analysisのもっと高度な手法については、下記リンク先を参照。\n",
        " * https://github.com/bentrevett/pytorch-sentiment-analysis"
      ]
    },
    {
      "cell_type": "markdown",
      "metadata": {
        "id": "B-hkFIH1xHUX"
      },
      "source": [
        "## 1. fastTextによる文書埋め込みをMLPの入力として使うための準備\n",
        "* MLP(多層パーセプトロン)の学習ぐらいは、空気を吸ったり吐いたりするぐらい自然にできるようにしておこう。"
      ]
    },
    {
      "cell_type": "markdown",
      "metadata": {
        "id": "8jB8UO3e9-_t"
      },
      "source": [
        "### データファイルが置いてあるGoogle Driveのパスを変数PATHに設定\n",
        "* データファイルの扱い方\n",
        " * Blackboardで「自然言語処理特論」へ行く。\n",
        " * 「教材/課題/テスト」→「data」→「IMDb」と順にクリックする。\n",
        " * 見えている4つの「.npy」ファイルをダウンロードする。\n",
        " * ダウンロードした4つのファイルを、自分のGoogle Driveの適当な場所にアップロードする。\n",
        " * 次のセルで、その置き場所を指定する。"
      ]
    },
    {
      "cell_type": "code",
      "metadata": {
        "id": "9P3MzvmdrobX"
      },
      "source": [
        "PATH = '/content/drive/MyDrive/2021Courses/NLP/'"
      ],
      "execution_count": null,
      "outputs": []
    },
    {
      "cell_type": "markdown",
      "metadata": {
        "id": "eAv8yYt8-Yn0"
      },
      "source": [
        "* （あらかじめランタイムのタイプをGPUに設定しておこう。）"
      ]
    },
    {
      "cell_type": "code",
      "metadata": {
        "id": "Mf-jw4S8rhTB"
      },
      "source": [
        "import numpy as np\n",
        "import torch\n",
        "import torch.nn as nn\n",
        "import torch.nn.functional as F\n",
        "\n",
        "np.random.seed(123)\n",
        "torch.manual_seed(123)\n",
        "\n",
        "device = torch.device(\"cuda\" if torch.cuda.is_available() else \"cpu\")"
      ],
      "execution_count": null,
      "outputs": []
    },
    {
      "cell_type": "code",
      "metadata": {
        "id": "uyTNFT_uZBVz"
      },
      "source": [
        "!nvidia-smi"
      ],
      "execution_count": null,
      "outputs": []
    },
    {
      "cell_type": "code",
      "metadata": {
        "id": "ETpwV-Lmw-K5"
      },
      "source": [
        "device"
      ],
      "execution_count": null,
      "outputs": []
    },
    {
      "cell_type": "markdown",
      "metadata": {
        "id": "hl9euZ-P-fiG"
      },
      "source": [
        "### 単語埋め込みデータファイルの読み込み"
      ]
    },
    {
      "cell_type": "code",
      "metadata": {
        "id": "WjF1vzSosL5l"
      },
      "source": [
        "texts = dict()\n",
        "labels = dict()\n",
        "for tag in ['train', 'test']:\n",
        "  with open(f'{PATH}{tag}.npy', 'rb') as f:\n",
        "    texts[tag] = np.load(f)\n",
        "  with open(f'{PATH}{tag}_labels.npy', 'rb') as f:\n",
        "    labels[tag] = np.load(f)"
      ],
      "execution_count": null,
      "outputs": []
    },
    {
      "cell_type": "code",
      "metadata": {
        "id": "uE7RXSjEsWPU"
      },
      "source": [
        "for tag in ['train', 'test']:\n",
        "  print(texts[tag].shape)"
      ],
      "execution_count": null,
      "outputs": []
    },
    {
      "cell_type": "markdown",
      "metadata": {
        "id": "u7AybiDZ-jvr"
      },
      "source": [
        "### ndarrayをPyTorchのテンソルに変換"
      ]
    },
    {
      "cell_type": "code",
      "metadata": {
        "id": "KuEe746MtFtr"
      },
      "source": [
        "for tag in ['train', 'test']:\n",
        "  texts[tag], labels[tag] = torch.tensor(texts[tag]), torch.tensor(labels[tag])"
      ],
      "execution_count": null,
      "outputs": []
    },
    {
      "cell_type": "markdown",
      "metadata": {
        "id": "M0QVlHKJ-vZn"
      },
      "source": [
        "## 2. 学習のための準備"
      ]
    },
    {
      "cell_type": "markdown",
      "metadata": {
        "id": "Du2OuR_1qeQi"
      },
      "source": [
        "### Datasetの利用"
      ]
    },
    {
      "cell_type": "code",
      "metadata": {
        "id": "1osG09aHppg1"
      },
      "source": [
        "from torch.utils.data import Dataset, random_split\n",
        "\n",
        "class MyDataset(Dataset):\n",
        "  def __init__(self, X, y):\n",
        "    self.X = X\n",
        "    self.y = y\n",
        "\n",
        "  def __len__(self):\n",
        "    return self.X.shape[0]\n",
        "\n",
        "  def __getitem__(self, index):\n",
        "    return self.X[index], self.y[index]\n",
        "\n",
        "train_valid = MyDataset(texts['train'], labels['train'])\n",
        "test = MyDataset(texts['test'], labels['test'])\n",
        "\n",
        "valid_size = len(train_valid) // 5\n",
        "train_size = len(train_valid) - valid_size\n",
        "train, valid = random_split(train_valid,\n",
        "                            [train_size, valid_size],\n",
        "                            generator=torch.Generator().manual_seed(42)\n",
        "                            )"
      ],
      "execution_count": null,
      "outputs": []
    },
    {
      "cell_type": "markdown",
      "metadata": {
        "id": "ipq2udez-0ez"
      },
      "source": [
        "### DataLoaderの利用"
      ]
    },
    {
      "cell_type": "code",
      "metadata": {
        "id": "mfloEv0Osj2n"
      },
      "source": [
        "from torch.utils.data import DataLoader\n",
        "\n",
        "# ミニバッチのサイズ\n",
        "BATCH_SIZE = 100\n",
        "\n",
        "# 訓練データだけシャッフル\n",
        "train_loader = DataLoader(train, batch_size=BATCH_SIZE, shuffle=True)\n",
        "valid_loader = DataLoader(valid, batch_size=BATCH_SIZE)\n",
        "test_loader = DataLoader(test, batch_size=BATCH_SIZE)"
      ],
      "execution_count": null,
      "outputs": []
    },
    {
      "cell_type": "markdown",
      "metadata": {
        "id": "iE-wx62k9d3J"
      },
      "source": [
        "## 3. モデルの定義と学習の準備"
      ]
    },
    {
      "cell_type": "markdown",
      "metadata": {
        "id": "1YDOQzmVr0N6"
      },
      "source": [
        "### モデルの定義"
      ]
    },
    {
      "cell_type": "code",
      "metadata": {
        "id": "PkRnetIrs9DX"
      },
      "source": [
        "class TextSentiment(nn.Module):\n",
        "  def __init__(self, embed_dim, num_class):\n",
        "    super(TextSentiment, self).__init__()\n",
        "    self.fc1 = nn.Linear(embed_dim, 500)\n",
        "    self.fc2 = nn.Linear(500, 100)\n",
        "    self.fc3 = nn.Linear(100, num_class)\n",
        "\n",
        "  def forward(self, x):\n",
        "    x = F.relu(self.fc1(x))\n",
        "    x = F.relu(self.fc2(x))\n",
        "    x = self.fc3(x)\n",
        "    return x"
      ],
      "execution_count": null,
      "outputs": []
    },
    {
      "cell_type": "code",
      "metadata": {
        "id": "nLkGnlqfvQpp"
      },
      "source": [
        "EMBED_DIM = texts['train'].size(1)\n",
        "NUM_CLASS = len(np.unique(labels['train']))\n",
        "model = TextSentiment(EMBED_DIM, NUM_CLASS).to(device)"
      ],
      "execution_count": null,
      "outputs": []
    },
    {
      "cell_type": "code",
      "metadata": {
        "id": "3fqF_wxjZkPb"
      },
      "source": [
        "print(EMBED_DIM, NUM_CLASS)"
      ],
      "execution_count": null,
      "outputs": []
    },
    {
      "cell_type": "markdown",
      "metadata": {
        "id": "gRWTIEYy_FKj"
      },
      "source": [
        "### 損失関数とoptimizer"
      ]
    },
    {
      "cell_type": "markdown",
      "metadata": {
        "id": "IVWxfoJSzpKp"
      },
      "source": [
        "* 損失関数を除いて、以下の設定はいい加減なので、自分で調整してみよう。\n",
        "* schedulerの使い方は、調べてみよう。"
      ]
    },
    {
      "cell_type": "code",
      "metadata": {
        "id": "yB0NIxhlxka5"
      },
      "source": [
        "criterion = torch.nn.CrossEntropyLoss()\n",
        "optimizer = torch.optim.Adam(model.parameters(), lr=0.01)\n",
        "#scheduler = torch.optim.lr_scheduler.MultiStepLR(optimizer, milestones=[20,50], gamma=0.1)"
      ],
      "execution_count": null,
      "outputs": []
    },
    {
      "cell_type": "markdown",
      "metadata": {
        "id": "3W9fIHDa9j0P"
      },
      "source": [
        "## 4. 分類器の訓練と評価"
      ]
    },
    {
      "cell_type": "markdown",
      "metadata": {
        "id": "t0ARJYib_M84"
      },
      "source": [
        "### 評価用の関数\n",
        "* 正解率で評価する関数を定義しておく。"
      ]
    },
    {
      "cell_type": "code",
      "metadata": {
        "id": "DDFVMgRqyl4Q"
      },
      "source": [
        "def eval(model, criterion, loader):\n",
        "  total_loss = 0.0\n",
        "  total_acc = 0.0\n",
        "  total_size = 0\n",
        "  for input, target in loader:\n",
        "    with torch.no_grad():\n",
        "      input, target = input.to(device), target.to(device)\n",
        "      output = model(input)\n",
        "      loss = criterion(output, target)\n",
        "      total_loss += loss.item() * len(target)\n",
        "      total_acc += (output.argmax(1) == target).float().sum().item()\n",
        "      total_size += len(target)\n",
        "\n",
        "  return total_loss / total_size, total_acc / total_size"
      ],
      "execution_count": null,
      "outputs": []
    },
    {
      "cell_type": "markdown",
      "metadata": {
        "id": "-0ko1VZz_Kng"
      },
      "source": [
        "### 訓練用の関数\n",
        "* ループの中身は前回とほぼ同じ。"
      ]
    },
    {
      "cell_type": "code",
      "metadata": {
        "id": "kHvS00cVvaVU"
      },
      "source": [
        "def train(model, criterion, optimizer, train_loader, valid_loader, n_epochs=100):\n",
        "  # training loop\n",
        "  for epoch in range(n_epochs):\n",
        "\n",
        "    train_loss = 0.0\n",
        "    for input, target in train_loader:\n",
        "      output = model(input.to(device))\n",
        "      loss = criterion(output, target.to(device))\n",
        "      train_loss += loss.item() * len(target) # 表示用の集計\n",
        "\n",
        "      loss.backward()\n",
        "      optimizer.step()\n",
        "      optimizer.zero_grad()\n",
        "\n",
        "    # valid loss\n",
        "    valid_loss = 0\n",
        "    with torch.no_grad():\n",
        "      for input, target in valid_loader:\n",
        "        output = model(input.to(device))\n",
        "        loss = criterion(output, target.to(device))\n",
        "        valid_loss += loss.item() * len(target)\n",
        "\n",
        "    # logging\n",
        "    print(f'epoch {epoch + 1:4d} |',\n",
        "          f'train loss {train_loss / train_size:8.4f} |',\n",
        "          f'valid loss {valid_loss / valid_size:8.4f}')"
      ],
      "execution_count": null,
      "outputs": []
    },
    {
      "cell_type": "markdown",
      "metadata": {
        "id": "yEAiT90S4qae"
      },
      "source": [
        "### 訓練と評価の実施"
      ]
    },
    {
      "cell_type": "code",
      "metadata": {
        "id": "sAXpaWNwxqWN"
      },
      "source": [
        "train(model, criterion, optimizer, train_loader, valid_loader, 100)"
      ],
      "execution_count": null,
      "outputs": []
    },
    {
      "cell_type": "code",
      "metadata": {
        "id": "vH0ecZyO6RV2"
      },
      "source": [
        "loss, acc = eval(model, criterion, train_loader)\n",
        "print(f'train | loss : {loss:8.4f} ; accuracy : {acc:.3f}')"
      ],
      "execution_count": null,
      "outputs": []
    },
    {
      "cell_type": "code",
      "metadata": {
        "id": "kncXDZXf6iKJ"
      },
      "source": [
        "loss, acc = eval(model, criterion, valid_loader)\n",
        "print(f'valid | loss : {loss:8.4f} ; accuracy : {acc:.3f}')"
      ],
      "execution_count": null,
      "outputs": []
    },
    {
      "cell_type": "markdown",
      "metadata": {
        "id": "uUzVkJ2v-tt_"
      },
      "source": [
        "# 課題7\n",
        "* モデルやoptimizerやschedulerを変更して、validation setを使ってチューニングしよう。\n",
        "* 最後に、自分で選択した設定を使って、test set上で評価しよう。"
      ]
    },
    {
      "cell_type": "code",
      "metadata": {
        "id": "prYPP13ByCid"
      },
      "source": [
        ""
      ],
      "execution_count": null,
      "outputs": []
    },
    {
      "cell_type": "code",
      "metadata": {
        "id": "RIFqTNLYba53"
      },
      "source": [
        ""
      ],
      "execution_count": null,
      "outputs": []
    },
    {
      "cell_type": "code",
      "metadata": {
        "id": "26RYXnmnbbSc"
      },
      "source": [
        ""
      ],
      "execution_count": null,
      "outputs": []
    },
    {
      "cell_type": "code",
      "metadata": {
        "id": "nnzANMG_vrT6"
      },
      "source": [
        "loss, acc = eval(model, criterion, test_loader)\n",
        "print(f'test | loss : {loss:8.4f} ; accuracy : {acc:.3f}')"
      ],
      "execution_count": null,
      "outputs": []
    }
  ]
}