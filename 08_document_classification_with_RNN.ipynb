{
  "nbformat": 4,
  "nbformat_minor": 0,
  "metadata": {
    "colab": {
      "name": "08_document_classification_with_RNN.ipynb",
      "provenance": [],
      "collapsed_sections": [],
      "mount_file_id": "1HaIOpOtFSc4pjrdAglJT6cjgfkrJQIQ4",
      "authorship_tag": "ABX9TyMY9y9YT6u6bdSCDqYHYnHj",
      "include_colab_link": true
    },
    "kernelspec": {
      "name": "python3",
      "display_name": "Python 3"
    },
    "accelerator": "GPU"
  },
  "cells": [
    {
      "cell_type": "markdown",
      "metadata": {
        "id": "view-in-github",
        "colab_type": "text"
      },
      "source": [
        "<a href=\"https://colab.research.google.com/github/tomonari-masada/course2021-nlp/blob/main/08_document_classification_with_RNN.ipynb\" target=\"_parent\"><img src=\"https://colab.research.google.com/assets/colab-badge.svg\" alt=\"Open In Colab\"/></a>"
      ]
    },
    {
      "cell_type": "markdown",
      "metadata": {
        "id": "mtbbXGNJnJQB"
      },
      "source": [
        "# RNNを使った文書分類\n",
        "* RNNの出力を文書の潜在表現として利用し、文書分類を行う。\n",
        " * トークンの埋め込みも含めて学習する。"
      ]
    },
    {
      "cell_type": "markdown",
      "metadata": {
        "id": "I6pvVYxeoOqB"
      },
      "source": [
        "## torchtextを使ってIMDbデータを読み込む\n",
        "* ここでIMDbデータセットの読み込みにつかう`torchtext.datasets`については、下記を参照。\n",
        " * https://torchtext.readthedocs.io/en/latest/datasets.html"
      ]
    },
    {
      "cell_type": "markdown",
      "metadata": {
        "id": "N8X-GEo5nqdK"
      },
      "source": [
        "### 準備\n",
        "* 再現性の確保については下記を参照。\n",
        " * https://pytorch.org/docs/stable/notes/randomness.html"
      ]
    },
    {
      "cell_type": "code",
      "metadata": {
        "id": "2VicF1RrhJfa"
      },
      "source": [
        "import random\n",
        "import time\n",
        "import torch\n",
        "import torch.nn as nn\n",
        "import torch.optim as optim\n",
        "import torch.nn.functional as F\n",
        "from torchtext import datasets\n",
        "\n",
        "SEED = 123\n",
        "\n",
        "random.seed(SEED)\n",
        "torch.manual_seed(SEED)\n",
        "\n",
        "device = torch.device(\"cuda\" if torch.cuda.is_available() else \"cpu\")"
      ],
      "execution_count": null,
      "outputs": []
    },
    {
      "cell_type": "markdown",
      "metadata": {
        "id": "OeCGHBNAojNh"
      },
      "source": [
        "### 訓練データから語彙集合を作成\n",
        "* データの読み込みや前処理は`torchtext`の旧バージョン（0.9より前）とかなり変わっているので注意。"
      ]
    },
    {
      "cell_type": "code",
      "source": [
        "import torchtext\n",
        "torchtext.__version__"
      ],
      "metadata": {
        "colab": {
          "base_uri": "https://localhost:8080/",
          "height": 35
        },
        "id": "Wqzi13k9LxZk",
        "outputId": "96315e52-ab00-4e01-ce89-aa28a4ffa7ff"
      },
      "execution_count": null,
      "outputs": [
        {
          "output_type": "execute_result",
          "data": {
            "application/vnd.google.colaboratory.intrinsic+json": {
              "type": "string"
            },
            "text/plain": [
              "'0.11.0'"
            ]
          },
          "metadata": {},
          "execution_count": 4
        }
      ]
    },
    {
      "cell_type": "markdown",
      "metadata": {
        "id": "-Hm83eK1dzJk"
      },
      "source": [
        "* データセットの訓練データ部分をもとに語彙セットを作成する。\n",
        " * 語彙セットを作成するとき、テストデータ部分を使わないように。"
      ]
    },
    {
      "cell_type": "code",
      "metadata": {
        "id": "jug86Tt9hMMD",
        "colab": {
          "base_uri": "https://localhost:8080/"
        },
        "outputId": "459338a4-2cfb-4193-888a-36ab159634b8"
      },
      "source": [
        "from torchtext.datasets import IMDB\n",
        "from torchtext.data.utils import get_tokenizer\n",
        "from torchtext.vocab import build_vocab_from_iterator\n",
        "\n",
        "tokenizer = get_tokenizer('basic_english')\n",
        "#tokenizer = get_tokenizer('spacy') # やや時間がかかる。\n",
        "\n",
        "# IMDbデータの訓練データ部分のイテレータを取得\n",
        "train_iter = IMDB(split='train')\n",
        "\n",
        "# 各文書をtokenizeするヘルパ関数\n",
        "def yield_tokens(data_iter):\n",
        "  for _, text in data_iter:\n",
        "    yield tokenizer(text)\n",
        "\n",
        "# 最小の出現頻度をmin_freqで指定して語彙サイズを調整する\n",
        "vocab = build_vocab_from_iterator(yield_tokens(train_iter),\n",
        "                                  specials=[\"<unk>\", \"<pad>\"],\n",
        "                                  min_freq=5)\n",
        "\n",
        "# OoVトークンには\"<unk>\"のインデックスを返すことにする\n",
        "vocab.set_default_index(vocab[\"<unk>\"]) "
      ],
      "execution_count": null,
      "outputs": [
        {
          "output_type": "stream",
          "name": "stderr",
          "text": [
            "100%|██████████| 84.1M/84.1M [00:02<00:00, 38.0MB/s]\n"
          ]
        }
      ]
    },
    {
      "cell_type": "code",
      "metadata": {
        "id": "gechUbtcgFld",
        "colab": {
          "base_uri": "https://localhost:8080/"
        },
        "outputId": "eb1fd822-1df7-466c-ac05-623a629cee4e"
      },
      "source": [
        "print(len(vocab))"
      ],
      "execution_count": null,
      "outputs": [
        {
          "output_type": "stream",
          "name": "stdout",
          "text": [
            "30123\n"
          ]
        }
      ]
    },
    {
      "cell_type": "code",
      "metadata": {
        "id": "dnnKq-ZDePk3",
        "colab": {
          "base_uri": "https://localhost:8080/"
        },
        "outputId": "b59deb58-d0ff-44ad-f70d-62fab7825c61"
      },
      "source": [
        "vocab(['here', 'is', 'an', 'example'])"
      ],
      "execution_count": null,
      "outputs": [
        {
          "output_type": "execute_result",
          "data": {
            "text/plain": [
              "[132, 10, 41, 465]"
            ]
          },
          "metadata": {},
          "execution_count": 7
        }
      ]
    },
    {
      "cell_type": "code",
      "source": [
        "vocab(['<unk>', '<pad>'])"
      ],
      "metadata": {
        "colab": {
          "base_uri": "https://localhost:8080/"
        },
        "id": "F6ll_hOzMoA7",
        "outputId": "09931756-a68c-4659-e85f-076aede393e7"
      },
      "execution_count": null,
      "outputs": [
        {
          "output_type": "execute_result",
          "data": {
            "text/plain": [
              "[0, 1]"
            ]
          },
          "metadata": {},
          "execution_count": 10
        }
      ]
    },
    {
      "cell_type": "markdown",
      "metadata": {
        "id": "SDjU2ykppyi2"
      },
      "source": [
        "### IMDBデータを分割してデータセットを作成"
      ]
    },
    {
      "cell_type": "code",
      "metadata": {
        "id": "qZKysnlAhjGS"
      },
      "source": [
        "from torch.utils.data.dataset import random_split\n",
        "from torchtext.data.functional import to_map_style_dataset\n",
        "\n",
        "train_iter, test_iter = IMDB()\n",
        "train_dataset = to_map_style_dataset(train_iter)\n",
        "test_dataset = to_map_style_dataset(test_iter)\n",
        "\n",
        "# 訓練データ部分から検証データを切り出す\n",
        "num_train = int(len(train_dataset) * 0.9)\n",
        "split_train_, split_valid_ = random_split(train_dataset, [num_train, len(train_dataset) - num_train])"
      ],
      "execution_count": null,
      "outputs": []
    },
    {
      "cell_type": "code",
      "metadata": {
        "id": "jL-3P-txjpK_"
      },
      "source": [
        "from torch.utils.data import DataLoader\n",
        "\n",
        "BATCH_SIZE = 64\n",
        "train_dataloader = DataLoader(split_train_, batch_size=BATCH_SIZE, shuffle=True)"
      ],
      "execution_count": null,
      "outputs": []
    },
    {
      "cell_type": "code",
      "metadata": {
        "id": "yOkB3i_Kj0Iw",
        "colab": {
          "base_uri": "https://localhost:8080/"
        },
        "outputId": "dad02e02-69a3-4a1a-8163-ff90ca27e397"
      },
      "source": [
        "next(iter(train_dataloader))"
      ],
      "execution_count": null,
      "outputs": [
        {
          "output_type": "execute_result",
          "data": {
            "text/plain": [
              "[('pos',\n",
              "  'neg',\n",
              "  'neg',\n",
              "  'neg',\n",
              "  'pos',\n",
              "  'pos',\n",
              "  'neg',\n",
              "  'neg',\n",
              "  'neg',\n",
              "  'neg',\n",
              "  'pos',\n",
              "  'pos',\n",
              "  'neg',\n",
              "  'neg',\n",
              "  'neg',\n",
              "  'pos',\n",
              "  'pos',\n",
              "  'neg',\n",
              "  'pos',\n",
              "  'pos',\n",
              "  'pos',\n",
              "  'neg',\n",
              "  'neg',\n",
              "  'neg',\n",
              "  'neg',\n",
              "  'pos',\n",
              "  'pos',\n",
              "  'neg',\n",
              "  'neg',\n",
              "  'neg',\n",
              "  'pos',\n",
              "  'neg',\n",
              "  'pos',\n",
              "  'pos',\n",
              "  'neg',\n",
              "  'neg',\n",
              "  'neg',\n",
              "  'neg',\n",
              "  'neg',\n",
              "  'neg',\n",
              "  'neg',\n",
              "  'neg',\n",
              "  'pos',\n",
              "  'pos',\n",
              "  'pos',\n",
              "  'pos',\n",
              "  'neg',\n",
              "  'pos',\n",
              "  'neg',\n",
              "  'neg',\n",
              "  'pos',\n",
              "  'neg',\n",
              "  'pos',\n",
              "  'neg',\n",
              "  'neg',\n",
              "  'pos',\n",
              "  'neg',\n",
              "  'neg',\n",
              "  'pos',\n",
              "  'pos',\n",
              "  'neg',\n",
              "  'pos',\n",
              "  'neg',\n",
              "  'pos'),\n",
              " ('This 1998 film was based on a script by the late Edward D. Wood, a script that featured NO dialogue in the tradition of films such as THE THIEF. While much of Wood\\'s work was quirky low-budget entries into various genre-film traditions, his first released feature GLEN OR GLENDA was a truly visionary attempt to express the inexpressible through primitive avant-garde techniques. I WOKE UP EARLY THE DAY I DIED represents THAT side of Ed Wood, the experimenter, although this film is a comedy (a nightmarish comedy, however!), while the cross-dressing theme of GLEN OR GLENDA was taken so seriously by Wood that there was not room for comedy there. From the first few seconds of this film I knew that I was being taken to a new cinematic world, and I can\\'t really compare that world with anything else. The technical side of the film--production design, sound design, music scoring, photography, etc.--is groundbreaking on any number of levels. In particular, although the film has no \"dialogue\" there is sound of all kinds and also \"language\", but you\\'ll have to see how it\\'s done yourself, as the cleverness and surprise of the methods provides a level of excitement throughout. The Glen or Glenda-esque technique of juxtaposing stock footage for surreal effects works well in the film and is kept to a minimum. The whole film is played at a hysterical fever-pitch, and Billy Zane provides an amazing tour-de-force performance that shows what a brilliant physical comedian and actor he is. In a just world, he would have been given some award for this performance. He even LOOKS like Ed Wood, and as played by Zane this character is at various timesfunny, sleazy, tragic, sympathetic, and anonymous(sometimes simultaneously!!!). What a shame that this film was caught up in legal troubles and never received a North American theatrical or video release, only playing a few festivals. Right now, it\\'s only available on video in Germany (in fact, my copy is from a German source--the excerpts from Wood\\'s screenplay that are shown on the screen from time to time are translated into german, although the newspaper headlines (that great low-budget technique of giving plot elements, especially those that would be too expensive to film, via newspaper headlines is used here in the Wood tradition)that Zane sees are in English). I think that this film could have gotten a word-of-mouth following had it been played at midnight in some large cities with some careful promotion. And if played off city by city slowing on the art-film circuit, it could have done well. In fact, if the legal issues can be resolved, I\\'d like to suggest that the film should STILL be given a theatrical release, especially a MIDNIGHT \"cult\" release. This is a classic waiting to be discovered.<br /><br />Did I \"understand\" every scene? No, but I \"felt\" every scene emotionally. Did everything \"work\" in the film? Perhaps not. I\\'ve only seen it twice, and the first time I saw it I was interruped a number of times. However, with all the assembly-line junk playing the multiplexes and with so much \"alternative\" film being fetishistic or pretentious shot-on-video film-school rejects, we need actual Hollywood-made experimentation like this. The recent Bob Dylan film \"Masked and Anonymous\" took similar chances as did something like Steven Soderbergh\\'s FULL FRONTAL. This film could find an audience much larger than either of those. If you are reading this review a few years from now and the idea of this film sounds intriguing, see if it has ever been released on video. You will NOT be bored. Invite some friends over...make it a party. Play the amazing soundtrack LOUD. I have a feeling that, wherever he is in the afterlife, Ed Wood is happy with this film and feels as though his unique vision has been justified and validated somewhat by the making of this film. Wood\\'s probably also laughing that, just like he always seemed to get the bad breaks in life, the film made in tribute to him after his death is held up in lawsuits and sits unreleased in the country of its making.',\n",
              "  \"There are two kinds of characters on THE SHIELD: people who try to do the best they can and do the right thing, and people who relentlessly pursue their own self interest and commit every mortal sin they can while telling themselves and everyone else that they are heroes, and everyone's only hope. More than any other show, THE SHIELD is about hypocrisy and self-delusion. Unfortunately, the hypocrites and self-deluders are the shows heroes, and as such have the typical genre-fiction heroes' improbable immunity to getting defeated or caught and they come out on top over and over again, making fools out of all of their peers.<br /><br />The show boasts excellent camera-work. The lead ins and the fade outs are always superb. It really is a work of art to see. Unfortunately the story is a cartoony, overwrought wish fulfillment scenario of gratuitous violence, rape, and lies.<br /><br />The hero, who drags everyone down with him in failed scheme after failed scheme, is wiley like a warner bros cartoon character, always escaping and making fun of all the elmer fudds (anyone who does not support him in his lies and crimes), automatically attracting any good looking woman supporting character to come on the show, always surviving any attempt to bring him to justice, and ALWAYS scraping your ears with his excruciating self justifications. If another cop detects something wrong with something he's doing, and someone gets hurt because of his actions, he always blames the suspicious cop, regardless of the fact that his schemes and elaborate lies and doomed plans are always the cause. Every time.<br /><br />Like 24, this show relies on contrivances and innumerable delays to drag its story out for season after season. Boring, unbelievable long term stories are injected into the storyline every season to provide a skeleton on which to hang the bloody, perverted chunks of meat that are the characters' corrupt acts and the inevitable cover-ups.<br /><br />Most disappointing though, is the writers' hubris as they try to change the viewers' sympathies back and forth, to and away form the characters on whims. Sometimes, they want us to see Shane as the enemy. Sometimes they want us to see him as a poor misunderstood soul. Sometimes they want us to see Vic as a dangerous, sexual dynamo. Sometimes they want us to see him as a poor guy with a heart of gold. Sometimes they want us to see Mara as a low down vile Jezebel. Then they think that if they show her sitting and talking over her dreams with Shane, that we will find her to be sympathetic and tragic.<br /><br />None of this manipulation is adequate to obtain the kinds of sympathies they want. Once they've shown these characters ruin other people's lives for their own ends, that's it. It is nonsense to keep trying to flip back and forth. But then, it is also nonsense to produce seven seasons of these bumbling clowns drawing every super model in existence to their beds and running a crime syndicate right out of the police station, right under everyone's noses.\",\n",
              "  '\"Darkness\" was entertaining to some degree, but it never seemed to have a plot, lacking one more so than other films that have been accused of this detriment; i.e. \"Bad Taste\". It started off really good, with a man running from something. It was very creepy for these first few minutes, but after a time the film just became entertaining on the level of gore, which was hard to make out at some points due to poor lighting and horrible recording quality anyway. The film was hard to believe because of the juvenile acting, which most of the time, seemed like some friends talking to a video camera, making lines up as they went. That, with a lack of any plot whatsoever, made it look like the film was started without, and ended without, a script of any kind. As said before, gore was this film\\'s only drawing point, which much of the time was hard to make out.',\n",
              "  \"This reworking of Anthony Shaffer's classic play did not last long in cinemas. Having recently suffered through it on cable, I still congratulate myself for not wasting money on a ticket. Director Kenneth Branagh, writer Harold Pinter, and star/producer Jude Law deluded themselves that their prestige alone could sustain this travesty through an interminable 93 minutes, without the fun or class of the longer original.<br /><br />Michael Caine enhanced his reputation playing the second lead in the marvelous 1972 film. He now seems intent on destroying it by attempting the lead, played in that version by Laurence Olivier. (Both were nominated for Best Actor Oscars, but lost to Marlon Brando in THE GODFATHER.) Looking puffy and washed-out, Caine glides through the part with less depth than he displays as Batman's butler. He had already lowered himself to a guest appearance in the atrocious remake of GET CARTER. What's next -- ALFIE II, or SON OF THE MAN WHO WOULD BE KING? <br /><br />But then, no one benefits from this inane adaptation by Pinter, who thinks that frequent cursing and an added sexual angle can compensate for the absence of Shaffer's witty character interplay. Branagh's direction relies on bluish lighting and a soulless set design that wouldn't hold up in a second-rate nightclub. Neither the shadows nor the tight, overacted close-ups can help Law overcome his dull screen persona. The result is a failure both as straight drama and as detective thriller, almost making you forget the purpose behind the title.<br /><br />Fans of the original stage production (with Anthony Quayle and Keith Baxter) and the Olivier/Caine film would do well to regard this enterprise as a bad dream. The late Mr Shaffer, who wrote the 1972 screenplay, as well as Hitchcock's FRENZY and several Agatha Christie adaptations, must be turning in his grave, wishing he could plan a real murder or two!\",\n",
              "  'As the maker of \"This Darkness,\" I admit we neglected 3 very important acknowledgments in our end credits. The omissions were over-sights that could not be corrected once committed, nor did the parties involved --- who saw the movie --- mention it at the time. On behalf of the excellent cast and crew of the film, I extend them an apology. Obviously, some criticisms posted here are harsh in light of their credit being accidentally. Our production values were negligible and our \"special effects\" were quite special indeed, but the plot is very strong and the cinematography by John McLeod is superb. We hope you, the reader, enjoy \"This Darkness\" and the efforts of those who worked their butts off for free. Thank you, Dylan O\\'Leary, Director.',\n",
              "  'Despite some negative comments this film has garnered in the IMDb pages, it\\'s still worth a look as this is a story about survival and camaraderie between two different men with different mentalities while in a difficult mission in the Panamanian jungle.<br /><br />Peruvian director Luis Llosa takes us along to watch this thriller set in Panama. The film has some good moments as Beckett, the veteran marine, takes a newly arrived man, recently sent to try to eliminate a notorious drug cartel head and the corrupt army general who might be the next president of the country. The only problem, Miller, has no experience in what he has been entrusted to achieve.<br /><br />Miller, the arrogant newly arrived man to the jungle and to the guerrilla warfare between the military and drug lords against the infiltrated American intelligence men, learns a valuable lesson from Beckett. What looks good in theory, is irrelevant in the jungle.<br /><br />Tom Berenger, is an actor who doesn\\'t register much, as he proves in this movie, but in the context of the movie, he is right as a man of a few words. Billy Zane playing Miller does what he can with a role that doesn\\'t afford him any glory until the crucial end.<br /><br />For lovers of action film, \"Sniper\" offers an 112 minutes of action that with a bit of trimming would have made a more satisfying movie.',\n",
              "  \"The best that I can say about this film is that it was mildly amusing at times, and that it was an adequate time killer. Unfortunately, this film is also so annoying that I wanted to slap these characters around. This is the kind of film that is so sweet, it hurts your teeth. The intentions were good, I suppose, but things get awfully tiresome when the dialogue is SO nauseating. When the two leads aren't together on-screen, this really isn't bad at all, but be afraid during those frequent moments when the loving couple starts talking to one another.\",\n",
              "  \"When the film started the first 4 minutes seemed like a travelogue of California, I was wondering if I got the tapes mixed up. Then I breathed a sigh of relief to see Paul Thomas in a scene with the lovely Joanna Storm and Laurie Smith. This is being spied on by Jimmy (a young Tom Byron). Jimmy's aunt (Honey Wilder) is concerned about his behavior so she hires him a private teacher (Kay Parker). I could do without the animal, robot role-playing, or the incest aspects.There's one good sex scene, between Byron and Parker, but it's not good enough to save this film.<br /><br />My Grade: D+\",\n",
              "  \"It was a Sunday night and I was waiting for the advertised movie on TV. They said it was a comedy! The movie started, 10 minutes passed, after that 30 minutes and I didn't laugh not even once. The fact is that the movie ended and I didn't get even on echance to laugh. PLEASE, someone tickle me, I lost 90 minutes for nothing.\",\n",
              "  'What were they thinking at \"Cannes\"? One of the most irritating, films of all time. Every detail of this film, no matter how meaningless was shown. If I had to watch her put on those boots one more time I think I would have shouted. If the point of this film was to show how pathetic a life Rosetta had, then it was covered within the first fifteen minutes of the movie and then the credits should have been running. But no, we had to see countless redundant scenes over and over. The whole thing was filled with un-likeable and unsympathetic characters. They deserved the misery that was Rosetta. And to think I passed up \"Tumbleweeds\" to see this over-hyped film of boredom. It was like watching grass grow, only that is more exciting.',\n",
              "  \"I am surprised at IMDb's low rating of this movie. With all due respect, its low rating is representative of the IQ level of those who rated it so poor. They would rather see a movie with cheap thrills, a bigger budget, and more gore.<br /><br />The first misconception by people is that this is a horror film. It is not, nor does the film mislead you into believing it is one. It is a psychological thriller. It is for people who actually want an intellectual experience when watching a movie. Reel.com's review is the perfect example of how I feel about this movie. All the other negative reviews doesn't make much sense. It's almost as if trying to make an original movie for a change- very rare these days- is something bad and not worth it.<br /><br />I will reveal some spoilers for the morons who said it was boring and didn't make sense. Martha was brainwashing herself and performing experiments on herself to be a caring mother while she really was an evil Nazi who would kill without warning. The evidence is all in the pudding and the fact that at first viewing, we sympathize with this cold-blooded monster for the duration of the movie is a testament to the film's direction and writing.<br /><br />I definitely feel that this movie should at least be rated in the 6's range on originality alone. I recommend this movie for the people on the other end of the IQ scale- aka smart people- since this movie is obviously being butchered by those who would rather watch Scream or Freddy's Nightmare.<br /><br />Kudos to the acting as well. For such a low budget film, you are amazed that this movie didn't hit your local cinema with the great direction, writing, and acting. Please don't be fooled by the rating by IMDb. This movie is worth it. I actually recommend buying the film since a first viewing on a rent will not do this justice.\",\n",
              "  \"Great drama with all the areas covered EXCEPT for screenlay which was too slow and should have shown more relevant scenes like Pitt's character interviewing the President,or Pitt getting murdered instead of just having it described to us.Scenes like those would have kept the audience awake.Cutting away some useless minutes could have made more room for more heartpounding scenes like those.The dragging of the film kept this one from all time greatness although to see Pitt here makes the film so worth watching.Also,big fans of fising,early 20th century styles and Montana will really like this as well........\",\n",
              "  'This movie has one redeeming feature. At one point, after a character is attacked by an ax-wielding fairy, his brother asks him, \"Why is your dick over there, Chuck?\" After suffering through almost an hour of bad film, this almost made my drink come out my nose.<br /><br />Some of the acting isn\\'t too bad, but the kids all stink and P. J. Soles should be ashamed of herself for doing this film. The story is weak and nobody does what you think (or what common sense dictates) they should.<br /><br />Of course, there are a lot of story points that don\\'t add up. For example, in one scene the ghosts of young children must concentrate hard to move a physical object so they can prove they exist, a difficult feat since they apparently can\\'t interact with physical matter. However, minutes later they all pick up branches off the ground and beat the Tooth Fairy with them. Apparently they CAN sometimes move matter and sometimes they CAN\\'T. Go figure.<br /><br />Lots of blood and guts, though...a few nice boobs. But this doesn\\'t make up for the deficiencies.<br /><br />If you want a movie about the Tooth Fairy, go rent \"Darkness Falls\". I think it\\'s great, though a lot of other reviewers don\\'t share my opinion. At least it sets a mood.',\n",
              "  \"At the end of this episode Holmes asks Watson not to record the case for posterity.For a good reason! The super sleuth left his little grey cells(sorry Agatha)at home for this tale. There is no deductive reasoning,no acute analysis of signs at crime scenes. Holmes bumbles along fifty yards behind the plot. The dastardly CAM is finally dealt to by an old frail-in a manner that would have made Charles Bronson's heart swell with pride-six bullets in the breadbasket.In an ensuing chase a pursuer gets hold of one of Watson's shoes.Mercifully the writer didn't decide to tack on the story of Cinderella to lengthen the film.The murderess,Holmes and Watson,escape scot free. Oh well,it is a bit of a change of pace in late Victorian London.A bit of sixgun law:-)\",\n",
              "  'Now please don\\'t start calling me names like, \"unpatriotic\" , \"weirdo\" and more .<br /><br />The very length of this movie (4 hours .. !!!) is its biggest mistake . No editing at all - seems like J.P. Dutta fell in love with his project too much . Even Lagaan was 4 hours long - but it was entertaining and gave a message as well .<br /><br />It\\'s based on true incidents and real people . Kudos to it , but were the repetitive war scenes really needed ? On top of it the focus constantly shifted from one battalion / squadron to another and it was impossible to keep a track of them all .<br /><br />Between the skirmishes , there were songs about loneliness , lovesickness and related stuff . There were chummy conversations . In the beginning it gave some relief from the violence but became so monotonous later that one could even correctly predict nature of the forthcoming talk .<br /><br />Why were the soldiers walking around as if they were lions in jungle , fully unaware that enemy was lurking somewhere near? And when they were shot , it elicited sympathy but it seemed unmindful of them to be so cocksure of their safety in the first place .<br /><br />Music was melodious and the lyrics were soulful but did not fit with the movie . Better to listen to them on the soundtrack rather than in the movie .<br /><br />Acting was the saving grace : From seasoned veterans like Sanjay Dutt and Ajay Devgan , to relative newbies like Abhishek Bachchan and Akshaye Khanna , everyone acted like a pro . Manoj Bajpai and Ashutosh Rana deserve a special mention for lightening up the mood whenever necessary .<br /><br />Dialogues ranged from brilliant (\"From Madhuri .. with Love!!\") to illogical / monotonous (\"Pakistan se zyada musalman Hindusthan mein hain\") . And the expletive spree consisting of all the MCs , BCs , Cs and F-words wasn\\'t really required . <br /><br />LOC Kargil attempts to provide a fitting tribute to the brave Indian soldiers , but tries too hard and ultimately fails . Indian soldiers surely deserve a better tribute .',\n",
              "  \"The tighter the drama, the better the film of sister rivalry! This little gem was mainly promoted as a comedy upon its release in Sweden, so I'm glad to find that wasn't the whole case. Funny bits on small-town bickering are there to enjoy, surely, but the drama takes center stage, as the story progresses. And not just family drama, it also raises poignant questions on respecting differences of peoples' lifestyle choices.<br /><br />Great character ensemble with many superb and moving dramatic scenes that score credibility points; and they're not just scattershot, but hold everything in place. It just makes me assume that if Ingmar Bergman had made this (the drama would suit him!), the international attention probably would have been immediate.<br /><br />7 out of 10 from Ozjeppe.\",\n",
              "  'I saw the movie before I read the Michelle Magorian book and I enjoyed both. The movie, more than the book, made me come close to tears on several occasions. This film touches the deepest points of the human soul and never lets go. I encourage as many people to watch this masterpiece as much and as soon as possible. I give it ten stars.',\n",
              "  \"This is a story of a Jewish dysfunctional family. The parents have divorced and mom remains back east in the house. The father, Murray Abromowitz, moves with his children to California, and moves around Beverly Hills so that his children can get the best education possible.<br /><br />Things really become funny when Marisa Tomei, Murray's niece, comes to lives with the group.<br /><br />The film deals with the various adventures of the family complicated by the drug scene of the affluent neighborhood.<br /><br />Jessica Walter costars as a woman who wants Murray to move in with her since she wants a companion.<br /><br />Carl Reiner and Rita Moreno come in towards the end. They play Murray's brother and sister-in-law respectively; they're also the parents of Tomei. In front of the children, Reiner lets loose reminding Murray that he has been paying the bills for them all along.<br /><br />The film ends on a sour note as the embarrassed family moves out of their fancy digs and take to riding around Beverly Hills in their car. I guess the film is promoting independence and some good old self-esteem.\",\n",
              "  \"The movie was excellent, save for some of the scenes with Esposito. I enjoyed how it brought together every detective on the series, and wrapped up some plotlines that were never resolved during the series (thanks to NBC...). It was great to see Pembleton and Bayliss together at their most human, and most basic persons. Braugher and Secor did a great job, but as usual will get overlooked. It hurt to see that this was the end of Homicide. Memories, tapes, and reruns on CourtTV just aren't the same as watching it come on every Friday. But the movie did its job and did it very well, presenting a great depiction of life after Al retired, and the family relationship that existed between the unit. I enjoyed this a lot.\",\n",
              "  'And here\\'s yet another piece of evidence to claim that we should all worship the Italian giallo and acknowledge it to be the absolute most unique sub genre in horror. Emilio Miraglia\\'s \"The Red Queen Kills Seven Times\" is a totally mesmerizing wholesome of original plotting, stylish production values, enchanting music, great acting talents and inventively gory murder sequences. It\\'s a fabulous giallo (released in the golden year 1972) that belongs in the top-five of every fan of Italian cinema. The storyline doesn\\'t just introduce your average black-gloved & sexually frustrated killer, but blends good old-fashioned revenge motives with the macabre myth of the murderous \"Red Queen\". At young age, their grandfather tells the constantly fighting siblings Kitty and Evelyn about an uncanny lady who, once every 100 years on April 6th, kills seven people of which her sister is the inevitable last victim. Fourteen years later, Kitty has become the successful choreographer of a prominent modeling agency (even sharing her bed with the general manager) when suddenly the killing spree begins. Sister Evelyn would be the obvious culprit, but she moved to the States recently... Or has she? Complex yet compelling and involving red herrings are thrown at you every couple of minutes and the Red Queen character is definitely the most fascinating killer in giallo-history. Her face can never be seen, but she wears a blood red cloak and produces the most ghastly laugh whenever she made a new victim. She\\'s not exactly gentle either, as her victims are barbarically stabbed with a dagger, dragged behind cars and even impaled on fences! That latter one is truly one of the greatest (= most gruesome) acts of violence I\\'ve ever seen! What more could you possibly request? Some classy and tasteful nudity, perhaps? The gorgeous female actresses got this more than covered, among them Barbara Bouchet and a young Sybil Danning. Emilio Miraglia isn\\'t the most famous giallo-director, as he only made this one and the equally recommended \"The Night Evelyn Came Out of the Grave\", but his influence and importance should NOT be forgotten.',\n",
              "  \"I happily admit that I'm a sucker for a beautiful film, and sufficiently inventive camera movements and angles can be enough to keep my interest in a fairly long film. Not one the length of Gojoe though, even though it had some of the most remarkable cinematography I've seen since the Korean period piece MUSA. However, Gojoe provides far more than just beautiful images (as does MUSA... don't which to imply a contrast) - it's second greatest strength is superb acting, and a fascinating story with some very dark philosophy. I must admit to being quite unsure what the point was it was trying to make in the end, but it definitely provokes some thoughts along the way. Vague ones, but definitely thoughts :p<br /><br />One department in which the film could have been better is the action. There's a tremendous amount of bloodletting in the film, but the action is all filmed with hyperkinetic close-ups, and frequently obscured by objects in the foreground. It does create some very intense and impressive visuals, but it would have been nice to see some more actual moves, something to make it more believable that the villains could just wade through entire armies laying waste to everyone.<br /><br />Still, the film is definitely one of the most interesting and most beautiful films I've seen for quite some time. Recommended!\",\n",
              "  'In 1979 Lucio Fulci released his film Zombi. However, due to the earlier import of George Romero\\'s Dawn of the Dead, which had gone by that name for its Italian release, it was retitled to Zombi 2. (Which also had the bonus of letting the audience think this was a sequel to the second Romero movie). Continuing this theme, the second Zombi film, which would have been called Zombi 2, was then consequently titled Zombi 3. In the UK, the original Zombi film (that is, Zombi 2) was titled \"Zombie Flesh Eaters\". To continue THIS theme, the second Zombi film (Zombi 3) was then titled \"Zombie Flesh Eaters 2\" for its UK release. (Are you following all this?) So if Zombie Flesh Eaters was Fulci\\'s Dawn, then is 2 his Day of the Dead? While this is only a flippant observation, this tale of military compounds, helicopters and a plodding narrative certainly does bear a vague thematic resemblance.<br /><br />Some of Fulci\\'s European direction compels in a film like this, but the acting, dubbing and exposition-heavy script are absolutely horrendous. Its ecological message is so forced and overstated it can no longer be considered a subtext, while there\\'s an (unintentionally) hilarious Birds homage. Combining this last element with MOR 80s rock is not a good idea. For some reason I couldn\\'t stop thinking of Time of the Apes (q.v.) the whole time I was watching this. This is obviously not a good thing.<br /><br />While there\\'s nothing here to rival topless scuba-diving, shark wrestling zombies and eyeballs on a splinter, Fulci\\'s misogynistic leanings do get a work out with a hotel cleaner\\'s mouth being ground into a mirror until it gushes blood. His fannish gore predilections also see a hand severing. Both themes are combined when a woman\\'s face is ripped off, first by one zombie, then a zombie foetus that tears out of a pregnant woman\\'s stomach.<br /><br />Production-wise, this is obviously a step up from Zombi, coming five years later. (Nine years in worldwide release terms). But without the original\\'s low-key charm it struggles, while Stefano Mainetti\\'s music is inappropriate and uninspired. Fabio Frizzi\\'s score was one of the best things about the \\'79 movie. Here zombie attacks are played out to what sounds unnervingly like Bonnie Tyler\\'s \"Holding Out For A Hero\". In the middle of this carnage we get an irksome love interest, and Roger and Kenny, two bland macho types who do everything with acrobatic urgency and constantly state the obvious. (\"We\\'re out of ammunition\" to a stalling gun is a particular standout). But where it also falls down is in the zombies themselves. Low key or not, Fulci\\'s original had truly magnificent, rotting zombies. Skull faces, worms in eye sockets... they really were something to behold. By contrast, this dull follow-up opts for the more traditional \"men with a bit of paint on their faces\" option. <br /><br />The climax rips off too many Romero movies to even be funny, while the use of the DJ is a crass and cheap narrative device. Not containing the same elements of outrage and gratuitous nudity of the first, this is unlikely to have the same cult appeal. <br /><br />It turns out that Fulci actually walked out on the project after reportedly directing just fifteen minutes, the rest filmed by Bruno Mattei. I\\'m fairly sure that even Fulci would have balked at the ludicrous \"flying zombie head\" scene, and so credit to the director for having the good sense to leave. Unfortunately, however, it\\'s his name that\\'s above the film title on releases, so the majority of people will be left with the impression that this is a Fulci film through and through. On that scale then it\\'s a major setback for him, for this movie commits what you imagine Fulci would regard as the worst crime of all: that of being boring.',\n",
              "  \"My wife and I watch a film every night with no distractions, and mostly artsy films that require thought. I have tons of patience for films that are slow to blossom. My wife has double the attention span that I do. All that being said-- this film is just plain empty and BORING! It went nowhere. Never blossomed. It started fairly strong with a promising plot...then she bakes cookies...goes to Spain....she sulks, she stares....the credits roll. Uneven, full of holes, false starts & dead ends. We FF'd through several extended sequences of her just staring off into space. Artificial depth was implied when she played with the mud and cried. Zzzz...... It's like a beautifully shot chick-flick that's pretending to be deep or artsy. You never get to know nor understand Morvern at all. About halfway through you just don't care anymore. We just wanted to see at least one of the plot lines develop. Don't waste your time on this. I'm shocked it scores so high.\",\n",
              "  \"As there was nothing wrong with the acting etc etc the writing for the episode is way off for this series phantom or no phantom. It was a waste of 42 minutes to see the martian man hunter. You have to know that in the middle of the 6th series no matter what happens it is not true what is going on and really brings nothing to the story of the series except meeting the martian man hunter again and to waste 30 minutes to do this is by far another case of bad writing in the soap opera of smallville. I really like the show but mainly due to the cast and the 3 or so good episodes each year but who ever is on the writing cast that works or used to work on the soaps needs to be canned. This was by far one of the worst. With in the first 4 minutes you know that what is going on is bogus and anything happening is a dream based on Clark's infliction obviously caused by a phantom zone character and when he wakes up he will win and blah blah blah so the writers don't have to really create a villain that will progress the story line any this week. May as well have added another villain to die in the last episode the martian man hunter was in and made him fly away again or come back and tell Clark he forgot his sunglasses to get a closer look like in this episode and call it a day.\",\n",
              "  \"In 1987, John Hughes wrote and directed 'Planes, Trains and Automobiles', which was a hilarious and poignant comedy \\x96 the best thing he's ever done. Ten years on he's reduced to again recycling the plot of 'Home Alone' in this second sequel, which is not connected to the other films but is equally uninspired and sadistic. The four crooks \\x96 that's right, four! And one of them is a girl! Congratulations, Hughes, for introducing this revolutionary change to the series! \\x96 are electrocuted with metal chairs, brained with barbells and blinded with paint, ha ha ha haaaaaaaa ha, while the new kid is even less charming than Culkin. You'd think that the departure of almost all the key players from the first two films would stop Hughes from fossilising the same old routines, but the only surprise is that not even he turned up for 'Home Alone 4'.\",\n",
              "  'Steven Spielberg (at 24) had already directed two superb episodes of a 1971 series called \"The Psychiatrist\", starring Roy Thinnes. One episode had been about an emotionally troubled 12-year old boy and the other was about a vibrant young man (Clu Gulager in his best performance) who is dying of cancer. Both episodes were stunning, visually unlike anything else on TV, and emotionally complex and adult. The creators of \"The Psychiatrist\" were Richard Levinson and William Link, who created \"Columbo\" and also produced its first season.<br /><br />Peter Falk insisted on first rank, experienced TV directors for the first season of \"Columbo\", like Bernard Kowalski and Jack Smight. But Falk agreed to Spielberg after watching part of the Clu Gulagher episode of \"The Psychiatrist\".<br /><br />Spielberg says on the DVD of \"Duel\" that he loved Steven Bochco\\'s \"Murder by the Book\" script (based on a Levinson/Link story), and he tried to make the production look like a million dollar feature, even thought he had a lot less money to work with.<br /><br />This episode of \"Columbo\" is far more visually stylish and makes better use of the sound track and background music than almost any other \"Columbo\" episode, even though the series always used top directors. Spielberg manages to keep the great Falk and Cassidy from hamming it up too much, but both actors are still a lot of fun. Spielberg also gets fine supporting work from Martin Milner, Rosemary Forsyth and Barbara Colby. All the performances have a freshness and vitality about them. The only \"Columbo\" episode that was close to being as well directed is the \"By Dawn\\'s Early Light\" episode with Patrick McGoohan (directed by Harvey Hart).<br /><br />I think the two episodes of \"The Psychiatrist\" and this episode of \"Columbo\" suggest Spielberg hasn\\'t developed technically all that much as a director. He was great from the beginning. In a \"Combat!\" DVD commentary of a 1962 episode guest starring Albert Salmi, Robert Altman says that episode was pretty much as good as he ever got as a director. Maybe the same is true of Spielberg.',\n",
              "  'Modern viewers know this little film primarily as the model for the remake, \"The Money Pit.\" Older viewers today watch it with wisps of nostalgia: Cary Grant, Myrna Loy, and Melvyn Douglas were all \"superstars\" in an easier, less complicated era. Or was it? Time, of course, has a way of modifying perspectives, and with so many films today verily ulcerating with social and political commentary, there is a natural curiosity to wonder about controversy in older, seemingly less provocative films. In \"Mr. Blandings Builds His Dream House,\" there may, therefore, be more than what audiences were looking for in 1948. There is political commentary, however subtle. Finding a house in the late 40s was a truly exasperating experience, only lightly softened by the coming of Levittowns and the like. Politics in the movie? The Blandings children always seem to be talking about progressive ideas being taught to them in school (which in real life would get teachers accused of communism). In real life, too, Myrna Loy was a housing activist, a Democrat, and a feminist. Melvyn Douglas was no less a Democratic firebrand: he was married to congresswoman Helen Gahagan Douglas, whom young Richard Nixon accused of being soft on communism (and which ruined her). Jason Robards, sr., has a small role in the film, but his political activism was no less noticeable. More importantly, his son, Jason Robards, jr., would be for many years a very active liberal Democrat. Almost the odd fellow out was Cary Grant, whose strident conservatism reflected a majority political sentiment in Hollywood that was already slipping. But this was 1948: Communism was a real perceived threat and the blacklist was just around the corner. It would be another decade before political activism would reappear in mainstream films, and then not so subtly.',\n",
              "  \"The point of the vastly extended preparatory phase of this Star is Born story seems to be to make ultimate success all the more sublime. Summer Phoenix is very effective as an inarticulate young woman imprisoned within herself but never convincing as the stage actress of growing fame who both overcomes and profits from this detachment. Even in the lengthy scenes of Esther's acting lessons, we never see her carry out the teacher's instructions. After suffering through Esther's (largely self-inflicted) pain in excruciating detail, we are given no persuasive sense of her triumph.<br /><br />The obsessive presence of the heroine's pain seems to be meant as a guarantee of aesthetic transcendence. Yet the causes of this pain (poverty, quasi-autism, Judaism, sexual betrayal) never come together in a coherent whole. A 163-minute film with a simple plot should be able to knit up its loose ends. Esther Kahn is still not ready to go before an audience.\",\n",
              "  'Ah, the sex-and-gore movie. It\\'s too bad they don\\'t make these anymore (unless you live in Japan). But if they all turned out like this, that is not a bad thing.<br /><br />The movie basically consists of the two lovely vampires picking up \"johns\" along a country road, taking them home to their castle, having crazy sex with them, and then eating them (except the first victim, who they keep around for no particular reason). Things are complicated when a woman camping with her husband becomes too curious about these mysterious women she keeps seeing. It gets real ugly from here. By the end, the two vamps are in such a bloodlust that they\\'re eating everything in sight, and manage to let their captive victim escape. Oops, so much for that secret existence.<br /><br />The fact that the two vampyres don\\'t mind taking their clothes off and fooling around with each other is the only thing this movie has going for it. Otherwise, it\\'s a bloody, confusing mess (why is their tomb so far away from their castle?), watchable only for the scant few minutes of vampyre playtime. The only thing I got out of this movie was these two valuable bits of advice: shooting lesbians will not kill them; it will only turn them into vampires, and, don\\'t pick up hookers along a country road; they are probably vampires. Other than that, it really wasn\\'t worth my time.',\n",
              "  \"I can't really think of any redeeming features of this utterly bad rendering on Asimov than the art direction. Forget the product placement disaster, the unconvincing performance from Will Smith and the gargantuan plot-holes. This wasn't only laughable and but painful to watch. Even the action was boring. A mixture of MTV inspired production values and utterly bad dialogue probably aimed at very small children.<br /><br />What a shame that sci-fi this bad can still be made after we've had Bladerunner, Minority Report or to a lesser extent Dark City (by the same director). This one really belongs in the bottom 100 list. Truly awful.\",\n",
              "  \"Wow this was a movie was completely captivating I could not believe that I started awake so late to watch it but it came on late ounce I started watching I couldn't stop it had a full range of very good cast members wow even Eartha Kitt and Ruby Dee Forrest Whittaker and James Earl Jones and many more well known actors and actresses this was more than a glimpse into history it was eye opening into another part of society that people don't know of and may even be embarrassed to talk about . I've never heard of a book or movie about this before and this is something that black history never addresses only looks down on because they were privleged and mixed race , I highly recommend this movie\",\n",
              "  \"Facts about National Lampoon Goes to the Movies, a.k.a. National Lampoon's Movie Madness:<br /><br />1. The movie is poor, even by Lampoon's typical standards. 2. It's not funny. 3. No one goes to see a movie.<br /><br />So, after I finished watching it, I began wondering why on earth it's called 'National Lampoon Goes to the Movies,' and why it was ever conceived, much less actually made. It would be like calling Austin Powers 'An American Guy Goes to the Movies.' How lame. He isn't American, and he doesn't go to movies. None of the characters in Lampoon's so-called 'satire' are funny, and none go see movies, which causes a bit of a problem. I had hoped it would be something in the vein of Mystery Science Theater 3000, but it isn't.<br /><br />This was National Lampoon's first film after Animal House, although you couldn't tell it from the quality of film. Poorly developed, rough and amateurish by any standard, it induces headaches \\x96 not a good sign for an 89-minute movie that seems double the length.<br /><br />I've noticed a pattern. Really bad movies are typically renamed \\x96 and this little disaster falls under that category. It has two separate titles -- probably to help try and promote it to people too stupid to remember how bad a panning it received from home video critics in 1982/83. 'Hmm, Movie Madness \\x96 I've never heard of this movie before! Let's rent it!' And then, the realization: 'Hey, wait a minute, this is just National Lampoon Goes to the Movies!'<br /><br />It was shelved by MGM/UA, never to be released into theaters or DVD; it occasionally pops up on television a few times per decade, which is just about the only place you'll manage to find it.<br /><br />It's split up into three stories \\x96 a parody of self-enlargement videos, butter and corporate ruthlessness, and police brutality/cop-buddy films (I guess). The first segment stars Peter Riegert (Animal House) as a frustrated guy who divorces his wife and does some other stuff. I'm not sure what because it was so boring my mind started to drift. Until the sex scene popped up.<br /><br />Part II is about an exotic dancer raped by a stick of butter (don't ask) who decides to become Queen of the Margarine so she can cut off the supply of dairy products. Ouch! This contains the only funny line in the movie: 'Only I can make love with my son!' If you think that doesn't sound very funny, you're right \\x96 it's not. And just imagine \\x96 it's the highlight of this film!<br /><br />Part III is about a cop who chases down a serial killer (Christopher Lloyd) only to lose his nerve and shoot the guy. It does contain one funny scene but it's extremely over-acted \\x96 only Lloyd really exhibits any humor, playing his character dry and compassionate, yet strangely surreal. The part where he's choking his victim and the meek cop stands by watching it all unfold, at least, evoked a chuckle or two.<br /><br />It's a shame to watch such a cast of semi-famous names resort to low standards. The writers of each segment clearly believe that they're being very ironic and clever by spoofing so-called stereotypes \\x96 the fault being that the movie becomes one huge contradiction, favoring the standard T & A instead of plot; crude humor instead of witty dialogue; desperate performances instead of inspired ones. It's easy to see that none of the actors were enthralled with the material, muttering their lines, often so embarrassed they can seldom make eye contact with the camera.<br /><br />The movie isn't funny, as I said before. I laughed once, at only one line, and even then it was a halfhearted one. Two chuckles, a smile, and a very weak laugh. Compared to Movie Madness, a number of other decent comedies seem like regular laugh tracks.<br /><br />I like National Lampoon's Vacation series (or, at least three of four installments), and their classic Animal House, but their recent slew of direct-to-video bombs such as Golf Punks (with that great comic genius Tom Arnold) provide a good example of why their magazine went out of print more than a decade ago. It gets really old, really fast.<br /><br />Sad to see a new film, called Gold Diggers, is being released with their 'stamp of approval.' It's like condemning a film before it even hits theaters \\x96 maybe they should start not advertising their name all over the place\\x85<br /><br />Distributor: 'This movie is bad. It gets the National Lampoon stamp of approval. That'll teach you not to make something so awful next time.'<br /><br />Forget the death penalty. Just stick a bunch of criminals in a room and make them watch this over and over every day for a month.<br /><br />It's so bad that I can't even begin to explain its putrid vileness. I give up.\",\n",
              "  'A stunning realization occurs when some sort of phenomenon takes place!! Be it, firecrackers going off, witnessing a robbery, a hurricane nonchalantly devastating everything in it\\'s path, or, for that matter, any other spectacular occurrence !! In the case of the Maclean Family, however, reveille was something which was no more complex than their day to day lives..Montana in the early twentieth century was an environment which was rough and tumble...The Maclean family was comprised of four people, the father, a minister, who was ideologically driven to raise his family properly. His wife was God fearing, and dutiful. The two boys were, well...BOYS!!.. What else can you say?...Brad Pitt starred in this film before he was really THE!! Brad Pitt, and his acting performance in this film was, to say the least, remarkable!!!.. His brother, Norman, was the cerebral type, he was touched by emotions that were genuine, and motivated by a set of values that Missoula, Montana concurred with!! Paul (Brad Pitt) was a misfit from the offset, and lived on the edge...You would think that Montana in the 1920\\'s had no such thing, yet somehow, gambling, drinking, and violent confrontations, were as much a part of Paul, as was his fly fishing rod!! Fly fishing!! Did I say that? Parenthetically, this was the core of this movie\\'s theme!! The recreation of fly fishing served as the cohesive bond which homogenized the kindred spirits of the Maclean brothers, and to a lesser degree, the father!! I would describe the acting in this film as incredibly believable, and the cinematography went beyond sensational.. Put it this way, anyone who sees this film will want to live in Montana.. Breathtaking filmography of bluer than blue mountains and streams captured the youth and effervescence that the Maclean brothers had for life...Seldom in a film do you witness whereby feelings immediately invoke a dogged tenacity to accomplish whatever it may be that someone wishes to accomplish..The Maclean brothers lived life to the fullest, and for better or worse, the father knew that this was going to be the only way the two of them could become men!!...Robert Redford directs this film, and tells the story of the Maclean\\'s through the perspective of the older brother, Norman...Norman gets offered a position at the University of Chicago at age 26, and marries the woman he will always be in love with...What this film also points out, is that the younger brother, Paul, has attained an accomplishment of his own by being the epitome of a remarkable fly fisherman!! The seedier side of life prevails in the younger brother\\'s existence, and exerts an insidious form of consternation for the Maclean family!! As most human shortcomings go, the Maclean family made light of turbulent waters, (literally) and thus, established unity as a family, by putting necessary blinders on!!!<br /><br />The end of the movie \"River Runs Through It\" presents an epigram of life through the eyes of the older brother.. For Norman Maclean, stoicism is a prerequisite to perseverance in his emeritus years!! Such a fate is largely due to the fact that reflecting on his life is tantamount to yearning for people who have passed away! The fond memories of his brother, his wife, his mother, and his father, must now be viewed philosophically!! For Norman, his life has been relegated to stubborn facts that have determined his dubious outlook, and precarious resolve! Something as simple as the statement \"This was your life, and that is how you lived it\" is a somber recollection of the joy, the sorrow, the regrets, and the love, he gave, as well as was the recipient of!! Best put in the last sermon he heard his father give, his father said \"We can completely love someone without completely understanding them\".. Whether you agree with what has happened in your life or not, it happened nonetheless! Norman Maclean must come to grips with the fact that his life has been fragmented by misunderstandings! Norman Maclean has become a decrepit octogenarian who is polarized by virtual conclusions to his life!! The murky waters of Montana\\'s picturesque rivers serve as a vicious and desultory finalization to his years on earth!! Without question, the very prolific statement of \"what seems complicated is really very simple\" purveys a very acrimonious message in this movie...More simply put...The people and places which were important in Norman\\'s life, are now only a bittersweet memory....merely a painfully intellectual rumination of events which are aggravated by the haunted waters of Montana\\'s beautiful streams and rivers...To which, for the entire Maclean family, \"all things merge into one and a river runs through it\"',\n",
              "  \"My favorite part of this film was the old man's attempt to cure his neighbor's ills by putting the strong medicine in his bath. There is more than a sense of family, there is a sense of community.\",\n",
              "  'I find it rather useless to comment on this \"movie\" for the simplest reason that it has nothing to comment upon.It\\'s similar to a rotten egg which has nothing good to show to the world excerpt for the fact that it is rotten as other endless number of eggs have been before it. But since a comment is mandatory for such a grandiose insignificance ... <br /><br />Filth is definitely the proper word to describe this movie created in the same manner as any other Romanian \"movie\" directed by Lucian Pintilie who insists to depict the so called \"Romanian reality\" following the Communist era (1990 to present days).<br /><br />Under no circumstances recommended for people outside Romania as for the others (who lately find amateurish camera, lack of plot, lack of directorial / actors\\'s quality etc, noise etc. as being trendy and even art-like) : watch & enjoy this \"movie\" (as I know you will) but do the other well intentioned IMDb members a favor, don\\'t write an online review for it will misguide, irritate and in the end waste their time.<br /><br />On the other hand this movie (among others) has some value whatsoever, an educational one for it sets the example for : \"How NOT to make a movie.\"',\n",
              "  \"I really looked forward to seeing Nana after seeing Renoir amazing debut work, Whirlpool of Fate. I had read that Nana was generally considered his best silent film so I had high hopes. Sadly this felt like a huge step backwards.<br /><br />Catherine Hessling is the main problem with this film. Her acting is over the top, even for a silent film. Her acting is more like what one would expect in a film from the early teens, not the late 20s. She usually has the same face, which reminds me (sorry to say) of someone with constipation pains. It was also very difficult to believe that any man would fall for this femme fatale. There was nothing charming about her at all.<br /><br />The film was also quite long drawn, the camera work was uninteresting (aside from a shot of a horse race) and the editing was dull. The story reminded me of Pabst's Pandora's Box. It is interesting to compare the two because there are only 3 years between these films. Pandora's Box simply scores on every level where Nana fails.<br /><br />This film is only for Renoir completists or very serious silent films buffs.\",\n",
              "  'The actors did a really good job playing their roles--particularly the mom. However, as the movie progressed I found I was watching it more for their acting and not because I cared in the least for the people. And, at times, I felt irritated by the irresponsible and hands-off approach to parenting displayed again and again. The daughter is a 17 year-old shallow skank whose main ambition in life is bedding famous men and becoming a dancing nyphette (complete with lots of \"booty shaking\"). The son is a guy with low self-esteem that seems very desperate for a relationship and friends--so much that he throws a drug party late in the film. The husband and wife are both bored, but rather than put energy into their stale relationship would rather seek out new partners (though the wife picks poorly, as the man she \"throws herself at\" happens to be gay---OOPS!). I just felt that ALL the characters needed to grow up and had a hard time caring for such shallow jerks. I think the author\\'s attempt was to demonstrate the utter banality and hollowness of the capitalist system. However, given that these characters are NOT typical of the average western family, it seems disingenuous.',\n",
              "  'Too bad neither the animals or Eddie Murphy had anything to say worth saying. this movie is just bland.<br /><br />Children\\'s movie? Well, if you\\'re trying to get them to take a nap, then maybe. It\\'s just 90 minutes of some eye-wrenchingly poor animal lip animation to quips that aren\\'t funny. And the lip-sync\\'ing makes the old Godzilla films look brilliantly done by comparison. Meanwhile, Eddie \"Pluto Nash\" Murphy drones on with a suppressed understated delivery that is painful to experience. Apparently, he\\'s trying to modify his old manic persona, but to what? In short, all the magic and wonder of the 1967 original version is lost in this re-imagining, or whatever it is. A town wants to bully some forest creatures and blame them for doing bad stuff. No, really. And Pluto Nash can psycho-babble with them. Things chain along with some stale jokes to a dull uninspired conclusion with no surprises.<br /><br />Rent the \\'67 movie. Or some old Yogi Bear cartoons.',\n",
              "  'Ever since I started visiting this site, and voting for movies, I have never given any movie a rating of 1. Even the disturbing \"Dance! Workout with Barbie\" got a 2. There is a reason for this.<br /><br />Any time I find myself watching what I think is a really bad movie, I have to stop and ask myself the following question: \"Is this movie really as bad as the horrific soul-sucking beast that is \\'Theodore Rex\\'?\" And I\\'ve never been able to answer \"yes\".<br /><br />I would give anything within reason to know what crackhead said \"Hey! Let\\'s remake \\'Blade Runner\\' with Barney in the Harrison Ford Role!\" and decided it was a good idea to actually spend the time and money to commit it to film. Furthermore, I want to know what the hell kind of market they were going to sell this towards if it hadn\\'t gone strait to video. This is that rare monster: a movie that is way too violent for kids and way too insanely stupid for adults. I\\'d ask \"what were they THINKING?\" but in this case, it might actually be redundant.<br /><br />Anyhow, all you need to know is that you should only expose yourself to this monstrosity if you\\'re one of the five or six rabid fans of \"Howard the Duck\", or if you are curious to see the most Evil Insane movie of all time, or you want to REALLY punish yourself.',\n",
              "  'Ben Stiller doesn\\'t so much act as react. And he does it very well. He is very dependent on the comedy going on around him. In There\\'s Something About Mary, the stand-up hair scene only works because of Stiller trying to keep a straight face. When he confronts Mary\\'s other two suitors, he is the unfunniest guy in the room but the scene is hilarious.<br /><br />In Along Came Polly, the formula breaks down for reasons that are difficult to fathom. Stiller is surrounded by an array of comic talent. Hank Azaria and Philip Seymour Hoffman get the best lines, of which there are too few. Having said that, Hoffman relies a little too much on bodily humour - you know we are in trouble when they go to the fart jokes to raise a laugh. A basketball scene where Hoffman hams it up is completely overplayed (though it throws up one predicament in the form of a shirtless opponent that does raise a smile - noticeably through Stiller\\'s reaction). However, everyone seems to be acting in a bubble, there is very little reaction. Hoffman and Stiller\\'s characters could have played off each other much, much more. Aniston again reprises her Rachael role, but Stiller is no Ross. It is more of a \"Joey with a crush on Rachael\" scenario.<br /><br />Polly is a by-the-numbers rom-com and that is its failing - it lacks heart. You don\\'t root for the characters. With a little bit more work we could have had a deeper story, but in the end the film\\'s failure comes down to poor writing. Worth watching if it pops up on TV on a slow night, but you\\'ll regret forking out cash to see it.',\n",
              "  \"Whoever made this nonsense completely missed the point. Jane is a silly comic strip to titillate without being sleazy.<br /><br />This giant mess tries to be funny and exciting but is just a shambles. There is not one decent performance in it..even the usually reliable Jasper Carrott is painfully unfunny.<br /><br />The American bloke whose name escapes me is just as rubbiush as he was in flash gordon.<br /><br />Maud Adams tries as a villianess but she is a bit long in the tooth for this type of thing. All of these things would not matter if the girl was sexy or funny or likable.She is not. Kirsten Holmes faded into obscurity after this and so much the better.<br /><br />I've flushed more entertaining things than this down the toilet. Avoid\",\n",
              "  'Here we have a movie which fails in pretty much every way it is possible for a movie to fail. Terrible script, lousy acting, amateurish directing, laughable special effects...it\\'s just an utterly awful movie. Not to mention the fact that when you get to the end you\\'ll realize the whole thing doesn\\'t make a lick of sense. After spending the whole movie wondering what in the world is going on here when things are finally explained you realize the story has been built on a foundation which is ludicrously impossible. In one of those hideous \"villain explains the whole movie\" sequences we are told that our villain has done something which quite simply can\\'t be done and which makes absolutely no sense whatsoever. Oh, and after that we see that there also appears to be some kind of jell-o monster involved. I\\'m sure Drew Barrymore would very much like to pretend this movie never happened. If for some ungodly reason you are ever tempted to sit down and watch this movie may I suggest instead taking that time to bang your head against a wall for 104 minutes. That would prove to be a much more pleasurable experience than sitting through this garbage.',\n",
              "  'An excellent movie about two cops loving the same woman. One of the cop (Périer) killed her, but all the evidences seems to incriminate the other (Montand). The unlucky Montand doesnt know who is the other lover that could have killed her, and Périer doesnt know either that Montand had an affair with the girl. Montand must absolutely find the killer...and what a great ending! Highly recommended.',\n",
              "  \"I am beginning to see a very consistent pattern form in the identity of 2007's films. If 2004 was the year of the biographies and 2005 was the year of the political films, 2007 can be identified as a year featuring a wide plethora of morality tales, films that portray, test, challenge and question human morality and the motives that drive us to do certain things. Although this identification is rather broad, I think that there are a handful of films released this year, such as 3:10 To Yuma, Eastern Promises, American Gangster, No Country for Old Men and others that specifically question and study human morals and the motives that drive us to acts such as violence or treachery. Before the Devil Knows You're Dead is a deviously stylish morality tale, and quite a dark, bleak and depressing one at that. And even better is the fact that it comes from one of the greatest classic directorial forces of our time, the legendary Sidney Lumet, who many have said has passed his prime but returns in full force with this viciously rich crime thriller.<br /><br />It's one of those films whose plots are so thick, that one is very reluctant to go into details. It is a movie that is best enjoyed if entered without any prior knowledge to the events about to unfold, as there are twists and turns. But the thick and richly wrought plot is not at all at the center of this film; the true focus is, as I mentioned, the morality tale; the motives that drive these two men to the actions they do in the film. In a plot structured like a combination between the filmographies of both The Coen Brothers (namely Blood Simple and Fargo) and Quentin Tarantino, we see two men driven under various shady circumstances to pull off a fairly simple crime that goes incredibly, ridiculously wrong, and reciprocates with full force and inevitable tragedy. And to make it all the more interesting, the film is told in a fragmented chronology that keeps back tracking and showing a series of events following a different character every time and always ending up where it left off the last time. Sizzling, sharp, thick and precariously depressing, Kelly Masterson's screenplay is surprisingly poignant and well rounded, in particular because it is a debut screenplay.<br /><br />But the film has much more going for it than just it's delectably sinister and quite depressing plot. First and foremost, the picture looks and feels outstandingly well. Sidney Lumet has, throughout his career, consistently employed an interesting style of cinematography and lighting: naturalistic and yet stylish at the same time. The film carries with it a distinctive air of style and class, with wonderful natural lighting that just looks really great. Editing is top-notch; combining the sizzling drama-thriller aspect with great long takes that really take their time to portray the action accordingly. And vivid, dynamic camera angles and movements further add to the style. The film is also backed by a fantastically succulent musical score by Carter Burwell.<br /><br />The screenplay does its part, and of course Lumet does his part, but at the film's dramatic center are three masterful actors who deliver incredibly good performances. First and foremost, there are the two leads. Leading the pack is Philip Seymour Hoffman, who has always been an excellent actor but has stumbled upon newfound leading-man status after his unnaturally fantastic Oscar-winning performance in Capote. His turn in this film is fascinating: severely flawed, broken, manic. Hoffman has some truly intense scenes in the film that really allow his full dramatic fury to come out, and not just his subtlety and wit. At his side is Ethan Hawke, who has delivered some fantastic performances in many films that are almost always overshadowed by greater, grander actors. Here, he bounces off Hoffman and complements him so incredibly well; in all, the dynamic acting between the two of them is just so utterly fantastic and convincing, the audience very quickly loses itself in the characters and forgets that it's watching actors. And then there's Albert Finney. Such a supple, opulent supporting role like the one he has requires a veteran professional and here Finney delivers his finest performance in many years as the tragically obsessed father to the two brothers who get caught up in the crime. I love how the dynamics between the three of them play out. I love how Hoffman is clearly the dominant brother and shamelessly picks on his younger brother even now that they're middle-aged men; and yet despite this, it is clear how Finney's father favours Hawke's younger, weaker brother. Also on the topic of the cast, the two supporting female characters \\x96 wives of the brothers \\x96 also feature fantastic performances from Amy Ryan and Marisa Tomei, whose looks just get better and better as the years go by.<br /><br />This film isn't revolutionary. These themes and this style have already been explored by the likes of The Coen Brothers, and it's very easy to imagine them directing this film. But for a film that treads familiar ground, it simply excels. Lumet employs his own immense directorial talent and employs his unique and very subtle sense of irony and style to Masterson's brilliantly vivid, intense, and morbidly depressing first-time screenplay. The lead performances are incredibly intense and the film features absolutely fantastic turns from Hoffman, Hawke and Finney; but the truly greatest wonder of the film is that three years after he won a Lifetime Achievement Oscar, much revered as the ultimate sign of retirement in the film business, Sidney Lumet proves that he still has the immense talent to deliver a truly wonderful, resonant, intense piece of cinema reminiscent of his golden years.\",\n",
              "  'This motion picture has a steady, haunting pace backed up with great acting (one of Chamberlain\\'s best performances) and a story that is revealed to us over time.<br /><br />Beyond that, the music fully establishes the mood and assists in maintaining an uneasy, cautious and somber tone.<br /><br />Weir\\'s story is enhanced by using aboriginals, their stories and their tensions with the dominant white population to deliver a fantasy tale that is ominous.<br /><br />Although they are unrelated in story as well as genre, this maintained the same feeling within me as Ursula Le Guin\\'s \"Lathe of Heaven\" (1980). <br /><br />\"The Last Wave\" is a dramatic thriller with some shocking moments. Remember, \"hacking and slicing\" doesn\\'t make a film a horror movie, it\\'s the psychological element of fear and trepidation that rests within us all.',\n",
              "  \"i am totally addicted to this show. i can't wait till the week goes by to see the next showing. it's a great story line and it has the best actors and actresses on the show. i will tune in every week to watch it even if i am not home i always have my vcr set to tape monarch cove. simon rex is the best actor on the show. it is suspenseful and exciting. i think this show should stay on the air and i believe everyone should tune in to watch it. i saw the very first episode and actually i wasn't going to watch it but i was watching lifetime one day and i decided to watch it because it was on and i absolutely love it and right now it's my favorite show. i am really mean it.\",\n",
              "  'I was always curious about this film because it is so tough to find, so when I stumbled upon it on Ebay I forked over the $10 and bought it, now I understand why its so rare! This film is SO bad, so terribly written and hopelessly low budget that the ending credits, which show all of the cut scenes where they fumbled their lines, are literally the movie\\'s highlight. The film is about a psychic (Pettyjohn, cast for one obvious reason, her topless scene) whom uses her powers with an experimental machine to pull objects from another dimension into this reality. When she pulls in some kind of box like object the military nonchalantly throws it into the open back of a truck with one soldier to guard it, and gee, what do you know? SURPRISE! A kid in a foam-rubber monster costume pops out, instantly kills the soldier with a scratch across his face, then escapes to a nearby city. But rather than deploy half the armed forces of the county to find it and protect the public those in charge just leave it up to Pettyjohn and Ray to find it on their own, but no matter, this movie blows all its credibility LONG before then. This barely escapes being voted a 1 by me only because of unintentional laughs, somebody needs to alert the producers of \"Mystery Science Theater 3000\" if they don\\'t know about it already! 2 out 10, really, REALLY bad!',\n",
              "  'My 3rd-year French classes always enjoyed this film very much. In a multi-cultural, inner-city high school, the film provided many subjects for discussion (in French in class, but I know a lot of discussion went on in English after class). The most obvious is the relationship between Protée and Aimée compared to the one between Protée and France.<br /><br />I always mentioned that I felt this film had one of the \"sexiest\" scenes I had ever seen in a movie. One year, a 17-year-old African-American shouted, \"Yes!\" when he figured out the scene: the one where Protée is helping Aimée lace up her evening dress, all the while both are examining the reflection of the other in the mirror. Directors use the \"mirror technique\" when then want to focus on the inner conflict on the part of one or more character in a scene: this is a perfect example of the technique, and it is \"sexy\".<br /><br />Most students had trouble understanding the end of the film. One suggested that one theme of the movie was \"Africanism\", and that no matter how much one loved Africa or Africans, one cannot \"become\" African (like the driver tried to do): one must BE African.',\n",
              "  \"Frank Tashlin's 'The Home Front' is one of the more lifeless Private Snafu shorts, a series of cartoons made as instructional films for the military. Rather than have Snafu take some inadvisable actions leading to disaster, 'The Home Front' instead focuses on his loved ones back home and how much they have to offer to the war effort too. Snafu realises he was wrong when he thought they had it easy. It's a concept with few possibilities for good gags and instead Tashlin plays the risqué card more heavily, extended jokes involving strippers and scantily clad dancing girls in place of much effective comic relief. The result is a well-meaning short which has little relevance or entertainment value today other than as an historical artefact.\",\n",
              "  'i can\\'t believe i actually watched this but i guess i just wanted to know if this movie would get unintentionally funnier and funnier towards the end. and it did. the climax was the poorest performance ever given by the defence lawyer - so out of real life that even for a fictional story it was far too weird. no way anyone on this planet can behave in front of a court like she did. and probably the worst prosecutor on earth. why was he in court anyway? he did nothing and absolutely nothing to prove her guilty. a simple search of her house would have resulted in the find of the rings. but no go. he preferred to say \"objection\" 2 or 3 times during the whole trial - that was it. the blonde lunatic was given a truth-drug to prove her innocent but not Brett. the lunatic almost had an altar of Brett in her home that could have proved her sick obsession. but again no go. during the court scene i felt the silent urge to take the needlepoint out of her hand and bang it several times against her head. even real weirdos do not look that silly fake \"i am innocent\" like she did. and what does this movie tell us? never marry a woman with a life insurance: as soon as she falls down the stairs her husband will be thrown into jail, guilty or not. evil, evil men.',\n",
              "  'Gerard is a writer with a somewhat overactive imagination. He is also homosexual and Catholic prone to Catholic guilt and something of a clairvoyant, or so it seems. On a trip to Flushing he is \\'seduced\\' by Christine. When he discovers that Christine\\'s new boyfriend is the bit of rough trade he\\'s been fancying from afar he decides to stick around. After all, enforced heterosexuality has its compensations. Then he realizes that Christine\\'s previous three husbands have all died violent deaths. Did Christine murder them and is he or the boyfriend, Herman, going to be \\'the fourth man\\'? Verhoeven\\'s overheated, over-egged melodrama is a delicious blend of Hitchcock and David Lynch, full of OTT eroticism and religious imagery and an awful lot of the colour red. A lot of the time it looks and feels like a dream and we can never be sure that what we are seeing is real or a figment of Gerard\\'s imagination. The fun is in figuring it out. Also the fact that Christine is an infinitely more likable character that either the priggish Gerard or the bullish Herman means we are hardly like to root for either of the men over her. In fact, it\\'s fair to say Gerard\\'s comeuppance can\\'t come soon enough. Super performances, too, from Jeroen Krabbe and Renee Soutendijk and easily Verhoeven\\'s best film up to his wonderfully subversive piece of sci-fi \"Starship Troopers\".',\n",
              "  \"Why take a show that millions of us watched and loved as children and make a complete joke of it? They ask why Hollywood isn't making the money it used to. Because they put out garbage and pay actors huge amounts of money to be garbage men and ask us to pay $10 to see their garbage. The TV show was what it was, good people in bad situations where the good IL' boys come out on top. It wasn't Gone with the Wind but it was fun. This movie is garbage! Hollywood can't come up with anything original so they take something that was good and ruin it for some $$$$. I only hope that this movie makes 10x's less than it cost to make. The only one's to have any fun with this crap are the guys who got to drive the General Lee. The audience is the victim.<br /><br />Don't see it, watch the reruns of the TV show instead. They still hold up 20 years later.\",\n",
              "  'All of you who despaired looking at the emptiness and weaknesses of Disney Studios\\' last productions, here comes something that should heal your wounds... Once and for all, A Bug\\'s life brings the proof that purely synthetic pictures conducting a good scenario provides more interest than fake \"hand-made-old-Disneys-like\" drawings (see the Lion King, Pocahontas, and all the latest productions where you sadly regret that Bambi\\'s magical background and atmosphere are gone forever).<br /><br />A bug\\'s life (1001 Pattes for my fellow french cinemaniaks !) succeeds in avoiding all the imperfections that make you awaken in the middle of the movie and say \"Hey, this thing is computer generated !\". No weak parts, a tremendous effort showing its efficiency in the backgrounds and the general look of the sets, an astonishing 3D bird (close to perfection in its imitation of reality)... and that\\'s only to mention the technical aspects.<br /><br />The scenario, my friends, the real backbone of a motion picture, has some thickness ! Curiously, and obviously thanks to Lasseter\\'s team, there is practically no musical sequence in A bug\\'s life. Which means the story is long and rich enough to free itself from these 3 or 4 minutes that some kids appreciate, but most others dislike (same thing for the parents or the anime fans, like me). This movie reminded me of a really old movie featuring Steve Martin and Chevy Chase : the 3 Amigos ; it had basically the same background story (a whole mexican village living in the fear of a few bad guys hires gunmen (who finally turn to be actors) to protect them, etc...). Simple, but efficient, and brilliantly adapted to a colony of frightened ants facing the wrath of vicious insects.<br /><br />Since Microcosmos, many movies tell tales of insects, their lives, fears and hopes, but I do think that A bug\\'s life is the funniest and best directed of all. The humanisation process has been perfectly well achieved... And the whole audience was captivated by Flik\\'s (aka Tilt in France) adventures.<br /><br />A big thank you for Lasseter\\'s team, especially for the last 30 seconds... it\\'s so strange and great at the same time to see a whole theater caught in laughter while the bugs/actors forget their lines or hit the camera...<br /><br />And finally, especially for those of you who have seen the french version, other congratulations go to the dubbing actors who made a great synchro work on this movie. A bug\\'s life is a really good piece of entertainment, and I think it will soon become part of my collection of videos (a privilege granted to extremely few movies, and that\\'s not a problem of storage room :). Go and see it, that\\'s an order.',\n",
              "  'I do not recommend this movie , because it\\'s inaccurate and misleading, this story was supposed to be in Algerian Berber territory, this one was shot in the southern Tunisian desert, (completetly different culture, I know I am from both Tunisia and Algeria), the other shocking element was the character of her companion aunt, speaks in the movie with a very eloquent french, university level academic french while the character she plays was supposed to be of a disturbed never left her mountain kind of personage, so living as a Bedouin with that kind of education i that context is impossible, The most disgraceful scene and disrespectful especially for the people of the region is the \"femme repudiee\" segment which is s pure invention from the writer/director, things like that will never happen in a Algerian Society ever!!!',\n",
              "  'I can\\'t believe I waste my time watching this garbage! I did because Leonard Maltin gave it an \"AA\" rating, and for TV movies this is usually a reliable indicator of some quality entertainment.<br /><br />The acting was OK, but whoever wrote it should be forever denied access to any medium of communication. The plot is ludicrous, the motivations of the \"bad guys\" totally absent, and the various family interactions silly and shallow. For example, Dad preaches that violent reaction to aggression is BAD, but he turns out to be an \"admirable\" person NOT because of his \"ignore the idiots\" philosophy, but because he\\'s pretty good with his fists...<br /><br />The ONLY message I was able to glean from this pap was that the nuclear family is Good and alternate living arrangements are Bad. Oh, and Bad people happen to Good people.',\n",
              "  \"This is a very difficult movie, and it's almost impossible to get a handle on what's going on. At first it seems to be a rather pedestrian movie about a guy (Trelkovsky) who needs an apartment and rather crassly invites himself into one when the current tenant (a woman) commits suicide. Then the twists and turns start. Are the neighbors trying to kill him? And why are the dead tenant's clothes turning up in the apartment? One wonders, finally, if Trelkovksy _is_ the prior tenant. <br /><br />SPOILER SPOILER SPOILER SPOILER SPOILER SPOILER <br /><br />One of the tricks Polanski pulls on us is to lie to us. We assume when we see things from the point of view of a character that we see things as the character does and that there may be distortions of reality. We assume when the camera is showing us things from its omniscient point of view that we see actuality - but Polanski has the camera lie to us.\",\n",
              "  'I am amazed at the amount of praise that is heaped on this movie by other commentators. To me it was rather a disappointment, especially the combination of historical facts, fantasy and the main character\\'s internal turmoil does not work at all (in Vonnegut\\'s book Slaughterhouse Five and even in George Roy Hill\\'s adaptation for the screen it does). Credibility is often overstretched. Too many questions are left open. Did I miss some central points? Or did I fail to spot the lines that supposedly connect the dots? <br /><br />A boy called Campbell, Jr., grows up in upstate New York. At home his father has many technical trade papers and one book. It has photographs of heaps of dead bodies in it. The boy leafs through the book, his dad doesn\\'t like his doing that. What should this tell me? The family moves away from upstate New York to Berlin. BANG. It is 1938, the boy is a married man in Berlin and a theater playwright. What kind of plays does he write? In what language? Is he successful? His wife is an actress and looks glamorous. The parents move back to the USA and invite their son to do the same. He does not. Why? Because having grown up in Germany he feels more German than American? Because he is successful? Because his wife is? Because he likes his life there? Because he likes the Nazis? Because he is just plain lazy and doesn\\'t like change? Don\\'t ask me.<br /><br />Possibly, the man just does not care, is not interested in politics, is a kind of an existentialist. He states that he is deeply in love with his wife. He speaks of his Republic of Two (meaning he and his wife). There is little to no evidence proving his love for his wife in the movie, it much more seems a Republic of One.<br /><br />On the request of an American agent Campbell, Jr., agrees to broadcast anti Semitic Nazi hate propaganda to American listeners as a device for transmitting encrypted messages to American authorities who read between the lines. The crucial meeting with the agent on a Berlin park bench is short, unexciting and anti climactic, the decision to play along comes pretty easily with no explanation, the rise up to broadcaster seems to be uneventful and apparently fast.<br /><br />So now we have Campbell, Jr., presenting himself over the air as the Last Free American. The scheme for transmitting secret messages is fairly realistic and exciting - although one wonders what happened when Campbell, Jr., really and honestly had to cough, hiccup etc. (must have scrambled the messages terribly). Anyway, the Nazis lose, the wife dies (touring in the Crimean for German troops - I never heard such tours really happened on German front lines in WW II), Campbell, Jr., says he goes to the Russian front but does not go, is captured by an American soldier who recognizes his mug (how come?), is dragged to a sight-seeing tour in Auschwitz, is then released and resettled with the help of the Crucial Agent somewhere in the City of New York.<br /><br />AND THIS IS WHERE THE STORY REALLY STARTS <br /><br />BANG. From now on it is like a short story by Paul Auster. It is 1961, Campbell, Jr., lives in New York tenement as a has-been and mourns the loss of his wife. Nobody really cares - or do they? Yes, somehow they do, and his neighbors offer some sort of distraction. Auschwitz survivors. A painter. Some American supremacists \\x84discover\" him and want him to be their figurehead. They even find his presumed dead wife for him, or is she his wife? Anyway, in the end Campbell, Jr., calls in at the Israeli consulate, and they obligingly give him the Big War Criminal treatment, placing him in the cell adjacent to Adolf Eichmann\\'s. He writes his life story and, once this task finished, hangs himself on the typewriter\\'s ribbons without getting sooty the least bit.<br /><br />While I can see that there must be an issue of guilt and of loss, I just had the impression that the main character is a person who at all times is pretty indifferent to everything and hardly capable of love for anyone. So I found it difficult to sympathize for this looser who mourns his loss. Amazingly, many reviewers focus on his status as a potential war hero, having put his reputation at stake for playing the Last Free American. I assume according to them this took a lot of courage. As a matter of fact, however, the movie suggests that by accepting the assignment Campbell created for himself a win-win situation, as he would have been politically on the safe side no matter who had won the war. The danger of his being uncovered never comes up during the first part of the story.<br /><br />One might argue, that the whole story is a dreamlike fantasy and that nobody should bother with historical accuracy or a logical development of the story which explains everything. But even then it fails to make a point, primarily, I suspect, because the love affair in the Republic of Two falls completely flat. This is a pity, especially if you consider that the wife was played by Sheryl Lee, a talented, versatile and sensuous actress. She has much too little screen time and is forced to use a ridiculous German accent. Another somehow neglected aspect are the different texts (confession, broadcast and hidden messages), but I guess this is largely unfilmable. Maybe I should give the book a chance.',\n",
              "  \"Although there's Flying Guillotines as part of the title of this movie, it has no connections to the original Flying Guillotines (1975) and its sequel Flying Guillotines II (1978). The two originals are masterpieces of kung-fu movie and still stands out as a classic. This is a much inferior copy of the original, and even as a regular kung-fu movie, it's below average.<br /><br />First of all, this movie doesn't have much acting. It's one senseless fight scene after another, and flying guillotine doesn't even play a major part in them. Story is about some Shaolin monks who are tracking down some villains who've took off with a sacred book, and an evil prince who owns part of this book is part of the plot. The same evil prince has plans to lure the monks in and use the flying guillotines on them.<br /><br />There are four movies with Flying Guillotine as part of its title. This in my opinion is of least quality. The design of the flying guillotine in this movie is different from the other three indicating that this movie was produced by a different entity from the other three.<br /><br />The movie has no chemistry asides from being unintentionally funny due to poor production. <br /><br />Best skip this and watch the two originals.\",\n",
              "  \"Like the Arabian Nights this film plays with storytelling conventions in order to make us feel that there's plot, plot and more plot: it opens with what appears to be the frame device of a blind man telling the story of his life, then plunges into a flashback which takes us right up to the blind man's present, where we discover that about half of the story is yet to come. (It must be admitted that the second half doesn't quite live up to the promise of the first.) Like the Arabian Nights it tries to cram as many Middle-Eastern folk motiffs as possible into the one work. A freed genie, a beautiful princess, a flying carpet, fantastic mechanical toys, sea voyages, a crowded marketplace, a wicked vizier, jewels ... I don't know why it all works, but it does. Everything is just so beautiful. The sets are beautiful. June Duprez is beautiful. Rozsa's score is especially beautiful. As usual, it sounds Hungarian; but somehow he manages to convince us that he's being Hungarian in a Persian way.\",\n",
              "  \"so halfway through the season, i got so caught up in school and my activities that i didn't realize that the show had been canceled halfway through, which is crap.<br /><br />i think the followers of this show should write fox and ask them to at least finish filming so that a the season can be released on DVD later. maybe then they'll see how many people were disappointed that the show didn't survive its first season.<br /><br />i loved the show and looked forward to it every thursday after the OC. can you imagine my disappointment when i came back to try and watch the show only to discover that it had disappeared? needless to say, i'm not very happy with fox right now. even more so after discovering that NO ENDING WAS FILMED. i mean, if you're going to work on a project, at least finish it to see what happens. a half filmed show is like a half made car, it's pretty much useless. fox, film the damn ending and give some of the show's fans some peace.\",\n",
              "  \"Gayniggers from Outer Space is pretty much summed up by its name. Running only 27 minutes long, it describes a spaceship of gay blacks that come to Earth to free the men from women. While I see a little significance to the plot, it also is really illogical. Granted, its meant to be a comedy/spoof on society and science fiction. I found myself laughing several times, so it succeeds there.<br /><br />The special effects are horrible. When the spaceship is floating above the Earth, you can see stars zoom by for no apparent reason. The asteroids shown in the beginning look fake, the equipment on the ship is illogical, there are several misspellings in the text, the actors are unconvincing, the characters are messed up; in general, the whole thing doesn't take itself seriously. If you get past all the aspects that make it a bad movie, its very accessible and easy to see through to the end. Some parts are hilarious. But overall, the only thing that you are left remembering is that it was one of the most ridiculous concepts ever.<br /><br />Seeing that its a short film and has some funny aspects, its not the worst thing to see. But its illogical and holds little long-term value. I can't really recommend it; if you do watch it, do so for the unique concept, not the quality.\",\n",
              "  \"With the death of her infirmed husband, May, an older woman faces a future in an urban world that views her as invisible, dead from the neck down, and unwelcome in the pseudo- sophisticated yuppie homes of her son, Bobby and his shallow wife, Helen, and Paula, a self- absorbed, clinging, and minimally talented daughter. The central family is anything but warm, supportive, and understanding of her new and tragic stage in life with the death of her husband. The Mother is a quiet character study that points up how in some societies, the elder parent is both unwelcome and a burden to grown children whose careers and status seeking overshadow all else. <br /><br />As May comes to realize the world is still important to her, the lonely widow finds her libido reawakened and alive with her daughter's boyfriend, a carpenter and rough sort. May embarks on an uninhibited sexual affair with Darren whose character is sympathetic to her at first, but his flawed nature is quickly revealed through the pressures of the women who surround him.<br /><br />This is the kind of role Hollywood actresses of a certain age whine is never written for them, but would never appear in because the film's frankness, overt sexuality, unglamorous wardrobe, little makeup, and social commentary on the vapidness of the very society most film industry women are enchrenched. The performance by the lead actress, Anne Reid ranges from quiet to giddy and her interpretation blossoms on screen from the drab widow to a sexually alive and freed middle age woman without face-lift, hair extensions, and liposuction. She bares more than her soul for the screen.<br /><br />Daniel Craig is the enabling handyman, Derrek who beds both mother and daughter. He turns in another stellar performance that is at first sympathetic to the widow's situation, but in the end is without redemption as his true nature unfold and he is literally the rooster in a hen-house. His aimless character's inability to say no to the ex-wife, boring girlfriend, and her mother is blamed as the root of his ineffectual existence. While good with his hands at building a conservatory, he is unable to construct meaning in his life.<br /><br />One of the best films from Britain in years, it is simply adult in its storyline. The Mother is the rare kind of film that is perhaps too honest for American audiences to tolerate having no car chase, no bling, no rap soundtrack to drown out the cretin performances by TV starlets and buff studmuffins. The Mother reflects how the aging baby boomers are now disposable people that offspring are willing to overlook, send to the retirement home, and get out of the way. May doesn't know what to do as she is made alive by Darren, isn't willing to go to the old folks home, and finds her kids are more conservative than she ever was at their age.\",\n",
              "  'Writer/Director Bart Sibrel bases his work here around a can of film that he says was mistakenly sent to him by NASA. He says it shows the astronauts faking the television footage of their trip to the moon by employing camera tricks. The astronauts were in low Earth orbit all the time, and editors on the ground composed this raw footage into just a few seconds of finished film.<br /><br />Unfortunately Sibrel\\'s research is so slipshod that he doesn\\'t realize his \"backstage\" footage is really taken in large part from the 30-minute live telecast (also on that reel) that was seen by millions, not hidden away in NASA vaults as he implies. And we have to wonder why Sibrel puts his own conspiratorial narration over the astronauts\\' audio in the footage, because hearing the astronauts in their own words clearly spells out that the astronauts were just testing the camera, not faking footage.<br /><br />Finally, anyone can see the raw footage for themselves without having to buy Sibrel\\'s hacked-up version of it. (He shows you more of the Zapruder film of JFK\\'s assassination than of his \"smoking gun\".) Sibrel thinks he\\'s the only one who\\'s seen it. What\\'s more revealing is the clips from that raw footage that Sibrel chose NOT to use, such as those clearly showing the appropriately distant Earth being eclipsed by the window frames and so forth, destroying his claim that mattes and transparencies were placed in the spacecraft windows to create the illusion of a faraway Earth.<br /><br />As with most films of this type, Sibrel relies on innuendo, inexpert assumption, misleading commentary, and selective quotation to manipulate the viewer into accepting a conclusion for which there is not a shred of actual evidence.',\n",
              "  'this movie is another on the list that i did not want to see. i was talked into it and dragged into the theater, but boy am i glad for that. i thought it was going to be just another love story, but it turns out to be SOOO much more than that. definatly an intellectual flick, one of those movies you have to pay attention to.')]"
            ]
          },
          "metadata": {},
          "execution_count": 13
        }
      ]
    },
    {
      "cell_type": "markdown",
      "metadata": {
        "id": "fWj4V2YNlPvR"
      },
      "source": [
        "### RNNへの入力として使えるミニバッチを作る関数"
      ]
    },
    {
      "cell_type": "code",
      "source": [
        "vocab.get_stoi()['<pad>']"
      ],
      "metadata": {
        "colab": {
          "base_uri": "https://localhost:8080/"
        },
        "id": "OcVJ43lPNicZ",
        "outputId": "c80f8dc3-c0d4-4cdd-b6d8-d7252e6070de"
      },
      "execution_count": null,
      "outputs": [
        {
          "output_type": "execute_result",
          "data": {
            "text/plain": [
              "1"
            ]
          },
          "metadata": {},
          "execution_count": 15
        }
      ]
    },
    {
      "cell_type": "code",
      "metadata": {
        "id": "Is69w_gvoZ-z"
      },
      "source": [
        "PAD_IDX = vocab.get_stoi()['<pad>']"
      ],
      "execution_count": null,
      "outputs": []
    },
    {
      "cell_type": "code",
      "metadata": {
        "id": "Vznl9uJZkpZn"
      },
      "source": [
        "from torch.nn.utils.rnn import pad_sequence\n",
        "\n",
        "def collate_batch(batch):\n",
        "  labels = {'neg':0, 'pos':1}\n",
        "  label_list, text_list = [], []\n",
        "  for _label, _text in batch:\n",
        "    label_list.append(labels[_label])\n",
        "    processed_text = torch.tensor(vocab(tokenizer(_text)), dtype=torch.int64)\n",
        "    text_list.append(processed_text)\n",
        "  label_list = torch.tensor(label_list, dtype=torch.int64)\n",
        "  text_list = pad_sequence(text_list, batch_first=False, padding_value=PAD_IDX)\n",
        "  return label_list.to(device), text_list.to(device)"
      ],
      "execution_count": null,
      "outputs": []
    },
    {
      "cell_type": "code",
      "metadata": {
        "id": "lgRH591zmEE4"
      },
      "source": [
        "from torch.utils.data import DataLoader\n",
        "\n",
        "BATCH_SIZE = 64\n",
        "train_dataloader = DataLoader(split_train_, batch_size=BATCH_SIZE, shuffle=True,\n",
        "                              collate_fn=collate_batch)"
      ],
      "execution_count": null,
      "outputs": []
    },
    {
      "cell_type": "code",
      "metadata": {
        "id": "xRVRHybcmOXr",
        "colab": {
          "base_uri": "https://localhost:8080/"
        },
        "outputId": "6d45ea48-e2f6-4d8e-da88-b5d0784ab1e4"
      },
      "source": [
        "next(iter(train_dataloader))"
      ],
      "execution_count": null,
      "outputs": [
        {
          "output_type": "execute_result",
          "data": {
            "text/plain": [
              "(tensor([1, 0, 1, 0, 0, 0, 1, 0, 1, 0, 1, 1, 1, 1, 1, 1, 0, 0, 0, 0, 1, 1, 1, 1,\n",
              "         0, 1, 1, 1, 0, 1, 0, 0, 0, 1, 1, 0, 1, 0, 0, 1, 0, 0, 1, 1, 1, 0, 0, 1,\n",
              "         1, 0, 0, 1, 1, 1, 0, 0, 1, 1, 1, 0, 0, 0, 0, 0], device='cuda:0'),\n",
              " tensor([[  13,    2,   54,  ...,    6,   13,   13],\n",
              "         [ 193,  855,    2,  ..., 6369,  149,  425],\n",
              "         [   8, 8788,   21,  ..., 2757,  119,    9],\n",
              "         ...,\n",
              "         [   1,    1,    1,  ...,    1,    1,    1],\n",
              "         [   1,    1,    1,  ...,    1,    1,    1],\n",
              "         [   1,    1,    1,  ...,    1,    1,    1]], device='cuda:0'))"
            ]
          },
          "metadata": {},
          "execution_count": 19
        }
      ]
    },
    {
      "cell_type": "code",
      "metadata": {
        "id": "FJ90Cx3er_t-"
      },
      "source": [
        "valid_dataloader = DataLoader(split_valid_, batch_size=BATCH_SIZE, collate_fn=collate_batch)\n",
        "test_dataloader = DataLoader(test_dataset, batch_size=BATCH_SIZE, collate_fn=collate_batch)"
      ],
      "execution_count": null,
      "outputs": []
    },
    {
      "cell_type": "markdown",
      "metadata": {
        "id": "57xqsnpTnE_c"
      },
      "source": [
        "## モデルの定義\n",
        "* LSTMを使う（GRUに変えても良い）\n",
        " * http://colah.github.io/posts/2015-08-Understanding-LSTMs/"
      ]
    },
    {
      "cell_type": "code",
      "metadata": {
        "id": "W_3KWMr4hwxl"
      },
      "source": [
        "INPUT_DIM = len(vocab)\n",
        "NUM_CLASS = 2\n",
        "EMBED_DIM = 64\n",
        "HIDDEN_DIM = 64"
      ],
      "execution_count": null,
      "outputs": []
    },
    {
      "cell_type": "code",
      "metadata": {
        "id": "r1wcVHcmg9KI"
      },
      "source": [
        "class RNNTextSentiment(nn.Module):\n",
        "  def __init__(self, emb_dim, hid_dim,\n",
        "               num_class, vocab_size, padding_idx, p=0.0):\n",
        "    super().__init__()\n",
        "\n",
        "    self.input_dim = vocab_size\n",
        "    self.emb_dim = emb_dim\n",
        "    self.hid_dim = hid_dim\n",
        "    self.dropout = p\n",
        "\n",
        "    self.embedding = nn.Embedding(vocab_size, emb_dim, padding_idx=padding_idx)\n",
        "    self.rnn = nn.LSTM(emb_dim, hid_dim)\n",
        "    self.fc = nn.Linear(hid_dim * 2, num_class)\n",
        "    self.dropout = nn.Dropout(p=p)\n",
        "\n",
        "  def forward(self, src):\n",
        "    # srcの形は[単語列長, バッチサイズ]\n",
        "\n",
        "    embedded = self.dropout(self.embedding(src))\n",
        "    # embeddedの形は[単語列長, バッチサイズ, 埋め込み次元数]\n",
        "\n",
        "    outputs, (hidden, _) = self.rnn(embedded)\n",
        "    # outputsの形は[単語列長, バッチサイズ, 隠れ状態の次元数]\n",
        "    # hiddenの形は[1, バッチサイズ, 隠れ状態の次元数]\n",
        "\n",
        "    mean_outputs = outputs.mean(0)\n",
        "    hidden = hidden.squeeze()\n",
        "    # mean_outputsの形は[バッチサイズ, 隠れ状態の次元数]\n",
        "    # hiddenの形は[バッチサイズ, 隠れ状態の次元数]\n",
        "    output = self.fc(torch.cat((mean_outputs, hidden), dim=1))\n",
        "\n",
        "    return output"
      ],
      "execution_count": null,
      "outputs": []
    },
    {
      "cell_type": "markdown",
      "metadata": {
        "id": "JLo4vO0IrR62"
      },
      "source": [
        "* モデルのインスタンスを得る"
      ]
    },
    {
      "cell_type": "code",
      "metadata": {
        "id": "GuW6ghef34R4"
      },
      "source": [
        "model = RNNTextSentiment(EMBED_DIM, HIDDEN_DIM, NUM_CLASS, INPUT_DIM,\n",
        "                         padding_idx=PAD_IDX, p=0.5).to(device)"
      ],
      "execution_count": null,
      "outputs": []
    },
    {
      "cell_type": "markdown",
      "metadata": {
        "id": "-S9TDJpIraUM"
      },
      "source": [
        "### 最適化アルゴリズムの設定"
      ]
    },
    {
      "cell_type": "code",
      "metadata": {
        "id": "QaEbLC9T4pxb"
      },
      "source": [
        "optimizer = optim.Adam(model.parameters(), lr=0.001)"
      ],
      "execution_count": null,
      "outputs": []
    },
    {
      "cell_type": "markdown",
      "metadata": {
        "id": "t427SeakeqVP"
      },
      "source": [
        "パラメータの数を数えてみる。"
      ]
    },
    {
      "cell_type": "code",
      "metadata": {
        "id": "h06O037X4vRV",
        "colab": {
          "base_uri": "https://localhost:8080/"
        },
        "outputId": "8b3a558d-90f0-4578-ca74-a85cdf26d59e"
      },
      "source": [
        "def count_parameters(model):\n",
        "  return sum(p.numel() for p in model.parameters() if p.requires_grad)\n",
        "\n",
        "print(f'The model has {count_parameters(model):,} trainable parameters')"
      ],
      "execution_count": null,
      "outputs": [
        {
          "output_type": "stream",
          "name": "stdout",
          "text": [
            "The model has 1,961,410 trainable parameters\n"
          ]
        }
      ]
    },
    {
      "cell_type": "markdown",
      "metadata": {
        "id": "TwMV61kTri4-"
      },
      "source": [
        "### 文書分類の損失関数の設定"
      ]
    },
    {
      "cell_type": "code",
      "metadata": {
        "id": "P5w-1q7u47Ax"
      },
      "source": [
        "criterion = nn.CrossEntropyLoss()"
      ],
      "execution_count": null,
      "outputs": []
    },
    {
      "cell_type": "markdown",
      "metadata": {
        "id": "iScb7iZSs2nY"
      },
      "source": [
        "### 訓練用の関数"
      ]
    },
    {
      "cell_type": "code",
      "metadata": {
        "id": "gg1tuw6y4-Or"
      },
      "source": [
        "def train(model, loader, optimizer, criterion, clip):\n",
        "  model.train()\n",
        "\n",
        "  epoch_loss = 0.\n",
        "  epoch_acc = 0.\n",
        "  for label, text in loader:\n",
        "    output = model(text)\n",
        "    loss = criterion(output, label)\n",
        "    loss.backward()\n",
        "\n",
        "    nn.utils.clip_grad_norm_(model.parameters(), clip)\n",
        "    optimizer.step()\n",
        "    optimizer.zero_grad()\n",
        "\n",
        "    epoch_loss += loss.item()\n",
        "    epoch_acc += (output.argmax(1) == label).sum().item()\n",
        "\n",
        "  return epoch_loss / len(loader), epoch_acc / len(loader.dataset)"
      ],
      "execution_count": null,
      "outputs": []
    },
    {
      "cell_type": "markdown",
      "metadata": {
        "id": "WBoo_Ez6s9Gs"
      },
      "source": [
        "### 評価用の関数"
      ]
    },
    {
      "cell_type": "code",
      "metadata": {
        "id": "2qmfP-By5fOm"
      },
      "source": [
        "def evaluate(model, loader, criterion):\n",
        "  model.eval()\n",
        "\n",
        "  epoch_loss = 0.\n",
        "  epoch_acc = 0.\n",
        "  with torch.no_grad():\n",
        "    for label, text in loader:\n",
        "      output = model(text)\n",
        "      loss = criterion(output, label)\n",
        "      epoch_loss += loss.item()\n",
        "      epoch_acc += (output.argmax(1) == label).sum().item()\n",
        "\n",
        "  return epoch_loss / len(loader), epoch_acc / len(loader.dataset)"
      ],
      "execution_count": null,
      "outputs": []
    },
    {
      "cell_type": "code",
      "metadata": {
        "id": "xcPnwzJz5rnV"
      },
      "source": [
        "def epoch_time(start_time, end_time):\n",
        "  elapsed_time = end_time - start_time\n",
        "  elapsed_mins = int(elapsed_time // 60)\n",
        "  elapsed_secs = int(elapsed_time - (elapsed_mins * 60))\n",
        "  return elapsed_mins, elapsed_secs"
      ],
      "execution_count": null,
      "outputs": []
    },
    {
      "cell_type": "markdown",
      "metadata": {
        "id": "q1UYirF8NC0g"
      },
      "source": [
        "## 学習の実行"
      ]
    },
    {
      "cell_type": "code",
      "metadata": {
        "id": "ioV2XRKG5tf-",
        "colab": {
          "base_uri": "https://localhost:8080/",
          "height": 504
        },
        "outputId": "0e43f5cc-a5fc-438c-baf7-6c7fbbe3e944"
      },
      "source": [
        "N_EPOCHS = 10\n",
        "CLIP = 1.\n",
        "\n",
        "for epoch in range(1, N_EPOCHS + 1):\n",
        "\n",
        "  start_time = time.time()\n",
        "  train_loss, train_acc = train(model, train_dataloader, optimizer, criterion, CLIP)\n",
        "  valid_loss, valid_acc = evaluate(model, valid_dataloader, criterion)\n",
        "  end_time = time.time()\n",
        "  epoch_mins, epoch_secs = epoch_time(start_time, end_time)\n",
        "\n",
        "  print(f'Epoch {epoch} | time in {epoch_mins} minutes, {epoch_secs} seconds')\n",
        "  print(f'\\tLoss {train_loss:.4f} (train)\\t|\\tAcc {train_acc * 100:.1f}% (train)')\n",
        "  print(f'\\tLoss {valid_loss:.4f} (valid)\\t|\\tAcc {valid_acc * 100:.1f}% (valid)')"
      ],
      "execution_count": null,
      "outputs": [
        {
          "output_type": "stream",
          "name": "stdout",
          "text": [
            "Epoch 1 | time in 0 minutes, 49 seconds\n",
            "\tLoss 0.6714 (train)\t|\tAcc 58.0% (train)\n",
            "\tLoss 0.6627 (valid)\t|\tAcc 65.2% (valid)\n",
            "Epoch 2 | time in 0 minutes, 48 seconds\n",
            "\tLoss 0.5949 (train)\t|\tAcc 69.3% (train)\n",
            "\tLoss 0.5840 (valid)\t|\tAcc 73.4% (valid)\n"
          ]
        },
        {
          "output_type": "error",
          "ename": "KeyboardInterrupt",
          "evalue": "ignored",
          "traceback": [
            "\u001b[0;31m---------------------------------------------------------------------------\u001b[0m",
            "\u001b[0;31mKeyboardInterrupt\u001b[0m                         Traceback (most recent call last)",
            "\u001b[0;32m<ipython-input-30-4683939c25f6>\u001b[0m in \u001b[0;36m<module>\u001b[0;34m()\u001b[0m\n\u001b[1;32m      5\u001b[0m \u001b[0;34m\u001b[0m\u001b[0m\n\u001b[1;32m      6\u001b[0m   \u001b[0mstart_time\u001b[0m \u001b[0;34m=\u001b[0m \u001b[0mtime\u001b[0m\u001b[0;34m.\u001b[0m\u001b[0mtime\u001b[0m\u001b[0;34m(\u001b[0m\u001b[0;34m)\u001b[0m\u001b[0;34m\u001b[0m\u001b[0;34m\u001b[0m\u001b[0m\n\u001b[0;32m----> 7\u001b[0;31m   \u001b[0mtrain_loss\u001b[0m\u001b[0;34m,\u001b[0m \u001b[0mtrain_acc\u001b[0m \u001b[0;34m=\u001b[0m \u001b[0mtrain\u001b[0m\u001b[0;34m(\u001b[0m\u001b[0mmodel\u001b[0m\u001b[0;34m,\u001b[0m \u001b[0mtrain_dataloader\u001b[0m\u001b[0;34m,\u001b[0m \u001b[0moptimizer\u001b[0m\u001b[0;34m,\u001b[0m \u001b[0mcriterion\u001b[0m\u001b[0;34m,\u001b[0m \u001b[0mCLIP\u001b[0m\u001b[0;34m)\u001b[0m\u001b[0;34m\u001b[0m\u001b[0;34m\u001b[0m\u001b[0m\n\u001b[0m\u001b[1;32m      8\u001b[0m   \u001b[0mvalid_loss\u001b[0m\u001b[0;34m,\u001b[0m \u001b[0mvalid_acc\u001b[0m \u001b[0;34m=\u001b[0m \u001b[0mevaluate\u001b[0m\u001b[0;34m(\u001b[0m\u001b[0mmodel\u001b[0m\u001b[0;34m,\u001b[0m \u001b[0mvalid_dataloader\u001b[0m\u001b[0;34m,\u001b[0m \u001b[0mcriterion\u001b[0m\u001b[0;34m)\u001b[0m\u001b[0;34m\u001b[0m\u001b[0;34m\u001b[0m\u001b[0m\n\u001b[1;32m      9\u001b[0m   \u001b[0mend_time\u001b[0m \u001b[0;34m=\u001b[0m \u001b[0mtime\u001b[0m\u001b[0;34m.\u001b[0m\u001b[0mtime\u001b[0m\u001b[0;34m(\u001b[0m\u001b[0;34m)\u001b[0m\u001b[0;34m\u001b[0m\u001b[0;34m\u001b[0m\u001b[0m\n",
            "\u001b[0;32m<ipython-input-27-15961bcdb285>\u001b[0m in \u001b[0;36mtrain\u001b[0;34m(model, loader, optimizer, criterion, clip)\u001b[0m\n\u001b[1;32m      4\u001b[0m   \u001b[0mepoch_loss\u001b[0m \u001b[0;34m=\u001b[0m \u001b[0;36m0.\u001b[0m\u001b[0;34m\u001b[0m\u001b[0;34m\u001b[0m\u001b[0m\n\u001b[1;32m      5\u001b[0m   \u001b[0mepoch_acc\u001b[0m \u001b[0;34m=\u001b[0m \u001b[0;36m0.\u001b[0m\u001b[0;34m\u001b[0m\u001b[0;34m\u001b[0m\u001b[0m\n\u001b[0;32m----> 6\u001b[0;31m   \u001b[0;32mfor\u001b[0m \u001b[0mlabel\u001b[0m\u001b[0;34m,\u001b[0m \u001b[0mtext\u001b[0m \u001b[0;32min\u001b[0m \u001b[0mloader\u001b[0m\u001b[0;34m:\u001b[0m\u001b[0;34m\u001b[0m\u001b[0;34m\u001b[0m\u001b[0m\n\u001b[0m\u001b[1;32m      7\u001b[0m     \u001b[0moutput\u001b[0m \u001b[0;34m=\u001b[0m \u001b[0mmodel\u001b[0m\u001b[0;34m(\u001b[0m\u001b[0mtext\u001b[0m\u001b[0;34m)\u001b[0m\u001b[0;34m\u001b[0m\u001b[0;34m\u001b[0m\u001b[0m\n\u001b[1;32m      8\u001b[0m     \u001b[0mloss\u001b[0m \u001b[0;34m=\u001b[0m \u001b[0mcriterion\u001b[0m\u001b[0;34m(\u001b[0m\u001b[0moutput\u001b[0m\u001b[0;34m,\u001b[0m \u001b[0mlabel\u001b[0m\u001b[0;34m)\u001b[0m\u001b[0;34m\u001b[0m\u001b[0;34m\u001b[0m\u001b[0m\n",
            "\u001b[0;32m/usr/local/lib/python3.7/dist-packages/torch/utils/data/dataloader.py\u001b[0m in \u001b[0;36m__next__\u001b[0;34m(self)\u001b[0m\n\u001b[1;32m    519\u001b[0m             \u001b[0;32mif\u001b[0m \u001b[0mself\u001b[0m\u001b[0;34m.\u001b[0m\u001b[0m_sampler_iter\u001b[0m \u001b[0;32mis\u001b[0m \u001b[0;32mNone\u001b[0m\u001b[0;34m:\u001b[0m\u001b[0;34m\u001b[0m\u001b[0;34m\u001b[0m\u001b[0m\n\u001b[1;32m    520\u001b[0m                 \u001b[0mself\u001b[0m\u001b[0;34m.\u001b[0m\u001b[0m_reset\u001b[0m\u001b[0;34m(\u001b[0m\u001b[0;34m)\u001b[0m\u001b[0;34m\u001b[0m\u001b[0;34m\u001b[0m\u001b[0m\n\u001b[0;32m--> 521\u001b[0;31m             \u001b[0mdata\u001b[0m \u001b[0;34m=\u001b[0m \u001b[0mself\u001b[0m\u001b[0;34m.\u001b[0m\u001b[0m_next_data\u001b[0m\u001b[0;34m(\u001b[0m\u001b[0;34m)\u001b[0m\u001b[0;34m\u001b[0m\u001b[0;34m\u001b[0m\u001b[0m\n\u001b[0m\u001b[1;32m    522\u001b[0m             \u001b[0mself\u001b[0m\u001b[0;34m.\u001b[0m\u001b[0m_num_yielded\u001b[0m \u001b[0;34m+=\u001b[0m \u001b[0;36m1\u001b[0m\u001b[0;34m\u001b[0m\u001b[0;34m\u001b[0m\u001b[0m\n\u001b[1;32m    523\u001b[0m             \u001b[0;32mif\u001b[0m \u001b[0mself\u001b[0m\u001b[0;34m.\u001b[0m\u001b[0m_dataset_kind\u001b[0m \u001b[0;34m==\u001b[0m \u001b[0m_DatasetKind\u001b[0m\u001b[0;34m.\u001b[0m\u001b[0mIterable\u001b[0m \u001b[0;32mand\u001b[0m\u001b[0;31m \u001b[0m\u001b[0;31m\\\u001b[0m\u001b[0;34m\u001b[0m\u001b[0;34m\u001b[0m\u001b[0m\n",
            "\u001b[0;32m/usr/local/lib/python3.7/dist-packages/torch/utils/data/dataloader.py\u001b[0m in \u001b[0;36m_next_data\u001b[0;34m(self)\u001b[0m\n\u001b[1;32m    559\u001b[0m     \u001b[0;32mdef\u001b[0m \u001b[0m_next_data\u001b[0m\u001b[0;34m(\u001b[0m\u001b[0mself\u001b[0m\u001b[0;34m)\u001b[0m\u001b[0;34m:\u001b[0m\u001b[0;34m\u001b[0m\u001b[0;34m\u001b[0m\u001b[0m\n\u001b[1;32m    560\u001b[0m         \u001b[0mindex\u001b[0m \u001b[0;34m=\u001b[0m \u001b[0mself\u001b[0m\u001b[0;34m.\u001b[0m\u001b[0m_next_index\u001b[0m\u001b[0;34m(\u001b[0m\u001b[0;34m)\u001b[0m  \u001b[0;31m# may raise StopIteration\u001b[0m\u001b[0;34m\u001b[0m\u001b[0;34m\u001b[0m\u001b[0m\n\u001b[0;32m--> 561\u001b[0;31m         \u001b[0mdata\u001b[0m \u001b[0;34m=\u001b[0m \u001b[0mself\u001b[0m\u001b[0;34m.\u001b[0m\u001b[0m_dataset_fetcher\u001b[0m\u001b[0;34m.\u001b[0m\u001b[0mfetch\u001b[0m\u001b[0;34m(\u001b[0m\u001b[0mindex\u001b[0m\u001b[0;34m)\u001b[0m  \u001b[0;31m# may raise StopIteration\u001b[0m\u001b[0;34m\u001b[0m\u001b[0;34m\u001b[0m\u001b[0m\n\u001b[0m\u001b[1;32m    562\u001b[0m         \u001b[0;32mif\u001b[0m \u001b[0mself\u001b[0m\u001b[0;34m.\u001b[0m\u001b[0m_pin_memory\u001b[0m\u001b[0;34m:\u001b[0m\u001b[0;34m\u001b[0m\u001b[0;34m\u001b[0m\u001b[0m\n\u001b[1;32m    563\u001b[0m             \u001b[0mdata\u001b[0m \u001b[0;34m=\u001b[0m \u001b[0m_utils\u001b[0m\u001b[0;34m.\u001b[0m\u001b[0mpin_memory\u001b[0m\u001b[0;34m.\u001b[0m\u001b[0mpin_memory\u001b[0m\u001b[0;34m(\u001b[0m\u001b[0mdata\u001b[0m\u001b[0;34m)\u001b[0m\u001b[0;34m\u001b[0m\u001b[0;34m\u001b[0m\u001b[0m\n",
            "\u001b[0;32m/usr/local/lib/python3.7/dist-packages/torch/utils/data/_utils/fetch.py\u001b[0m in \u001b[0;36mfetch\u001b[0;34m(self, possibly_batched_index)\u001b[0m\n\u001b[1;32m     50\u001b[0m         \u001b[0;32melse\u001b[0m\u001b[0;34m:\u001b[0m\u001b[0;34m\u001b[0m\u001b[0;34m\u001b[0m\u001b[0m\n\u001b[1;32m     51\u001b[0m             \u001b[0mdata\u001b[0m \u001b[0;34m=\u001b[0m \u001b[0mself\u001b[0m\u001b[0;34m.\u001b[0m\u001b[0mdataset\u001b[0m\u001b[0;34m[\u001b[0m\u001b[0mpossibly_batched_index\u001b[0m\u001b[0;34m]\u001b[0m\u001b[0;34m\u001b[0m\u001b[0;34m\u001b[0m\u001b[0m\n\u001b[0;32m---> 52\u001b[0;31m         \u001b[0;32mreturn\u001b[0m \u001b[0mself\u001b[0m\u001b[0;34m.\u001b[0m\u001b[0mcollate_fn\u001b[0m\u001b[0;34m(\u001b[0m\u001b[0mdata\u001b[0m\u001b[0;34m)\u001b[0m\u001b[0;34m\u001b[0m\u001b[0;34m\u001b[0m\u001b[0m\n\u001b[0m",
            "\u001b[0;32m<ipython-input-17-96e6ab0a6285>\u001b[0m in \u001b[0;36mcollate_batch\u001b[0;34m(batch)\u001b[0m\n\u001b[1;32m      6\u001b[0m   \u001b[0;32mfor\u001b[0m \u001b[0m_label\u001b[0m\u001b[0;34m,\u001b[0m \u001b[0m_text\u001b[0m \u001b[0;32min\u001b[0m \u001b[0mbatch\u001b[0m\u001b[0;34m:\u001b[0m\u001b[0;34m\u001b[0m\u001b[0;34m\u001b[0m\u001b[0m\n\u001b[1;32m      7\u001b[0m     \u001b[0mlabel_list\u001b[0m\u001b[0;34m.\u001b[0m\u001b[0mappend\u001b[0m\u001b[0;34m(\u001b[0m\u001b[0mlabels\u001b[0m\u001b[0;34m[\u001b[0m\u001b[0m_label\u001b[0m\u001b[0;34m]\u001b[0m\u001b[0;34m)\u001b[0m\u001b[0;34m\u001b[0m\u001b[0;34m\u001b[0m\u001b[0m\n\u001b[0;32m----> 8\u001b[0;31m     \u001b[0mprocessed_text\u001b[0m \u001b[0;34m=\u001b[0m \u001b[0mtorch\u001b[0m\u001b[0;34m.\u001b[0m\u001b[0mtensor\u001b[0m\u001b[0;34m(\u001b[0m\u001b[0mvocab\u001b[0m\u001b[0;34m(\u001b[0m\u001b[0mtokenizer\u001b[0m\u001b[0;34m(\u001b[0m\u001b[0m_text\u001b[0m\u001b[0;34m)\u001b[0m\u001b[0;34m)\u001b[0m\u001b[0;34m,\u001b[0m \u001b[0mdtype\u001b[0m\u001b[0;34m=\u001b[0m\u001b[0mtorch\u001b[0m\u001b[0;34m.\u001b[0m\u001b[0mint64\u001b[0m\u001b[0;34m)\u001b[0m\u001b[0;34m\u001b[0m\u001b[0;34m\u001b[0m\u001b[0m\n\u001b[0m\u001b[1;32m      9\u001b[0m     \u001b[0mtext_list\u001b[0m\u001b[0;34m.\u001b[0m\u001b[0mappend\u001b[0m\u001b[0;34m(\u001b[0m\u001b[0mprocessed_text\u001b[0m\u001b[0;34m)\u001b[0m\u001b[0;34m\u001b[0m\u001b[0;34m\u001b[0m\u001b[0m\n\u001b[1;32m     10\u001b[0m   \u001b[0mlabel_list\u001b[0m \u001b[0;34m=\u001b[0m \u001b[0mtorch\u001b[0m\u001b[0;34m.\u001b[0m\u001b[0mtensor\u001b[0m\u001b[0;34m(\u001b[0m\u001b[0mlabel_list\u001b[0m\u001b[0;34m,\u001b[0m \u001b[0mdtype\u001b[0m\u001b[0;34m=\u001b[0m\u001b[0mtorch\u001b[0m\u001b[0;34m.\u001b[0m\u001b[0mint64\u001b[0m\u001b[0;34m)\u001b[0m\u001b[0;34m\u001b[0m\u001b[0;34m\u001b[0m\u001b[0m\n",
            "\u001b[0;32m/usr/local/lib/python3.7/dist-packages/torch/nn/modules/module.py\u001b[0m in \u001b[0;36m_call_impl\u001b[0;34m(self, *input, **kwargs)\u001b[0m\n\u001b[1;32m   1100\u001b[0m         if not (self._backward_hooks or self._forward_hooks or self._forward_pre_hooks or _global_backward_hooks\n\u001b[1;32m   1101\u001b[0m                 or _global_forward_hooks or _global_forward_pre_hooks):\n\u001b[0;32m-> 1102\u001b[0;31m             \u001b[0;32mreturn\u001b[0m \u001b[0mforward_call\u001b[0m\u001b[0;34m(\u001b[0m\u001b[0;34m*\u001b[0m\u001b[0minput\u001b[0m\u001b[0;34m,\u001b[0m \u001b[0;34m**\u001b[0m\u001b[0mkwargs\u001b[0m\u001b[0;34m)\u001b[0m\u001b[0;34m\u001b[0m\u001b[0;34m\u001b[0m\u001b[0m\n\u001b[0m\u001b[1;32m   1103\u001b[0m         \u001b[0;31m# Do not call functions when jit is used\u001b[0m\u001b[0;34m\u001b[0m\u001b[0;34m\u001b[0m\u001b[0;34m\u001b[0m\u001b[0m\n\u001b[1;32m   1104\u001b[0m         \u001b[0mfull_backward_hooks\u001b[0m\u001b[0;34m,\u001b[0m \u001b[0mnon_full_backward_hooks\u001b[0m \u001b[0;34m=\u001b[0m \u001b[0;34m[\u001b[0m\u001b[0;34m]\u001b[0m\u001b[0;34m,\u001b[0m \u001b[0;34m[\u001b[0m\u001b[0;34m]\u001b[0m\u001b[0;34m\u001b[0m\u001b[0;34m\u001b[0m\u001b[0m\n",
            "\u001b[0;32m/usr/local/lib/python3.7/dist-packages/torchtext/vocab/vocab.py\u001b[0m in \u001b[0;36mforward\u001b[0;34m(self, tokens)\u001b[0m\n\u001b[1;32m     32\u001b[0m             \u001b[0mThe\u001b[0m \u001b[0mindices\u001b[0m \u001b[0massociated\u001b[0m \u001b[0;32mwith\u001b[0m \u001b[0ma\u001b[0m \u001b[0mlist\u001b[0m \u001b[0mof\u001b[0m\u001b[0;31m \u001b[0m\u001b[0;31m`\u001b[0m\u001b[0mtokens\u001b[0m\u001b[0;31m`\u001b[0m\u001b[0;34m.\u001b[0m\u001b[0;34m\u001b[0m\u001b[0;34m\u001b[0m\u001b[0m\n\u001b[1;32m     33\u001b[0m         \"\"\"\n\u001b[0;32m---> 34\u001b[0;31m         \u001b[0;32mreturn\u001b[0m \u001b[0mself\u001b[0m\u001b[0;34m.\u001b[0m\u001b[0mvocab\u001b[0m\u001b[0;34m.\u001b[0m\u001b[0mlookup_indices\u001b[0m\u001b[0;34m(\u001b[0m\u001b[0mtokens\u001b[0m\u001b[0;34m)\u001b[0m\u001b[0;34m\u001b[0m\u001b[0;34m\u001b[0m\u001b[0m\n\u001b[0m\u001b[1;32m     35\u001b[0m \u001b[0;34m\u001b[0m\u001b[0m\n\u001b[1;32m     36\u001b[0m     \u001b[0;34m@\u001b[0m\u001b[0mtorch\u001b[0m\u001b[0;34m.\u001b[0m\u001b[0mjit\u001b[0m\u001b[0;34m.\u001b[0m\u001b[0mexport\u001b[0m\u001b[0;34m\u001b[0m\u001b[0;34m\u001b[0m\u001b[0m\n",
            "\u001b[0;31mKeyboardInterrupt\u001b[0m: "
          ]
        }
      ]
    },
    {
      "cell_type": "markdown",
      "metadata": {
        "id": "o6DsW0cQJUMd"
      },
      "source": [
        "# 課題\n",
        "* 上のコードを動かして、感情分析を実践してみよう。\n",
        "* 余裕があれば、ハイパーパラメータをチューニングして、分類性能を上げてみよう。"
      ]
    },
    {
      "cell_type": "code",
      "metadata": {
        "id": "KBttuNxeJTyd"
      },
      "source": [
        ""
      ],
      "execution_count": null,
      "outputs": []
    },
    {
      "cell_type": "code",
      "metadata": {
        "id": "Kidtt_eGJm--"
      },
      "source": [
        ""
      ],
      "execution_count": null,
      "outputs": []
    },
    {
      "cell_type": "code",
      "metadata": {
        "id": "IS3h2VNjNXNo"
      },
      "source": [
        ""
      ],
      "execution_count": null,
      "outputs": []
    },
    {
      "cell_type": "markdown",
      "metadata": {
        "id": "PzR61Ch2NTU7"
      },
      "source": [
        "## テストデータで評価"
      ]
    },
    {
      "cell_type": "code",
      "metadata": {
        "id": "I8ju77-HEhVW"
      },
      "source": [
        "loss, acc = evaluate(model, test_dataloader, criterion)\n",
        "print(f'\\tLoss {loss:.4f} (test)\\t|\\tAcc {acc * 100:.1f}% (test)')"
      ],
      "execution_count": null,
      "outputs": []
    }
  ]
}