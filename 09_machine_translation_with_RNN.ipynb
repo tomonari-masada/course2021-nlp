{
  "nbformat": 4,
  "nbformat_minor": 0,
  "metadata": {
    "colab": {
      "name": "09_machine_translation_with_RNN.ipynb",
      "provenance": [],
      "collapsed_sections": [],
      "mount_file_id": "1FMk9odnFguwDFlcTv1MC-VGhRInxNTel",
      "authorship_tag": "ABX9TyOm4m5M46AHRB3MJpOWRHHD",
      "include_colab_link": true
    },
    "kernelspec": {
      "name": "python3",
      "display_name": "Python 3"
    },
    "accelerator": "GPU"
  },
  "cells": [
    {
      "cell_type": "markdown",
      "metadata": {
        "id": "view-in-github",
        "colab_type": "text"
      },
      "source": [
        "<a href=\"https://colab.research.google.com/github/tomonari-masada/course2021-nlp/blob/main/09_machine_translation_with_RNN.ipynb\" target=\"_parent\"><img src=\"https://colab.research.google.com/assets/colab-badge.svg\" alt=\"Open In Colab\"/></a>"
      ]
    },
    {
      "cell_type": "markdown",
      "metadata": {
        "id": "UjeYxD5hKAhA"
      },
      "source": [
        "# RNNによる機械翻訳\n",
        "* encoder-decoder型のモデルを使う。\n",
        "* 下記論文にある手法より少し凝ったものを実装する。\n",
        " * https://papers.nips.cc/paper/5346-sequence-to-sequence-learning-with-neural-networks.pdf\n",
        " * 少し凝っているのは、encoderをbidirectionalにしているから。\n",
        "\n",
        "![5346-sequence-to-sequence-learning-with-neural-networks_fig1.png](https://raw.githubusercontent.com/tomonari-masada/course-nlp2020/master/5346-sequence-to-sequence-learning-with-neural-networks_fig1.png)\n",
        "\n"
      ]
    },
    {
      "cell_type": "markdown",
      "metadata": {
        "id": "VtG6Y-azbAU3"
      },
      "source": [
        "* その他の参考資料\n",
        "\n",
        " * https://github.com/bentrevett/pytorch-seq2seq/blob/master/1%20-%20Sequence%20to%20Sequence%20Learning%20with%20Neural%20Networks.ipynb"
      ]
    },
    {
      "cell_type": "markdown",
      "metadata": {
        "id": "n3v9ZBbqEqwI"
      },
      "source": [
        "* 部分的に、次のtutorialも参考にしている。\n",
        " * https://pytorch.org/tutorials/beginner/translation_transformer.html"
      ]
    },
    {
      "cell_type": "markdown",
      "metadata": {
        "id": "5Ti9zY9WSl_e"
      },
      "source": [
        "## 手法の概要\n",
        "* トークン列は、`<bos>`と`<eos>`という特殊なトークンで挟んで入力する。\n",
        " * それぞれ、文の始まりと終わりを意味するトークン。\n",
        "* まず、エンコーダRNNを使って、入力シーケンスを隠れ状態へとエンコードする。\n",
        " * 隠れ状態は、あらかじめ定められた次元数をもつベクトル。\n",
        "* この隠れ状態と、文の始まりを表す`<bos>`トークンとを、デコーダRNNへ入力する。\n",
        "* そして、以下ひとつずつ、トークンを生成していく。"
      ]
    },
    {
      "cell_type": "markdown",
      "metadata": {
        "id": "1QARRGpeUys3"
      },
      "source": [
        "* RNN (Recurrent Neural Networks) については、下の記事がわかりやすい。\n",
        " * https://colah.github.io/posts/2015-08-Understanding-LSTMs/"
      ]
    },
    {
      "cell_type": "markdown",
      "metadata": {
        "id": "17oKFqUFm4rH"
      },
      "source": [
        " * 下の図での`<sos>`が今回のコードでの`<bos>`に対応する。"
      ]
    },
    {
      "cell_type": "markdown",
      "metadata": {
        "id": "VWldyR8xNzE7"
      },
      "source": [
        "![seq2seq1.png](data:image/png;base64,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)"
      ]
    },
    {
      "cell_type": "markdown",
      "metadata": {
        "id": "K7EaRmrWS7YX"
      },
      "source": [
        "---"
      ]
    },
    {
      "cell_type": "markdown",
      "metadata": {
        "id": "66ZdVFojNBqA"
      },
      "source": [
        "## 準備\n",
        "* Google ColabのランタイムのタイプはGPUにしておく。"
      ]
    },
    {
      "cell_type": "markdown",
      "metadata": {
        "id": "hNcyCyvWD9WM"
      },
      "source": [
        "### spaCy関係の準備　"
      ]
    },
    {
      "cell_type": "code",
      "metadata": {
        "id": "6pNcU5MTKZBT"
      },
      "source": [
        "!pip install -U spacy\n",
        "!python -m spacy download en_core_web_sm\n",
        "!python -m spacy download de_core_news_sm"
      ],
      "execution_count": null,
      "outputs": []
    },
    {
      "cell_type": "code",
      "metadata": {
        "id": "uI1RJEjYHLfw"
      },
      "source": [
        "import math\n",
        "import time\n",
        "import torch\n",
        "import torch.nn as nn\n",
        "from torch.utils.data import DataLoader\n",
        "\n",
        "device = torch.device('cuda' if torch.cuda.is_available() else 'cpu')\n",
        "torch.manual_seed(123)"
      ],
      "execution_count": null,
      "outputs": []
    },
    {
      "cell_type": "markdown",
      "metadata": {
        "id": "oaWl1CHnzBxs"
      },
      "source": [
        "### 両言語のトークナイザ\n",
        "* `torchtext`を使う。\n",
        " * `torchtext`を使ったコードは、version 0.9より前とそれ以降とでかなり違うので、注意。"
      ]
    },
    {
      "cell_type": "code",
      "metadata": {
        "id": "0wWEPu_r7tpE"
      },
      "source": [
        "from torchtext.data.utils import get_tokenizer\n",
        "from torchtext.vocab import build_vocab_from_iterator\n",
        "from torchtext.datasets import Multi30k\n",
        "\n",
        "SRC_LANGUAGE = 'de'\n",
        "TGT_LANGUAGE = 'en'\n",
        "\n",
        "# Place-holder\n",
        "token_transform = {}\n",
        "\n",
        "token_transform[SRC_LANGUAGE] = get_tokenizer('spacy', language='de_core_news_sm')\n",
        "token_transform[TGT_LANGUAGE] = get_tokenizer('spacy', language='en_core_web_sm')"
      ],
      "execution_count": null,
      "outputs": []
    },
    {
      "cell_type": "markdown",
      "metadata": {
        "id": "3lno6Ydx8ADo"
      },
      "source": [
        "### トークンのリストを返すヘルパ関数"
      ]
    },
    {
      "cell_type": "code",
      "metadata": {
        "id": "-yvHz9xk79j7"
      },
      "source": [
        "def yield_tokens(data_iter, language):\n",
        "  language_index = {SRC_LANGUAGE: 0, TGT_LANGUAGE: 1}\n",
        "  for data_sample in data_iter:\n",
        "    yield token_transform[language](data_sample[language_index[language]])"
      ],
      "execution_count": null,
      "outputs": []
    },
    {
      "cell_type": "markdown",
      "metadata": {
        "id": "LU8IfDWp8EK8"
      },
      "source": [
        "### 特殊なシンボルとそのインデックス\n",
        "* インデックスとリスト内での順番が合っていることを確認する。"
      ]
    },
    {
      "cell_type": "code",
      "metadata": {
        "id": "-8P6Cm6V8DAa"
      },
      "source": [
        "UNK_IDX, PAD_IDX, BOS_IDX, EOS_IDX = 0, 1, 2, 3\n",
        "special_symbols = ['<unk>', '<pad>', '<bos>', '<eos>']"
      ],
      "execution_count": null,
      "outputs": []
    },
    {
      "cell_type": "markdown",
      "metadata": {
        "id": "-w44sYDc8Oo_"
      },
      "source": [
        "## データセットの前処理\n",
        "* 今回は、Multi30k Data Repositoryから、独英翻訳の部分を使う。 \n",
        " * https://github.com/multi30k/dataset\n",
        "* データセットの取得には`torchtext.datasets`を利用している。"
      ]
    },
    {
      "cell_type": "markdown",
      "metadata": {
        "id": "JWNda2QjOhuA"
      },
      "source": [
        "### 語彙集合\n",
        "* まず、両言語の訓練データから、各言語のデータセットの語彙集合を作る。\n",
        " * 語彙集合の作成には、訓練データだけを使うこと!!\n"
      ]
    },
    {
      "cell_type": "code",
      "metadata": {
        "id": "EtonCRkW8K1X"
      },
      "source": [
        "# Place-holder \n",
        "vocab_transform = {}\n",
        "\n",
        "for ln in [SRC_LANGUAGE, TGT_LANGUAGE]:\n",
        "  # 訓練データのイテレータ\n",
        "  train_iter = Multi30k(split='train', language_pair=(SRC_LANGUAGE, TGT_LANGUAGE))\n",
        "  # torchtextのVocabオブジェクトを作る \n",
        "  vocab_transform[ln] = build_vocab_from_iterator(yield_tokens(train_iter, ln),\n",
        "                                                  min_freq=1,\n",
        "                                                  specials=special_symbols,\n",
        "                                                  special_first=True)\n",
        "\n",
        "# UNK_IDXをデフォルトのインデックス（語彙集合に見つからなかった単語のインデックス）として設定する\n",
        "# この作業をしておかないと実行時にエラーが出る\n",
        "for ln in [SRC_LANGUAGE, TGT_LANGUAGE]:\n",
        "  vocab_transform[ln].set_default_index(UNK_IDX)"
      ],
      "execution_count": null,
      "outputs": []
    },
    {
      "cell_type": "markdown",
      "metadata": {
        "id": "vGbPmX110Fb-"
      },
      "source": [
        "### Tokenization\n",
        "* 両言語の文をトークン化してインデックスのリストにする。"
      ]
    },
    {
      "cell_type": "code",
      "metadata": {
        "id": "IVoD4q_g0Om4"
      },
      "source": [
        "# 所定の変換用の関数を使ってトークン列を変換する関数を返す関数\n",
        "def sequential_transforms(*transforms):\n",
        "  def func(txt_input):\n",
        "    for transform in transforms:\n",
        "      txt_input = transform(txt_input)\n",
        "    return txt_input\n",
        "  return func\n",
        "\n",
        "# BOS/EOSトークンを先頭/末尾に追加する関数\n",
        "def tensor_transform(token_ids):\n",
        "  return torch.cat((torch.tensor([BOS_IDX]),\n",
        "                    torch.tensor(token_ids), \n",
        "                    torch.tensor([EOS_IDX])))\n",
        "\n",
        "# 翻訳元と翻訳先のテキストをインデックスのリストへ変換する\n",
        "text_transform = {}\n",
        "for ln in [SRC_LANGUAGE, TGT_LANGUAGE]:\n",
        "  text_transform[ln] = sequential_transforms(token_transform[ln], #トークナイゼーション\n",
        "                                             vocab_transform[ln], #ベクトル列へ変換\n",
        "                                             tensor_transform) #BOS/EOSを追加しテンソル化"
      ],
      "execution_count": null,
      "outputs": []
    },
    {
      "cell_type": "markdown",
      "metadata": {
        "id": "8ryWMW462OPn"
      },
      "source": [
        "## 訓練データ、検証データ、テストデータ"
      ]
    },
    {
      "cell_type": "markdown",
      "metadata": {
        "id": "USbEh75s80By"
      },
      "source": [
        "### Collationのための関数\n",
        "* collationとは、バラバラのデータ（今回は文字列データ）を、ミニバッチへまとめあげる操作。"
      ]
    },
    {
      "cell_type": "code",
      "metadata": {
        "id": "1ZXU-fvv8zab"
      },
      "source": [
        "from torch.nn.utils.rnn import pad_sequence\n",
        "\n",
        "# ばらばらの文字列サンプルをミニバッチへcollateする関数\n",
        "# （DataLoaderのインスタンスを作るときにこの関数を指定する）\n",
        "def collate_fn(batch):\n",
        "  src_batch, tgt_batch = [], []\n",
        "  for src_sample, tgt_sample in batch:\n",
        "    src_batch.append(text_transform[SRC_LANGUAGE](src_sample.rstrip(\"\\n\")))\n",
        "    tgt_batch.append(text_transform[TGT_LANGUAGE](tgt_sample.rstrip(\"\\n\")))\n",
        "\n",
        "  src_batch = pad_sequence(src_batch, padding_value=PAD_IDX)\n",
        "  tgt_batch = pad_sequence(tgt_batch, padding_value=PAD_IDX)\n",
        "  return src_batch, tgt_batch"
      ],
      "execution_count": null,
      "outputs": []
    },
    {
      "cell_type": "markdown",
      "metadata": {
        "id": "dBhn4hgPemXG"
      },
      "source": [
        "### DataLoader\n",
        "* ミニバッチの形は[最長のトークン列の長さ, ミニバッチの大きさ]\n",
        " * 深層学習ではミニバッチの大きさが最初に来ることが多いが、NLPでは上のようにデータを準備することも多い。\n",
        " * 各トークン列は、最長のものと同じ長さになるまで、末尾にパディング用の特殊なトークンを追加される。"
      ]
    },
    {
      "cell_type": "code",
      "metadata": {
        "id": "eiJpvD9a9T4l"
      },
      "source": [
        "from torchtext.data.functional import to_map_style_dataset\n",
        "\n",
        "BATCH_SIZE = 100\n",
        "\n",
        "train_iter = Multi30k(split='train', language_pair=(SRC_LANGUAGE, TGT_LANGUAGE))\n",
        "train_dataloader = DataLoader(to_map_style_dataset(train_iter), # こうしないとshuffle=Trueと設定できない\n",
        "                              batch_size=BATCH_SIZE,\n",
        "                              shuffle=True,\n",
        "                              collate_fn=collate_fn)"
      ],
      "execution_count": null,
      "outputs": []
    },
    {
      "cell_type": "code",
      "metadata": {
        "id": "BFj1fuRU9YUb"
      },
      "source": [
        "batch = next(iter(train_dataloader))"
      ],
      "execution_count": null,
      "outputs": []
    },
    {
      "cell_type": "code",
      "metadata": {
        "id": "OhONweXJ9e0r"
      },
      "source": [
        "print(batch[0].shape)\n",
        "print(batch[1].shape)"
      ],
      "execution_count": null,
      "outputs": []
    },
    {
      "cell_type": "code",
      "metadata": {
        "id": "yH4xfHc4Fcec"
      },
      "source": [
        "batch[0]"
      ],
      "execution_count": null,
      "outputs": []
    },
    {
      "cell_type": "code",
      "metadata": {
        "id": "WramSqBY9jmL"
      },
      "source": [
        "print(vocab_transform['de'].lookup_tokens(list(batch[0].t()[0])))"
      ],
      "execution_count": null,
      "outputs": []
    },
    {
      "cell_type": "markdown",
      "metadata": {
        "id": "S7J-e1_c2Far"
      },
      "source": [
        "* ミニバッチの個数"
      ]
    },
    {
      "cell_type": "code",
      "metadata": {
        "id": "gTqq9PhWdZKd"
      },
      "source": [
        "len(train_dataloader)"
      ],
      "execution_count": null,
      "outputs": []
    },
    {
      "cell_type": "markdown",
      "metadata": {
        "id": "qSN2oROJ2HAn"
      },
      "source": [
        "* インスタンスの個数"
      ]
    },
    {
      "cell_type": "code",
      "metadata": {
        "id": "-geC-fy2ASUU"
      },
      "source": [
        "len(train_dataloader.dataset)"
      ],
      "execution_count": null,
      "outputs": []
    },
    {
      "cell_type": "markdown",
      "source": [
        "* 検証データとテストデータ"
      ],
      "metadata": {
        "id": "7usmxC6zI94z"
      }
    },
    {
      "cell_type": "code",
      "metadata": {
        "id": "GSCRoDu3QuH7"
      },
      "source": [
        "valid_iter = Multi30k(split='valid', language_pair=(SRC_LANGUAGE, TGT_LANGUAGE))\n",
        "valid_dataloader = DataLoader(to_map_style_dataset(valid_iter), batch_size=BATCH_SIZE, collate_fn=collate_fn)\n",
        "\n",
        "test_iter = Multi30k(split='test', language_pair=(SRC_LANGUAGE, TGT_LANGUAGE))\n",
        "test_dataloader = DataLoader(to_map_style_dataset(test_iter), batch_size=BATCH_SIZE, collate_fn=collate_fn)"
      ],
      "execution_count": null,
      "outputs": []
    },
    {
      "cell_type": "markdown",
      "metadata": {
        "id": "yI5hYVc0QLh-"
      },
      "source": [
        "* なぜ`shuffle=False`でよいのに、to_map_style_dataset()を適用するのか？"
      ]
    },
    {
      "cell_type": "code",
      "metadata": {
        "id": "BTWKL6gaP0JP"
      },
      "source": [
        "# valid_iterのままでDataLoaderを作成してみる\n",
        "valid_iter = Multi30k(split='valid', language_pair=(SRC_LANGUAGE, TGT_LANGUAGE))\n",
        "valid_dataloader = DataLoader(valid_iter, batch_size=BATCH_SIZE, collate_fn=collate_fn)\n",
        "\n",
        "# 検証データを枚挙\n",
        "for batch in valid_dataloader:\n",
        "  print(batch[0].shape, batch[1].shape)\n",
        "\n",
        "print('-' * 80)\n",
        "\n",
        "# 続けて2回目の枚挙しようと思ってもできない！\n",
        "for batch in valid_dataloader:\n",
        "  print(batch[0].shape, batch[1].shape)"
      ],
      "execution_count": null,
      "outputs": []
    },
    {
      "cell_type": "code",
      "metadata": {
        "id": "H08DyZIyQ0ud"
      },
      "source": [
        "# valid_iterにto_map_style_dataset()を適用してDataLoaderを作成する\n",
        "valid_iter = Multi30k(split='valid', language_pair=(SRC_LANGUAGE, TGT_LANGUAGE))\n",
        "valid_dataloader = DataLoader(to_map_style_dataset(valid_iter), batch_size=BATCH_SIZE, collate_fn=collate_fn)\n",
        "\n",
        "# 検証データを枚挙\n",
        "for batch in valid_dataloader:\n",
        "  print(batch[0].shape, batch[1].shape)\n",
        "\n",
        "print('-' * 80)\n",
        "\n",
        "# 何度でも枚挙できる\n",
        "for _ in range(3):\n",
        "  for batch in valid_dataloader:\n",
        "    print(batch[0].shape, batch[1].shape)\n",
        "  print('-' * 80)"
      ],
      "execution_count": null,
      "outputs": []
    },
    {
      "cell_type": "markdown",
      "metadata": {
        "id": "0r0zO5EWSUCS"
      },
      "source": [
        "## モデル\n",
        "* エンコーダ\n",
        " * 入力として与えられたトークン列をまず埋め込み、そしてRNNによって隠れ状態を表すベクトルへと変換する。\n",
        " * 今回は、bidirectionalなRNNを使う。\n",
        "* デコーダ\n",
        " * エンコーダRNNから受け取った隠れ状態ベクトルを受け取って、翻訳先の言語のトークン列を、RNNによって生成する。\n",
        " * デコーダは生成を行うため、bidirectionalにはできない。\n",
        "* エンコーダ、デコーダ両方とも、LSTMではなく、GRUを使う。"
      ]
    },
    {
      "cell_type": "markdown",
      "metadata": {
        "id": "cA2y2sR3ZxQM"
      },
      "source": [
        "![seq2seq8.png](data:image/png;base64,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)"
      ]
    },
    {
      "cell_type": "markdown",
      "metadata": {
        "id": "O7P2qABMTbP-"
      },
      "source": [
        "### エンコーダ\n",
        "* インスタンスを作るときに指定する値の意味は以下の通り。\n",
        " * input_dim: 語彙サイズ\n",
        " * emb_dim: 単語埋め込みの次元数\n",
        " * enc_hid_dim: エンコーダの隠れ状態の次元数\n",
        " * dec_hid_dim: デコーダの隠れ状態の次元数\n",
        " * p: ドロップアウトの確率\n",
        "* ここではLSTMではなくGRUを使う。しかも、双方向のGRUを使う。"
      ]
    },
    {
      "cell_type": "code",
      "metadata": {
        "id": "xAunw776Q0Pu"
      },
      "source": [
        "class Encoder(nn.Module):\n",
        "  def __init__(self, input_dim, emb_dim,\n",
        "               enc_hid_dim, dec_hid_dim, p=0.5):\n",
        "    super().__init__()\n",
        "\n",
        "    self.input_dim = input_dim\n",
        "    self.emb_dim = emb_dim\n",
        "    self.enc_hid_dim = enc_hid_dim\n",
        "    self.dec_hid_dim = dec_hid_dim\n",
        "\n",
        "    self.embedding = nn.Embedding(input_dim, emb_dim)\n",
        "    self.rnn = nn.GRU(emb_dim, enc_hid_dim, bidirectional=True)\n",
        "    self.fc = nn.Linear(enc_hid_dim * 2, dec_hid_dim)\n",
        "    self.dropout = nn.Dropout(p=p)\n",
        "\n",
        "  def forward(self, src):\n",
        "    # srcの形は(トークン列長, バッチサイズ)\n",
        "\n",
        "    embedded = self.dropout(self.embedding(src))\n",
        "    # embeddedの形は(トークン列長, バッチサイズ, 埋め込み次元数)\n",
        "\n",
        "    outputs, hidden = self.rnn(embedded)\n",
        "    # outputsの形は(トークン列長, バッチサイズ, 隠れ状態の次元数 * 2)\n",
        "    # hiddenの形は(レイヤー数 * 2, バッチサイズ, 隠れ状態の次元数)\n",
        "    #   hiddenは[forward_1, backward_1, forward_2, backward_2, ...]とスタックされている。\n",
        "\n",
        "    hidden = torch.tanh(self.fc(torch.cat((hidden[-2,:,:], hidden[-1,:,:]), dim=1)))\n",
        "    # hiddenの型が(バッチサイズ, デコーダの隠れ状態の次元数)に変わる\n",
        "\n",
        "    return outputs, hidden"
      ],
      "execution_count": null,
      "outputs": []
    },
    {
      "cell_type": "markdown",
      "metadata": {
        "id": "tFCzEZFqUYsI"
      },
      "source": [
        "### デコーダ\n",
        "* やはり、LSTMではなく、GRUを使う。\n",
        "* トークン列を生成できる必要があるため、bidirectionalなものは使えない。\n",
        "* デコーダがエンコーダから受け取る情報として、エンコーダRNNの最後の隠れ状態を使うだけではあまりうまくいかない。\n",
        "* そこで今回は、エンコーダRNNの隠れ状態だけでなく、エンコーダRNNの出力ベクトル列（入力トークン列に沿って得られるすべて隠れ状態）の平均も、デコーダの入力の一部として使う。\n",
        " * エンコーダRNNの出力ベクトル列を表すテンソルの形は[トークン列長, バッチサイズ, 隠れ状態の次元数*2]である。\n",
        " * これのトークン列長の方向に平均をとって、デコーダへの入力の一部として利用する。"
      ]
    },
    {
      "cell_type": "code",
      "metadata": {
        "id": "AFXvrmxXZ4Yy"
      },
      "source": [
        "class Decoder(nn.Module):\n",
        "  def __init__(self, output_dim, emb_dim,\n",
        "               enc_hid_dim, dec_hid_dim, p=0.5):\n",
        "    super().__init__()\n",
        "\n",
        "    self.emb_dim = emb_dim\n",
        "    self.enc_hid_dim = enc_hid_dim\n",
        "    self.dec_hid_dim = dec_hid_dim\n",
        "    self.output_dim = output_dim\n",
        "\n",
        "    self.embedding = nn.Embedding(output_dim, emb_dim)\n",
        "    self.rnn = nn.GRU((enc_hid_dim * 2) + emb_dim, dec_hid_dim)\n",
        "    self.out = nn.Linear(dec_hid_dim + (enc_hid_dim * 2) + emb_dim, output_dim)\n",
        "    self.dropout = nn.Dropout(p=p)\n",
        "\n",
        "  # デコーダのforwardメソッドは、1トークンずつ処理する\n",
        "  def forward(self, input, decoder_hidden, mean_encoder_output):\n",
        "    # inputの形は(バッチサイズ, )\n",
        "    input = input.unsqueeze(0)\n",
        "    #   こうすることで、inputの形は(1, バッチサイズ)になる\n",
        "    embedded = self.dropout(self.embedding(input))\n",
        "    # embeddedの形は(1, バッチサイズ, 埋め込み次元数)\n",
        "\n",
        "    # mean_encoder_outputの型は(1, バッチサイズ, エンコーダ隠れ状態次元数 * 2)\n",
        "    rnn_input = torch.cat((mean_encoder_output, embedded), dim=2)\n",
        "    output, decoder_hidden = self.rnn(rnn_input, decoder_hidden.unsqueeze(0))\n",
        "    embedded = embedded.squeeze(0)\n",
        "    #   こうすることで、embeddedの形は(バッチサイズ, 埋め込み次元数)になる\n",
        "\n",
        "    output = output.squeeze(0)\n",
        "    #   こうすることで、outputの形は(バッチサイズ, デコーダ隠れ状態次元数)になる\n",
        "\n",
        "    mean_encoder_output = mean_encoder_output.squeeze(0)\n",
        "    #   こうすることで、mean_encoder_outputの形は(バッチサイズ, エンコーダ隠れ状態次元数 * 2)になる\n",
        "\n",
        "    output = self.out(torch.cat((output, mean_encoder_output, embedded), dim=1))\n",
        "\n",
        "    return output, decoder_hidden.squeeze(0)"
      ],
      "execution_count": null,
      "outputs": []
    },
    {
      "cell_type": "markdown",
      "metadata": {
        "id": "nXyTZU7_fodz"
      },
      "source": [
        "### RNNの重みを初期化する関数\n",
        "* 重みは標準偏差0.01の正規乱数で初期化。\n",
        "* バイアスはゼロで初期化。"
      ]
    },
    {
      "cell_type": "code",
      "metadata": {
        "id": "wAZb7WoAfltf"
      },
      "source": [
        "def init_weights(m):\n",
        "  for name, param in m.named_parameters():\n",
        "    if 'weight' in name:\n",
        "      nn.init.normal_(param.data, mean=0, std=0.01)\n",
        "    else:\n",
        "      nn.init.constant_(param.data, 0)"
      ],
      "execution_count": null,
      "outputs": []
    },
    {
      "cell_type": "markdown",
      "metadata": {
        "id": "gIUqUqhjYR-m"
      },
      "source": [
        "### エンコーダとデコーダをまとめて扱うためのクラス"
      ]
    },
    {
      "cell_type": "code",
      "metadata": {
        "id": "L48AsrWMbtjv"
      },
      "source": [
        "class Seq2Seq(nn.Module):\n",
        "  def __init__(self, encoder, decoder, device):\n",
        "    super().__init__()\n",
        "       \n",
        "    self.encoder = encoder\n",
        "    self.decoder = decoder\n",
        "    self.device = device\n",
        "\n",
        "  def forward(self, src, tgt, teacher_forcing_ratio=0.5, no_length_limit=False):\n",
        "    # tgtの形は[トークン列長, バッチサイズ]\n",
        "    max_len, batch_size = tgt.shape\n",
        "    if no_length_limit:\n",
        "      max_len *= 2\n",
        "    tgt_vocab_size = self.decoder.output_dim\n",
        "\n",
        "    outputs = torch.zeros(max_len, batch_size, tgt_vocab_size).to(self.device)\n",
        "\n",
        "    encoder_outputs, hidden = self.encoder(src)\n",
        "\n",
        "    # デコーダへの最初の入力トークンは<bos>トークン\n",
        "    # inputの形は(バッチサイズ, )\n",
        "    input = tgt[0,:]\n",
        "\n",
        "    # デコーダに1トークンずつ処理させるforループ\n",
        "    for t in range(1, max_len):\n",
        "      mean_encoder_output = encoder_outputs.mean(0, keepdim=True)\n",
        "      output, hidden = self.decoder(input, hidden, mean_encoder_output)\n",
        "      outputs[t] = output\n",
        "      teacher_force = torch.rand(1).item() < teacher_forcing_ratio\n",
        "\n",
        "      # 最大値を取る単語のインデックスを取得する\n",
        "      top1 = output.max(1)[1]\n",
        "\n",
        "      # teacher_forceがTrueならば、正解の単語のインデックスを使う\n",
        "      # そうでなければ、モデルが確率最大と予測した単語のインデックスを使う\n",
        "      input = (tgt[t] if teacher_force else top1)\n",
        "\n",
        "    return outputs"
      ],
      "execution_count": null,
      "outputs": []
    },
    {
      "cell_type": "markdown",
      "metadata": {
        "id": "M8qQoryupNCd"
      },
      "source": [
        "### 定数"
      ]
    },
    {
      "cell_type": "code",
      "metadata": {
        "id": "ASfUgCNZfWCg"
      },
      "source": [
        "INPUT_DIM = len(vocab_transform['de'])\n",
        "OUTPUT_DIM = len(vocab_transform['en'])\n",
        "\n",
        "ENC_EMB_DIM = 32\n",
        "DEC_EMB_DIM = 32\n",
        "ENC_HID_DIM = 64\n",
        "DEC_HID_DIM = 64\n",
        "ENC_DROPOUT = 0.5\n",
        "DEC_DROPOUT = 0.5"
      ],
      "execution_count": null,
      "outputs": []
    },
    {
      "cell_type": "markdown",
      "metadata": {
        "id": "imTDkiCepPty"
      },
      "source": [
        "### モデルのインスタンスの作成"
      ]
    },
    {
      "cell_type": "code",
      "metadata": {
        "id": "a4P9v56jfhGB"
      },
      "source": [
        "model = Seq2Seq(\n",
        "    Encoder(INPUT_DIM, ENC_EMB_DIM, ENC_HID_DIM, DEC_HID_DIM, p=ENC_DROPOUT),\n",
        "    Decoder(OUTPUT_DIM, DEC_EMB_DIM, ENC_HID_DIM, DEC_HID_DIM, p=DEC_DROPOUT),\n",
        "    device\n",
        "    ).to(device)"
      ],
      "execution_count": null,
      "outputs": []
    },
    {
      "cell_type": "markdown",
      "metadata": {
        "id": "T92nb0UFE3eW"
      },
      "source": [
        "* モデルのパラメータ数を調べてみる。"
      ]
    },
    {
      "cell_type": "code",
      "metadata": {
        "id": "qWy4Nt9hgAHG"
      },
      "source": [
        "def count_parameters(model):\n",
        "  return sum(p.numel() for p in model.parameters() if p.requires_grad)\n",
        "\n",
        "print(f'The model has {count_parameters(model):,} trainable parameters')"
      ],
      "execution_count": null,
      "outputs": []
    },
    {
      "cell_type": "markdown",
      "metadata": {
        "id": "tscxeAiEpUIQ"
      },
      "source": [
        "### モデルの重みを初期化"
      ]
    },
    {
      "cell_type": "code",
      "metadata": {
        "id": "y7RQtMp4cn7N"
      },
      "source": [
        "model.apply(init_weights)"
      ],
      "execution_count": null,
      "outputs": []
    },
    {
      "cell_type": "markdown",
      "metadata": {
        "id": "GYQhZ-TppZbr"
      },
      "source": [
        "### optimizer\n",
        "* Adamをデフォルトの設定で使う。"
      ]
    },
    {
      "cell_type": "code",
      "metadata": {
        "id": "hW6aAw98f6Vc"
      },
      "source": [
        "optimizer = torch.optim.Adam(model.parameters())"
      ],
      "execution_count": null,
      "outputs": []
    },
    {
      "cell_type": "markdown",
      "metadata": {
        "id": "CRwkTpFTpd8q"
      },
      "source": [
        "### 損失関数"
      ]
    },
    {
      "cell_type": "code",
      "metadata": {
        "id": "iOoS-LzpgEV6"
      },
      "source": [
        "criterion = nn.CrossEntropyLoss(ignore_index=PAD_IDX)"
      ],
      "execution_count": null,
      "outputs": []
    },
    {
      "cell_type": "markdown",
      "metadata": {
        "id": "ttPYGa32p8XI"
      },
      "source": [
        "## 学習や評価のためのヘルパ関数の定義"
      ]
    },
    {
      "cell_type": "markdown",
      "metadata": {
        "id": "V0wCVPzopgfs"
      },
      "source": [
        "### 訓練のための関数"
      ]
    },
    {
      "cell_type": "code",
      "metadata": {
        "id": "B6I5gj72gKaJ"
      },
      "source": [
        "def train(model, loader, optimizer, criterion, clip):\n",
        "  model.train()\n",
        "  epoch_loss = 0\n",
        "  \n",
        "  for src, tgt in loader:\n",
        "    src = src.to(device)\n",
        "    tgt = tgt.to(device)\n",
        "\n",
        "    output = model(src, tgt)\n",
        "    output = output[1:].view(-1, output.shape[-1])\n",
        "    tgt = tgt[1:].view(-1) # 範囲を[1:]とすることで<bos>トークンを除外\n",
        "\n",
        "    loss = criterion(output, tgt)\n",
        "    loss.backward()\n",
        "\n",
        "    torch.nn.utils.clip_grad_norm_(model.parameters(), clip)\n",
        "    optimizer.step()\n",
        "    optimizer.zero_grad()\n",
        "\n",
        "    epoch_loss += loss.item()\n",
        "\n",
        "  return epoch_loss / len(loader)"
      ],
      "execution_count": null,
      "outputs": []
    },
    {
      "cell_type": "markdown",
      "metadata": {
        "id": "uMzz2Vleplta"
      },
      "source": [
        "### 評価のための関数"
      ]
    },
    {
      "cell_type": "code",
      "metadata": {
        "id": "xp44U6kAhUtZ"
      },
      "source": [
        "def evaluate(model, loader, criterion):\n",
        "  model.eval()\n",
        "  epoch_loss = 0\n",
        "\n",
        "  for src, tgt in loader:\n",
        "    src = src.to(device)\n",
        "    tgt = tgt.to(device)\n",
        "\n",
        "    output = model(src, tgt, 0) # teacher forcingは無効にする\n",
        "    output = output[1:].view(-1, output.shape[-1])\n",
        "    tgt = tgt[1:].view(-1)\n",
        "\n",
        "    loss = criterion(output, tgt)\n",
        "    epoch_loss += loss.item()\n",
        "\n",
        "  return epoch_loss / len(loader)"
      ],
      "execution_count": null,
      "outputs": []
    },
    {
      "cell_type": "markdown",
      "metadata": {
        "id": "_u9ejxDOpn2O"
      },
      "source": [
        "### 経過時間を表示する関数"
      ]
    },
    {
      "cell_type": "code",
      "metadata": {
        "id": "IRwz0mzrhk-X"
      },
      "source": [
        "def epoch_time(start_time, end_time):\n",
        "  elapsed_time = end_time - start_time\n",
        "  elapsed_mins = int(elapsed_time / 60)\n",
        "  elapsed_secs = int(elapsed_time - (elapsed_mins * 60))\n",
        "  return elapsed_mins, elapsed_secs"
      ],
      "execution_count": null,
      "outputs": []
    },
    {
      "cell_type": "markdown",
      "metadata": {
        "id": "52f9ZQonprxu"
      },
      "source": [
        "### チェックポイントの保存・読み込みの関数"
      ]
    },
    {
      "cell_type": "code",
      "metadata": {
        "id": "-mbYrgxojcQo"
      },
      "source": [
        "def save_checkpoint(path, model, optimizer, epoch):\n",
        "  torch.save({\n",
        "      'model_state_dict': model.state_dict(),\n",
        "      'optimizer_state_dict': optimizer.state_dict(),\n",
        "      'epoch': epoch,\n",
        "      }, path)\n",
        "  \n",
        "def load_checkpoint(path, model, optimizer):\n",
        "  checkpoint = torch.load(path)\n",
        "  model.load_state_dict(checkpoint['model_state_dict'])\n",
        "  optimizer.load_state_dict(checkpoint['optimizer_state_dict'])\n",
        "  return checkpoint['epoch']"
      ],
      "execution_count": null,
      "outputs": []
    },
    {
      "cell_type": "markdown",
      "metadata": {
        "id": "F7zERf_5pz8r"
      },
      "source": [
        "## 学習の実行\n",
        "* チェックポイントを保存するパスは各自設定してください。"
      ]
    },
    {
      "cell_type": "code",
      "metadata": {
        "id": "TZTDZZBJ7Uw_"
      },
      "source": [
        "# 下記のパスは、あくまでも、例です。\n",
        "LOAD_PATH = '/content/drive/MyDrive/2021Courses/NLP/09_NMT.tar' \n",
        "SAVE_PATH = '/content/drive/MyDrive/2021Courses/NLP/09_NMT.tar'"
      ],
      "execution_count": null,
      "outputs": []
    },
    {
      "cell_type": "markdown",
      "metadata": {
        "id": "J6CkZakvo4uK"
      },
      "source": [
        "* チェックポイントのロード（エラーは無視）。"
      ]
    },
    {
      "cell_type": "code",
      "metadata": {
        "id": "9d6JUhVZo2_a"
      },
      "source": [
        "init_epoch = 0\n",
        "try:\n",
        "  init_epoch = load_checkpoint(LOAD_PATH, model, optimizer)\n",
        "except:\n",
        "  print(\"Error!\")\n",
        "init_epoch += 1"
      ],
      "execution_count": null,
      "outputs": []
    },
    {
      "cell_type": "markdown",
      "source": [
        "* perplexityとは\n",
        " * perplexityは、値が小さいほど良い、という評価尺度。\n",
        " * perplexityは、実際に次の位置に来る単語についてモデルの予測した確率が、高ければ高いほど、良くなる。\n",
        " * この解説がわかりやすい→ https://www.slideshare.net/hoxo_m/perplexity\n",
        "    * perplexityは、確率の逆数。（確率の逆数＝次に現れる単語の候補をどこまで狭く絞り込めているか）\n"
      ],
      "metadata": {
        "id": "7toL1IK_2Lie"
      }
    },
    {
      "cell_type": "code",
      "metadata": {
        "id": "Z8NaX5G1hunV"
      },
      "source": [
        "N_EPOCHS = 20\n",
        "CLIP = 1\n",
        "\n",
        "best_valid_loss = float('inf')\n",
        "\n",
        "for epoch in range(init_epoch, init_epoch + N_EPOCHS):\n",
        "\n",
        "  start_time = time.time()\n",
        "  train_loss = train(model, train_dataloader, optimizer, criterion, CLIP)\n",
        "  valid_loss = evaluate(model, valid_dataloader, criterion)\n",
        "  end_time = time.time()\n",
        "  epoch_mins, epoch_secs = epoch_time(start_time, end_time)\n",
        "\n",
        "  if epoch % 10 == 0:\n",
        "    save_checkpoint(SAVE_PATH, model, optimizer, epoch)\n",
        "\n",
        "  print(f'Epoch: {epoch:3d}\\t|\\tTime: {epoch_mins}m {epoch_secs}s')\n",
        "  print(f'\\tTrain Loss: {train_loss:.3f}\\t|\\tTrain PPL: {math.exp(train_loss):7.3f}')\n",
        "  print(f'\\tValid Loss: {valid_loss:.3f}\\t|\\tValid PPL: {math.exp(valid_loss):7.3f}')"
      ],
      "execution_count": null,
      "outputs": []
    },
    {
      "cell_type": "markdown",
      "metadata": {
        "id": "QWkobCS7zSnr"
      },
      "source": [
        "## テストセット上で評価"
      ]
    },
    {
      "cell_type": "markdown",
      "metadata": {
        "id": "lLElnZVgzYEd"
      },
      "source": [
        "### 定量的評価"
      ]
    },
    {
      "cell_type": "code",
      "metadata": {
        "id": "D5EhLaG_iBMR"
      },
      "source": [
        "test_loss = evaluate(model, test_dataloader, criterion)\n",
        "print(f'| Test Loss: {test_loss:.3f}\\t|\\tTest PPL: {math.exp(test_loss):7.3f} |')"
      ],
      "execution_count": null,
      "outputs": []
    },
    {
      "cell_type": "markdown",
      "metadata": {
        "id": "ubW8Z5WKzaX5"
      },
      "source": [
        "### 定性的評価(?)\n",
        "* モデルによる翻訳を実際に確認してみる。"
      ]
    },
    {
      "cell_type": "code",
      "metadata": {
        "id": "WSDs7OP91T8P"
      },
      "source": [
        "#load_checkpoint(LOAD_PATH, model, optimizer)"
      ],
      "execution_count": null,
      "outputs": []
    },
    {
      "cell_type": "code",
      "metadata": {
        "id": "0iFxPGyEvYHH"
      },
      "source": [
        "src, tgt = next(iter(test_dataloader))\n",
        "src = src.to(device)\n",
        "tgt = tgt.to(device)\n",
        "\n",
        "outputs = model(src, tgt, 0, True)\n",
        "for j in range(src.shape[1]):\n",
        "  print('>', ' '.join(vocab_transform[SRC_LANGUAGE].lookup_tokens(list(src[1:, j]))))\n",
        "  print('=', ' '.join(vocab_transform[TGT_LANGUAGE].lookup_tokens(list(tgt[1:, j]))))\n",
        "  print('<', ' '.join(vocab_transform[TGT_LANGUAGE].lookup_tokens(list(outputs[1:, j, :].squeeze().argmax(1)))))\n",
        "  print('-' * 64)"
      ],
      "execution_count": null,
      "outputs": []
    },
    {
      "cell_type": "code",
      "metadata": {
        "id": "_bIGzYoDzO20"
      },
      "source": [
        ""
      ],
      "execution_count": null,
      "outputs": []
    }
  ]
}