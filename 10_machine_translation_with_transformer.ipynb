{
  "nbformat": 4,
  "nbformat_minor": 0,
  "metadata": {
    "kernelspec": {
      "display_name": "Python 3",
      "language": "python",
      "name": "python3"
    },
    "language_info": {
      "codemirror_mode": {
        "name": "ipython",
        "version": 3
      },
      "file_extension": ".py",
      "mimetype": "text/x-python",
      "name": "python",
      "nbconvert_exporter": "python",
      "pygments_lexer": "ipython3",
      "version": "3.6.13"
    },
    "colab": {
      "name": "10_machine_translation_with_transformer.ipynb",
      "provenance": [],
      "collapsed_sections": [],
      "include_colab_link": true
    },
    "accelerator": "GPU"
  },
  "cells": [
    {
      "cell_type": "markdown",
      "metadata": {
        "id": "view-in-github",
        "colab_type": "text"
      },
      "source": [
        "<a href=\"https://colab.research.google.com/github/tomonari-masada/course2021-nlp/blob/main/10_machine_translation_with_transformer.ipynb\" target=\"_parent\"><img src=\"https://colab.research.google.com/assets/colab-badge.svg\" alt=\"Open In Colab\"/></a>"
      ]
    },
    {
      "cell_type": "markdown",
      "metadata": {
        "id": "c4HYAZ_vEJS3"
      },
      "source": [
        "# Transformerを使った機械翻訳\n",
        "\n",
        "* コードは下記のチュートリアルから。\n",
        " * https://pytorch.org/tutorials/beginner/translation_transformer.html\n",
        "* データセットとして[Multi30k](http://www.statmt.org/wmt16/multimodal-task.html#task1)を使う。 \n",
        "* ここでは、ドイツ語から英語への翻訳を行なう。\n",
        "\n"
      ]
    },
    {
      "cell_type": "markdown",
      "source": [
        "* Transformerの解説としては、例えば、下記のブログ記事を参照。\n",
        " * https://jalammar.github.io/illustrated-transformer/"
      ],
      "metadata": {
        "id": "f0BmWMpNUWZm"
      }
    },
    {
      "cell_type": "markdown",
      "metadata": {
        "id": "bbEqYbaeHxKC"
      },
      "source": [
        "## 準備"
      ]
    },
    {
      "cell_type": "markdown",
      "metadata": {
        "id": "SvAJNaVJHoQj"
      },
      "source": [
        "* 使えるGPUを確認"
      ]
    },
    {
      "cell_type": "code",
      "metadata": {
        "id": "Ohio3waHEQkf"
      },
      "source": [
        "!nvidia-smi"
      ],
      "execution_count": null,
      "outputs": []
    },
    {
      "cell_type": "markdown",
      "metadata": {
        "id": "gAzUrTnNHrLk"
      },
      "source": [
        "* spaCy関係のインストール"
      ]
    },
    {
      "cell_type": "code",
      "metadata": {
        "id": "oMaPCyIUFfng"
      },
      "source": [
        "!pip install -U spacy\n",
        "!python -m spacy download en_core_web_sm\n",
        "!python -m spacy download de_core_news_sm"
      ],
      "execution_count": null,
      "outputs": []
    },
    {
      "cell_type": "markdown",
      "metadata": {
        "id": "wMKPiw3gEJS4"
      },
      "source": [
        "## データの前処理\n",
        "* [`torchtext`](https://pytorch.org/text/stable/) を使うと便利。"
      ]
    },
    {
      "cell_type": "markdown",
      "metadata": {
        "id": "i_aVc-jwF4X8"
      },
      "source": [
        "### 翻訳元の言語のトークナイザと翻訳先の言語のトークナイザを作る"
      ]
    },
    {
      "cell_type": "code",
      "metadata": {
        "id": "dPA8_4j9EJS5"
      },
      "source": [
        "from torchtext.data.utils import get_tokenizer\n",
        "from torchtext.vocab import build_vocab_from_iterator\n",
        "from torchtext.datasets import Multi30k\n",
        "\n",
        "SRC_LANGUAGE = 'de'\n",
        "TGT_LANGUAGE = 'en'\n",
        "\n",
        "# Place-holder\n",
        "token_transform = {}\n",
        "\n",
        "token_transform[SRC_LANGUAGE] = get_tokenizer('spacy', language='de_core_news_sm')\n",
        "token_transform[TGT_LANGUAGE] = get_tokenizer('spacy', language='en_core_web_sm')"
      ],
      "execution_count": null,
      "outputs": []
    },
    {
      "cell_type": "markdown",
      "metadata": {
        "id": "TmF_XFahF8Tq"
      },
      "source": [
        "### トークンのリストを作るヘルパー関数の定義"
      ]
    },
    {
      "cell_type": "code",
      "metadata": {
        "id": "bKFbURx1F_d5"
      },
      "source": [
        "from typing import Iterable, List\n",
        "\n",
        "def yield_tokens(data_iter: Iterable, language: str) -> List[str]:\n",
        "  language_index = {SRC_LANGUAGE: 0, TGT_LANGUAGE: 1}\n",
        "\n",
        "  for data_sample in data_iter:\n",
        "    yield token_transform[language](data_sample[language_index[language]])"
      ],
      "execution_count": null,
      "outputs": []
    },
    {
      "cell_type": "markdown",
      "metadata": {
        "id": "XkgeAxwoGLLq"
      },
      "source": [
        "### 特殊なシンボルとそのインデックスを定義\n",
        "* インデックスとリスト内での順番が合っていることを確認する。"
      ]
    },
    {
      "cell_type": "code",
      "metadata": {
        "id": "jlIdAvDOGXkk"
      },
      "source": [
        "UNK_IDX, PAD_IDX, BOS_IDX, EOS_IDX = 0, 1, 2, 3\n",
        "special_symbols = ['<unk>', '<pad>', '<bos>', '<eos>']"
      ],
      "execution_count": null,
      "outputs": []
    },
    {
      "cell_type": "markdown",
      "metadata": {
        "id": "9u3_tcd6G0s4"
      },
      "source": [
        "### 両言語のデータから語彙集合を作る"
      ]
    },
    {
      "cell_type": "code",
      "metadata": {
        "id": "i_-5hCwjFlp3"
      },
      "source": [
        "# Place-holder \n",
        "vocab_transform = {}\n",
        "\n",
        "for ln in [SRC_LANGUAGE, TGT_LANGUAGE]:\n",
        "  # 訓練データのイテレータ\n",
        "  train_iter = Multi30k(split='train', language_pair=(SRC_LANGUAGE, TGT_LANGUAGE))\n",
        "  # torchtextのVocabオブジェクトを作る \n",
        "  vocab_transform[ln] = build_vocab_from_iterator(yield_tokens(train_iter, ln),\n",
        "                                                  min_freq=1,\n",
        "                                                  specials=special_symbols,\n",
        "                                                  special_first=True)\n",
        "\n",
        "# UNK_IDXをデフォルトのインデックスとして設定する（語彙集合に見つからなかった単語のインデックス）\n",
        "# これを実行しないと実行時にエラーが出る\n",
        "for ln in [SRC_LANGUAGE, TGT_LANGUAGE]:\n",
        "  vocab_transform[ln].set_default_index(UNK_IDX)"
      ],
      "execution_count": null,
      "outputs": []
    },
    {
      "cell_type": "markdown",
      "metadata": {
        "id": "xRg1w9BfEJS5"
      },
      "source": [
        "## Seq2SeqネットワークをTransformerを使って実装する\n",
        "\n",
        "* ここでは、論文[`“Attention is all you\n",
        "need”`](https://papers.nips.cc/paper/2017/file/3f5ee243547dee91fbd053c1c4a845aa-Paper.pdf)で提案されたモデルを実装する。\n",
        "* ネットワークは三つの部分から成る。\n",
        " * 埋め込みレイヤ（単語インデックスを埋め込みベクトルに変換する）\n",
        " * トランスフォーマモデル\n",
        " * 全結合層（各トークンに対して、規格化されていない確率の値を出力する）"
      ]
    },
    {
      "cell_type": "markdown",
      "metadata": {
        "id": "lwzaH9RGJEcI"
      },
      "source": [
        "### 準備"
      ]
    },
    {
      "cell_type": "code",
      "metadata": {
        "id": "QPvcESmcJCRG"
      },
      "source": [
        "from torch import Tensor\n",
        "import torch\n",
        "import torch.nn as nn\n",
        "from torch.nn import Transformer\n",
        "import math\n",
        "\n",
        "DEVICE = torch.device('cuda' if torch.cuda.is_available() else 'cpu')"
      ],
      "execution_count": null,
      "outputs": []
    },
    {
      "cell_type": "markdown",
      "metadata": {
        "id": "Urt99Q2aI4ee"
      },
      "source": [
        "### トークンの位置をエンコードするモジュールの定義\n",
        "* 注意機構がトークンの出現位置（先頭から何番目か）を反映しない計算であることに注意。\n",
        "* そのため、何番目のトークンであるかを表すベクトルをトークン埋め込みに加算する。\n",
        "* `torch.nn.Module.register_buffer`については、[ここ](https://pytorch.org/docs/stable/generated/torch.nn.Module.html?highlight=register_buffer#torch.nn.Module.register_buffer)を参照。\n",
        "* 埋め込み層の出力にドロップアウトが使われている点に注意。"
      ]
    },
    {
      "cell_type": "code",
      "metadata": {
        "id": "d1vXSpdXJd3V"
      },
      "source": [
        "class PositionalEncoding(nn.Module):\n",
        "  def __init__(self,\n",
        "               emb_size: int,\n",
        "               dropout: float,\n",
        "               maxlen: int = 5000):\n",
        "    super(PositionalEncoding, self).__init__()\n",
        "    den = torch.exp(- torch.arange(0, emb_size, 2)* math.log(10000) / emb_size)\n",
        "    pos = torch.arange(0, maxlen).reshape(maxlen, 1)\n",
        "    pos_embedding = torch.zeros((maxlen, emb_size))\n",
        "    pos_embedding[:, 0::2] = torch.sin(pos * den)\n",
        "    pos_embedding[:, 1::2] = torch.cos(pos * den)\n",
        "    pos_embedding = pos_embedding.unsqueeze(-2)\n",
        "\n",
        "    self.dropout = nn.Dropout(dropout)\n",
        "    self.register_buffer('pos_embedding', pos_embedding)\n",
        "\n",
        "  def forward(self, token_embedding: Tensor):\n",
        "    # token_embedding.size(0)はミニバッチ内部で最長のトークン列の長さ\n",
        "    return self.dropout(token_embedding + self.pos_embedding[:token_embedding.size(0), :])"
      ],
      "execution_count": null,
      "outputs": []
    },
    {
      "cell_type": "markdown",
      "source": [
        "* positional encodingの可視化\n",
        " * https://www.tensorflow.org/text/tutorials/transformer"
      ],
      "metadata": {
        "id": "jkV0gS-iOa7r"
      }
    },
    {
      "cell_type": "code",
      "source": [
        "import matplotlib.pyplot as plt\n",
        "\n",
        "%config InlineBackend.figure_format = 'retina'\n",
        "\n",
        "pos_encoding = PositionalEncoding(512, dropout=0.1)\n",
        "\n",
        "plt.pcolormesh(pos_encoding.pos_embedding.squeeze().t(), cmap='RdBu')\n",
        "plt.ylabel('Depth')\n",
        "plt.xlabel('Position')\n",
        "plt.colorbar()\n",
        "plt.show()"
      ],
      "metadata": {
        "id": "668eazm1NSsg"
      },
      "execution_count": null,
      "outputs": []
    },
    {
      "cell_type": "markdown",
      "metadata": {
        "id": "hO7FlD-DLpDj"
      },
      "source": [
        "### トークンのインデックス列を埋め込みベクトル列へ変換するモジュールの定義\n",
        "* `torch.nn.Embedding`が各単語の埋め込みベクトルを表す。\n",
        "* この`torch.nn.Embedding`も含めてtrainingする。"
      ]
    },
    {
      "cell_type": "code",
      "metadata": {
        "id": "iuul-qvFL6E1"
      },
      "source": [
        "class TokenEmbedding(nn.Module):\n",
        "  def __init__(self, vocab_size: int, emb_size):\n",
        "    super(TokenEmbedding, self).__init__()\n",
        "    self.embedding = nn.Embedding(vocab_size, emb_size)\n",
        "    self.emb_size = emb_size\n",
        "\n",
        "  def forward(self, tokens: Tensor):\n",
        "    return self.embedding(tokens.long()) * math.sqrt(self.emb_size)"
      ],
      "execution_count": null,
      "outputs": []
    },
    {
      "cell_type": "markdown",
      "metadata": {
        "id": "S999Lqs6Ma-y"
      },
      "source": [
        "### トランスフォーマを使ったseq2seqネットワークの定義\n",
        "* これが本体。"
      ]
    },
    {
      "cell_type": "code",
      "metadata": {
        "id": "MNZfig2gEJS6"
      },
      "source": [
        "class Seq2SeqTransformer(nn.Module):\n",
        "  def __init__(self,\n",
        "               num_encoder_layers: int,\n",
        "               num_decoder_layers: int,\n",
        "               emb_size: int,\n",
        "               nhead: int,\n",
        "               src_vocab_size: int,\n",
        "               tgt_vocab_size: int,\n",
        "               dim_feedforward: int = 512,\n",
        "               dropout: float = 0.1):\n",
        "    super(Seq2SeqTransformer, self).__init__()\n",
        "    self.transformer = Transformer(d_model=emb_size,\n",
        "                                   nhead=nhead,\n",
        "                                   num_encoder_layers=num_encoder_layers,\n",
        "                                   num_decoder_layers=num_decoder_layers,\n",
        "                                   dim_feedforward=dim_feedforward,\n",
        "                                   dropout=dropout)\n",
        "    self.generator = nn.Linear(emb_size, tgt_vocab_size)\n",
        "    self.src_tok_emb = TokenEmbedding(src_vocab_size, emb_size)\n",
        "    self.tgt_tok_emb = TokenEmbedding(tgt_vocab_size, emb_size)\n",
        "    self.positional_encoding = PositionalEncoding(\n",
        "        emb_size, dropout=dropout)\n",
        "\n",
        "  def forward(self,\n",
        "              src: Tensor,\n",
        "              trg: Tensor,\n",
        "              src_mask: Tensor,\n",
        "              tgt_mask: Tensor,\n",
        "              src_padding_mask: Tensor,\n",
        "              tgt_padding_mask: Tensor,\n",
        "              memory_key_padding_mask: Tensor):\n",
        "    src_emb = self.positional_encoding(self.src_tok_emb(src))\n",
        "    tgt_emb = self.positional_encoding(self.tgt_tok_emb(trg))\n",
        "    outs = self.transformer(src_emb, tgt_emb, src_mask, tgt_mask, None,\n",
        "                            src_padding_mask, tgt_padding_mask, memory_key_padding_mask)\n",
        "    return self.generator(outs)\n",
        "\n",
        "  def encode(self, src: Tensor, src_mask: Tensor):\n",
        "    return self.transformer.encoder(self.positional_encoding(self.src_tok_emb(src)),\n",
        "                                    src_mask)\n",
        "\n",
        "  def decode(self, tgt: Tensor, memory: Tensor, tgt_mask: Tensor):\n",
        "    return self.transformer.decoder(self.positional_encoding(self.tgt_tok_emb(tgt)),\n",
        "                                    memory,\n",
        "                                    tgt_mask)"
      ],
      "execution_count": null,
      "outputs": []
    },
    {
      "cell_type": "markdown",
      "metadata": {
        "id": "ZVzROk0_Nv_A"
      },
      "source": [
        "### 未来のトークンを見ないようにするためのマスクを作るヘルパ関数\n",
        "* これは生成側（翻訳先）だけに関係することに注意。"
      ]
    },
    {
      "cell_type": "code",
      "metadata": {
        "id": "VwpBparBN1a_"
      },
      "source": [
        "def generate_square_subsequent_mask(sz):\n",
        "  mask = (torch.triu(torch.ones((sz, sz), device=DEVICE)) == 1).transpose(0, 1)\n",
        "  mask = mask.float().masked_fill(mask == 0, float('-inf')).masked_fill(mask == 1, float(0.0))\n",
        "  return mask"
      ],
      "execution_count": null,
      "outputs": []
    },
    {
      "cell_type": "markdown",
      "source": [
        "* なぜtriuなのか？\n",
        " * PyTorchの古いバージョンとの互換性のためらしいです・・・。"
      ],
      "metadata": {
        "id": "q5MVzO-TSOdl"
      }
    },
    {
      "cell_type": "code",
      "source": [
        "(torch.triu(torch.ones((8, 8))) == 1).transpose(0, 1)"
      ],
      "metadata": {
        "id": "QJtvkBZsRoeI"
      },
      "execution_count": null,
      "outputs": []
    },
    {
      "cell_type": "code",
      "source": [
        "(torch.tril(torch.ones((8, 8))) == 1)"
      ],
      "metadata": {
        "id": "CyZIeiaRSysm"
      },
      "execution_count": null,
      "outputs": []
    },
    {
      "cell_type": "markdown",
      "metadata": {
        "id": "kWfJE0uVOKjS"
      },
      "source": [
        "### 翻訳元と翻訳先の文ペアに対してマスクを作るヘルパ関数\n",
        "* パディング用トークンを見ないようにするためのマスクも含めて返す。"
      ]
    },
    {
      "cell_type": "code",
      "metadata": {
        "id": "2mgd5RyvEJS7"
      },
      "source": [
        "def create_mask(src, tgt):\n",
        "  src_seq_len = src.shape[0]\n",
        "  tgt_seq_len = tgt.shape[0]\n",
        "\n",
        "  tgt_mask = generate_square_subsequent_mask(tgt_seq_len)\n",
        "  src_mask = torch.zeros((src_seq_len, src_seq_len),device=DEVICE).type(torch.bool)\n",
        "\n",
        "  src_padding_mask = (src == PAD_IDX).transpose(0, 1)\n",
        "  tgt_padding_mask = (tgt == PAD_IDX).transpose(0, 1)\n",
        "  return src_mask, tgt_mask, src_padding_mask, tgt_padding_mask"
      ],
      "execution_count": null,
      "outputs": []
    },
    {
      "cell_type": "markdown",
      "metadata": {
        "id": "7wxclcj8PSJu"
      },
      "source": [
        "## 学習のための準備\n",
        "* モデルパラメータの初期化方法に注意。\n",
        "* 損失関数はクロスエントロピー。\n",
        "* 最適化アルゴリズムはAdam。"
      ]
    },
    {
      "cell_type": "code",
      "metadata": {
        "id": "OFou-pYSEJS8"
      },
      "source": [
        "torch.manual_seed(0)\n",
        "\n",
        "SRC_VOCAB_SIZE = len(vocab_transform[SRC_LANGUAGE])\n",
        "TGT_VOCAB_SIZE = len(vocab_transform[TGT_LANGUAGE])\n",
        "EMB_SIZE = 512\n",
        "NHEAD = 8\n",
        "FFN_HID_DIM = 512\n",
        "BATCH_SIZE = 128\n",
        "NUM_ENCODER_LAYERS = 3\n",
        "NUM_DECODER_LAYERS = 3\n",
        "\n",
        "transformer = Seq2SeqTransformer(NUM_ENCODER_LAYERS, NUM_DECODER_LAYERS, EMB_SIZE,\n",
        "                                 NHEAD, SRC_VOCAB_SIZE, TGT_VOCAB_SIZE, FFN_HID_DIM)\n",
        "\n",
        "for p in transformer.parameters():\n",
        "  if p.dim() > 1:\n",
        "    nn.init.xavier_uniform_(p)\n",
        "\n",
        "transformer = transformer.to(DEVICE)\n",
        "\n",
        "loss_fn = torch.nn.CrossEntropyLoss(ignore_index=PAD_IDX)\n",
        "\n",
        "optimizer = torch.optim.Adam(transformer.parameters(), lr=0.0001, betas=(0.9, 0.98), eps=1e-9)"
      ],
      "execution_count": null,
      "outputs": []
    },
    {
      "cell_type": "markdown",
      "metadata": {
        "id": "94bbPstqEJS8"
      },
      "source": [
        "## Collationのための関数\n",
        "* collationとは、バラバラの文字列を前処理し、テンソルとしてのミニバッチへまとめあげる操作。"
      ]
    },
    {
      "cell_type": "code",
      "metadata": {
        "id": "r62_MJjGEJS9"
      },
      "source": [
        "from torch.nn.utils.rnn import pad_sequence\n",
        "\n",
        "# 所定の変換用の関数を使ってトークン列を変換する関数を返す関数\n",
        "def sequential_transforms(*transforms):\n",
        "  def func(txt_input):\n",
        "    for transform in transforms:\n",
        "      txt_input = transform(txt_input)\n",
        "    return txt_input\n",
        "  return func\n",
        "\n",
        "# BOS/EOSトークンを先頭/末尾に追加する関数\n",
        "def tensor_transform(token_ids: List[int]):\n",
        "  return torch.cat((torch.tensor([BOS_IDX]),\n",
        "                    torch.tensor(token_ids), \n",
        "                    torch.tensor([EOS_IDX])))\n",
        "\n",
        "# src and tgt language text transforms to convert raw strings into tensors indices\n",
        "text_transform = {}\n",
        "for ln in [SRC_LANGUAGE, TGT_LANGUAGE]:\n",
        "  text_transform[ln] = sequential_transforms(token_transform[ln], #トークナイゼーション\n",
        "                                             vocab_transform[ln], #ベクトル列へ変換\n",
        "                                             tensor_transform) #BOS/EOSを追加しテンソル化\n",
        "\n",
        "\n",
        "# ばらばらの文字列サンプルをミニバッチへcollateする関数\n",
        "# （DataLoaderのインスタンスを作るときにこの関数を指定する）\n",
        "def collate_fn(batch):\n",
        "  src_batch, tgt_batch = [], []\n",
        "  for src_sample, tgt_sample in batch:\n",
        "    src_batch.append(text_transform[SRC_LANGUAGE](src_sample.rstrip(\"\\n\")))\n",
        "    tgt_batch.append(text_transform[TGT_LANGUAGE](tgt_sample.rstrip(\"\\n\")))\n",
        "\n",
        "  src_batch = pad_sequence(src_batch, padding_value=PAD_IDX)\n",
        "  tgt_batch = pad_sequence(tgt_batch, padding_value=PAD_IDX)\n",
        "  return src_batch, tgt_batch"
      ],
      "execution_count": null,
      "outputs": []
    },
    {
      "cell_type": "markdown",
      "metadata": {
        "id": "cUunQy7NRyt0"
      },
      "source": [
        "## 訓練のための関数"
      ]
    },
    {
      "cell_type": "code",
      "metadata": {
        "id": "uzTDxe3qSBAO"
      },
      "source": [
        "from torch.utils.data import DataLoader"
      ],
      "execution_count": null,
      "outputs": []
    },
    {
      "cell_type": "code",
      "metadata": {
        "id": "iX_rX2BbR-1k"
      },
      "source": [
        "def train_epoch(model, optimizer):\n",
        "  model.train()\n",
        "  losses = 0\n",
        "  train_iter = Multi30k(split='train', language_pair=(SRC_LANGUAGE, TGT_LANGUAGE))\n",
        "  train_dataloader = DataLoader(train_iter, batch_size=BATCH_SIZE, collate_fn=collate_fn)\n",
        "  \n",
        "  for src, tgt in train_dataloader:\n",
        "    src = src.to(DEVICE)\n",
        "    tgt = tgt.to(DEVICE)\n",
        "\n",
        "    tgt_input = tgt[:-1, :]\n",
        "\n",
        "    src_mask, tgt_mask, src_padding_mask, tgt_padding_mask = create_mask(src, tgt_input)\n",
        "\n",
        "    logits = model(src, tgt_input, src_mask, tgt_mask, src_padding_mask, tgt_padding_mask, src_padding_mask)\n",
        "\n",
        "    optimizer.zero_grad()\n",
        "\n",
        "    tgt_out = tgt[1:, :]\n",
        "    loss = loss_fn(logits.reshape(-1, logits.shape[-1]), tgt_out.reshape(-1))\n",
        "    loss.backward()\n",
        "\n",
        "    optimizer.step()\n",
        "    losses += loss.item()\n",
        "\n",
        "  return losses / len(train_dataloader)"
      ],
      "execution_count": null,
      "outputs": []
    },
    {
      "cell_type": "markdown",
      "metadata": {
        "id": "EzSeOVG7EJS9"
      },
      "source": [
        "## モデル評価のための関数"
      ]
    },
    {
      "cell_type": "code",
      "metadata": {
        "id": "K_jZVpP-EJS9"
      },
      "source": [
        "def evaluate(model):\n",
        "  model.eval()\n",
        "  losses = 0\n",
        "\n",
        "  val_iter = Multi30k(split='valid', language_pair=(SRC_LANGUAGE, TGT_LANGUAGE))\n",
        "  val_dataloader = DataLoader(val_iter, batch_size=BATCH_SIZE, collate_fn=collate_fn)\n",
        "\n",
        "  for src, tgt in val_dataloader:\n",
        "    src = src.to(DEVICE)\n",
        "    tgt = tgt.to(DEVICE)\n",
        "\n",
        "    tgt_input = tgt[:-1, :]\n",
        "\n",
        "    src_mask, tgt_mask, src_padding_mask, tgt_padding_mask = create_mask(src, tgt_input)\n",
        "\n",
        "    logits = model(src, tgt_input, src_mask, tgt_mask,src_padding_mask, tgt_padding_mask, src_padding_mask)\n",
        "    \n",
        "    tgt_out = tgt[1:, :]\n",
        "    loss = loss_fn(logits.reshape(-1, logits.shape[-1]), tgt_out.reshape(-1))\n",
        "    losses += loss.item()\n",
        "\n",
        "  return losses / len(val_dataloader)"
      ],
      "execution_count": null,
      "outputs": []
    },
    {
      "cell_type": "markdown",
      "metadata": {
        "id": "1GiP5D_vEJS-"
      },
      "source": [
        "## 実際に学習を実行\n",
        "* 1 epochあたり80秒近くかかるかも・・・。\n"
      ]
    },
    {
      "cell_type": "code",
      "metadata": {
        "id": "v6Ix7233SwOG"
      },
      "source": [
        "from timeit import default_timer as timer\n",
        "NUM_EPOCHS = 18\n",
        "\n",
        "for epoch in range(1, NUM_EPOCHS+1):\n",
        "  start_time = timer()\n",
        "  train_loss = train_epoch(transformer, optimizer)\n",
        "  end_time = timer()\n",
        "  val_loss = evaluate(transformer)\n",
        "  print((f\"Epoch: {epoch}, Train loss: {train_loss:.3f}, Val loss: {val_loss:.3f}, \"f\"Epoch time = {(end_time - start_time):.3f}s\"))"
      ],
      "execution_count": null,
      "outputs": []
    },
    {
      "cell_type": "markdown",
      "metadata": {
        "id": "eOoyIghXTybo"
      },
      "source": [
        "## 学習済みのモデルを使った翻訳"
      ]
    },
    {
      "cell_type": "markdown",
      "metadata": {
        "id": "HboBCZy-TCwn"
      },
      "source": [
        "### 貪欲アルゴリズムで翻訳文を生成する関数"
      ]
    },
    {
      "cell_type": "code",
      "metadata": {
        "id": "hAl7OGTWTJYg"
      },
      "source": [
        "def greedy_decode(model, src, src_mask, max_len, start_symbol):\n",
        "  src = src.to(DEVICE)\n",
        "  src_mask = src_mask.to(DEVICE)\n",
        "\n",
        "  memory = model.encode(src, src_mask)\n",
        "  ys = torch.ones(1, 1).fill_(start_symbol).type(torch.long).to(DEVICE)\n",
        "  for i in range(max_len-1):\n",
        "    memory = memory.to(DEVICE)\n",
        "    tgt_mask = (generate_square_subsequent_mask(ys.size(0)).type(torch.bool)).to(DEVICE)\n",
        "    out = model.decode(ys, memory, tgt_mask)\n",
        "    out = out.transpose(0, 1)\n",
        "    prob = model.generator(out[:, -1])\n",
        "    _, next_word = torch.max(prob, dim=1) # 貪欲に確率最大の単語を採用\n",
        "    next_word = next_word.item()\n",
        "\n",
        "    ys = torch.cat([ys,\n",
        "                    torch.ones(1, 1).type_as(src.data).fill_(next_word)], dim=0)\n",
        "    if next_word == EOS_IDX:\n",
        "      break\n",
        "  return ys"
      ],
      "execution_count": null,
      "outputs": []
    },
    {
      "cell_type": "markdown",
      "metadata": {
        "id": "fh09pNz9TqNt"
      },
      "source": [
        "### 与えられた文を実際に翻訳する関数"
      ]
    },
    {
      "cell_type": "code",
      "metadata": {
        "id": "o89NCeUTEJS-"
      },
      "source": [
        "def translate(model: torch.nn.Module, src_sentence: str):\n",
        "  model.eval()\n",
        "  src = text_transform[SRC_LANGUAGE](src_sentence).view(-1, 1)\n",
        "  num_tokens = src.shape[0]\n",
        "  src_mask = (torch.zeros(num_tokens, num_tokens)).type(torch.bool)\n",
        "  tgt_tokens = greedy_decode(\n",
        "      model,  src, src_mask, max_len=num_tokens + 5, start_symbol=BOS_IDX).flatten()\n",
        "  return \" \".join(vocab_transform[TGT_LANGUAGE].lookup_tokens(list(tgt_tokens.cpu().numpy()))).replace(\"<bos>\", \"\").replace(\"<eos>\", \"\")"
      ],
      "execution_count": null,
      "outputs": []
    },
    {
      "cell_type": "markdown",
      "metadata": {
        "id": "YeVJCaU9UD3I"
      },
      "source": [
        "### 翻訳の実行"
      ]
    },
    {
      "cell_type": "code",
      "metadata": {
        "id": "tg_tnjUrEJS-"
      },
      "source": [
        "print(translate(transformer, \"Eine Gruppe von Menschen steht vor einem Iglu .\"))"
      ],
      "execution_count": null,
      "outputs": []
    },
    {
      "cell_type": "code",
      "metadata": {
        "id": "x3CrYwE9cYmV"
      },
      "source": [
        "test_iter = Multi30k(split='test', language_pair=(SRC_LANGUAGE, TGT_LANGUAGE))"
      ],
      "execution_count": null,
      "outputs": []
    },
    {
      "cell_type": "code",
      "metadata": {
        "id": "5oYNUPmIcurP"
      },
      "source": [
        "next(test_iter)"
      ],
      "execution_count": null,
      "outputs": []
    },
    {
      "cell_type": "code",
      "metadata": {
        "id": "5iqxRJcYc2O1"
      },
      "source": [
        "print(translate(transformer, \"Ein Mann mit einem orangefarbenen Hut, der etwas anstarrt.\"))"
      ],
      "execution_count": null,
      "outputs": []
    },
    {
      "cell_type": "markdown",
      "metadata": {
        "id": "aIL9SI1jEJS-"
      },
      "source": [
        "## 参考文献\n",
        "1. Attention is all you need paper.\n",
        "   https://papers.nips.cc/paper/2017/file/3f5ee243547dee91fbd053c1c4a845aa-Paper.pdf\n",
        "2. The annotated transformer. https://nlp.seas.harvard.edu/2018/04/03/attention.html\n",
        "\n"
      ]
    },
    {
      "cell_type": "code",
      "metadata": {
        "id": "Wi4rAIuAUIvB"
      },
      "source": [
        ""
      ],
      "execution_count": null,
      "outputs": []
    }
  ]
}