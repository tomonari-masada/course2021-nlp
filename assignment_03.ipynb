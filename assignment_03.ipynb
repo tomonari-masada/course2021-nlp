{
  "nbformat": 4,
  "nbformat_minor": 0,
  "metadata": {
    "colab": {
      "name": "assignment_03.ipynb",
      "provenance": [],
      "collapsed_sections": [],
      "authorship_tag": "ABX9TyMg5oJslps9MALs7M8Ym7Br",
      "include_colab_link": true
    },
    "kernelspec": {
      "name": "python3",
      "display_name": "Python 3"
    },
    "language_info": {
      "name": "python"
    }
  },
  "cells": [
    {
      "cell_type": "markdown",
      "metadata": {
        "id": "view-in-github",
        "colab_type": "text"
      },
      "source": [
        "<a href=\"https://colab.research.google.com/github/tomonari-masada/course2021-nlp/blob/main/assignment_03.ipynb\" target=\"_parent\"><img src=\"https://colab.research.google.com/assets/colab-badge.svg\" alt=\"Open In Colab\"/></a>"
      ]
    },
    {
      "cell_type": "markdown",
      "metadata": {
        "id": "OYtT8uZs8Cev"
      },
      "source": [
        "# 課題３\n",
        "\n",
        "* Wikipediaの複数の記事を、lemmaを半角スペースでつないだ、長い文字列へ変換する。\n",
        " * ここでは、コンピュータ科学の様々な分野の記事を題材として使う。\n",
        "* scikit-learnのCountVectorizerやTfidfVectorizerを使って、各記事における単語の出現頻度からなる文書ベクトルを得る。\n",
        "* 特徴ベクトルどうしの類似度を計算し、「人工知能」分野と最も似ている順に　３つの分野がどの分野かを求める。\n",
        " * 答えは自分の感覚でチェック。\n",
        " * 文書ベクトルを作る時に、単語の品詞を名詞に限定するなど、品詞の情報を使うことで結果を改善できるかどうかも、余裕があれば試行錯誤する。"
      ]
    },
    {
      "cell_type": "markdown",
      "metadata": {
        "id": "Q0CSru5tRH_z"
      },
      "source": [
        "## spaCyのインストール"
      ]
    },
    {
      "cell_type": "code",
      "metadata": {
        "colab": {
          "base_uri": "https://localhost:8080/"
        },
        "id": "KKbUPNUF8mXl",
        "outputId": "69789b72-b820-41f3-8e1f-ff8c030b096e"
      },
      "source": [
        "!pip install -U spacy"
      ],
      "execution_count": 1,
      "outputs": [
        {
          "output_type": "stream",
          "name": "stdout",
          "text": [
            "Requirement already satisfied: spacy in /usr/local/lib/python3.7/dist-packages (2.2.4)\n",
            "Collecting spacy\n",
            "  Downloading spacy-3.1.4-cp37-cp37m-manylinux_2_17_x86_64.manylinux2014_x86_64.whl (5.9 MB)\n",
            "\u001b[K     |████████████████████████████████| 5.9 MB 5.0 MB/s \n",
            "\u001b[?25hRequirement already satisfied: setuptools in /usr/local/lib/python3.7/dist-packages (from spacy) (57.4.0)\n",
            "Collecting pydantic!=1.8,!=1.8.1,<1.9.0,>=1.7.4\n",
            "  Downloading pydantic-1.8.2-cp37-cp37m-manylinux2014_x86_64.whl (10.1 MB)\n",
            "\u001b[K     |████████████████████████████████| 10.1 MB 23.7 MB/s \n",
            "\u001b[?25hRequirement already satisfied: murmurhash<1.1.0,>=0.28.0 in /usr/local/lib/python3.7/dist-packages (from spacy) (1.0.5)\n",
            "Collecting catalogue<2.1.0,>=2.0.6\n",
            "  Downloading catalogue-2.0.6-py3-none-any.whl (17 kB)\n",
            "Collecting typer<0.5.0,>=0.3.0\n",
            "  Downloading typer-0.4.0-py3-none-any.whl (27 kB)\n",
            "Collecting thinc<8.1.0,>=8.0.12\n",
            "  Downloading thinc-8.0.12-cp37-cp37m-manylinux_2_17_x86_64.manylinux2014_x86_64.whl (628 kB)\n",
            "\u001b[K     |████████████████████████████████| 628 kB 61.0 MB/s \n",
            "\u001b[?25hRequirement already satisfied: blis<0.8.0,>=0.4.0 in /usr/local/lib/python3.7/dist-packages (from spacy) (0.4.1)\n",
            "Requirement already satisfied: requests<3.0.0,>=2.13.0 in /usr/local/lib/python3.7/dist-packages (from spacy) (2.23.0)\n",
            "Requirement already satisfied: wasabi<1.1.0,>=0.8.1 in /usr/local/lib/python3.7/dist-packages (from spacy) (0.8.2)\n",
            "Requirement already satisfied: cymem<2.1.0,>=2.0.2 in /usr/local/lib/python3.7/dist-packages (from spacy) (2.0.5)\n",
            "Requirement already satisfied: tqdm<5.0.0,>=4.38.0 in /usr/local/lib/python3.7/dist-packages (from spacy) (4.62.3)\n",
            "Collecting spacy-legacy<3.1.0,>=3.0.8\n",
            "  Downloading spacy_legacy-3.0.8-py2.py3-none-any.whl (14 kB)\n",
            "Requirement already satisfied: numpy>=1.15.0 in /usr/local/lib/python3.7/dist-packages (from spacy) (1.19.5)\n",
            "Requirement already satisfied: jinja2 in /usr/local/lib/python3.7/dist-packages (from spacy) (2.11.3)\n",
            "Collecting srsly<3.0.0,>=2.4.1\n",
            "  Downloading srsly-2.4.2-cp37-cp37m-manylinux_2_17_x86_64.manylinux2014_x86_64.whl (451 kB)\n",
            "\u001b[K     |████████████████████████████████| 451 kB 70.7 MB/s \n",
            "\u001b[?25hRequirement already satisfied: typing-extensions<4.0.0.0,>=3.7.4 in /usr/local/lib/python3.7/dist-packages (from spacy) (3.7.4.3)\n",
            "Requirement already satisfied: packaging>=20.0 in /usr/local/lib/python3.7/dist-packages (from spacy) (21.0)\n",
            "Collecting pathy>=0.3.5\n",
            "  Downloading pathy-0.6.1-py3-none-any.whl (42 kB)\n",
            "\u001b[K     |████████████████████████████████| 42 kB 1.5 MB/s \n",
            "\u001b[?25hRequirement already satisfied: preshed<3.1.0,>=3.0.2 in /usr/local/lib/python3.7/dist-packages (from spacy) (3.0.5)\n",
            "Requirement already satisfied: zipp>=0.5 in /usr/local/lib/python3.7/dist-packages (from catalogue<2.1.0,>=2.0.6->spacy) (3.6.0)\n",
            "Requirement already satisfied: pyparsing>=2.0.2 in /usr/local/lib/python3.7/dist-packages (from packaging>=20.0->spacy) (2.4.7)\n",
            "Requirement already satisfied: smart-open<6.0.0,>=5.0.0 in /usr/local/lib/python3.7/dist-packages (from pathy>=0.3.5->spacy) (5.2.1)\n",
            "Requirement already satisfied: urllib3!=1.25.0,!=1.25.1,<1.26,>=1.21.1 in /usr/local/lib/python3.7/dist-packages (from requests<3.0.0,>=2.13.0->spacy) (1.24.3)\n",
            "Requirement already satisfied: chardet<4,>=3.0.2 in /usr/local/lib/python3.7/dist-packages (from requests<3.0.0,>=2.13.0->spacy) (3.0.4)\n",
            "Requirement already satisfied: idna<3,>=2.5 in /usr/local/lib/python3.7/dist-packages (from requests<3.0.0,>=2.13.0->spacy) (2.10)\n",
            "Requirement already satisfied: certifi>=2017.4.17 in /usr/local/lib/python3.7/dist-packages (from requests<3.0.0,>=2.13.0->spacy) (2021.5.30)\n",
            "Requirement already satisfied: click<9.0.0,>=7.1.1 in /usr/local/lib/python3.7/dist-packages (from typer<0.5.0,>=0.3.0->spacy) (7.1.2)\n",
            "Requirement already satisfied: MarkupSafe>=0.23 in /usr/local/lib/python3.7/dist-packages (from jinja2->spacy) (2.0.1)\n",
            "Installing collected packages: catalogue, typer, srsly, pydantic, thinc, spacy-legacy, pathy, spacy\n",
            "  Attempting uninstall: catalogue\n",
            "    Found existing installation: catalogue 1.0.0\n",
            "    Uninstalling catalogue-1.0.0:\n",
            "      Successfully uninstalled catalogue-1.0.0\n",
            "  Attempting uninstall: srsly\n",
            "    Found existing installation: srsly 1.0.5\n",
            "    Uninstalling srsly-1.0.5:\n",
            "      Successfully uninstalled srsly-1.0.5\n",
            "  Attempting uninstall: thinc\n",
            "    Found existing installation: thinc 7.4.0\n",
            "    Uninstalling thinc-7.4.0:\n",
            "      Successfully uninstalled thinc-7.4.0\n",
            "  Attempting uninstall: spacy\n",
            "    Found existing installation: spacy 2.2.4\n",
            "    Uninstalling spacy-2.2.4:\n",
            "      Successfully uninstalled spacy-2.2.4\n",
            "Successfully installed catalogue-2.0.6 pathy-0.6.1 pydantic-1.8.2 spacy-3.1.4 spacy-legacy-3.0.8 srsly-2.4.2 thinc-8.0.12 typer-0.4.0\n"
          ]
        }
      ]
    },
    {
      "cell_type": "code",
      "metadata": {
        "colab": {
          "base_uri": "https://localhost:8080/"
        },
        "id": "B4Gvfa6Q9KnT",
        "outputId": "7fa26a98-fcbb-4e2d-bf4f-008036ae830b"
      },
      "source": [
        "!python -m spacy download ja_core_news_sm"
      ],
      "execution_count": 2,
      "outputs": [
        {
          "output_type": "stream",
          "name": "stdout",
          "text": [
            "Collecting ja-core-news-sm==3.1.0\n",
            "  Downloading https://github.com/explosion/spacy-models/releases/download/ja_core_news_sm-3.1.0/ja_core_news_sm-3.1.0-py3-none-any.whl (12.9 MB)\n",
            "\u001b[K     |████████████████████████████████| 12.9 MB 197 kB/s \n",
            "\u001b[?25hRequirement already satisfied: spacy<3.2.0,>=3.1.0 in /usr/local/lib/python3.7/dist-packages (from ja-core-news-sm==3.1.0) (3.1.4)\n",
            "Collecting sudachidict-core>=20200330\n",
            "  Downloading SudachiDict-core-20210802.tar.gz (9.1 kB)\n",
            "Collecting sudachipy>=0.4.9\n",
            "  Downloading SudachiPy-0.5.4.tar.gz (86 kB)\n",
            "\u001b[K     |████████████████████████████████| 86 kB 3.4 MB/s \n",
            "\u001b[?25hRequirement already satisfied: typer<0.5.0,>=0.3.0 in /usr/local/lib/python3.7/dist-packages (from spacy<3.2.0,>=3.1.0->ja-core-news-sm==3.1.0) (0.4.0)\n",
            "Requirement already satisfied: cymem<2.1.0,>=2.0.2 in /usr/local/lib/python3.7/dist-packages (from spacy<3.2.0,>=3.1.0->ja-core-news-sm==3.1.0) (2.0.5)\n",
            "Requirement already satisfied: pathy>=0.3.5 in /usr/local/lib/python3.7/dist-packages (from spacy<3.2.0,>=3.1.0->ja-core-news-sm==3.1.0) (0.6.1)\n",
            "Requirement already satisfied: murmurhash<1.1.0,>=0.28.0 in /usr/local/lib/python3.7/dist-packages (from spacy<3.2.0,>=3.1.0->ja-core-news-sm==3.1.0) (1.0.5)\n",
            "Requirement already satisfied: requests<3.0.0,>=2.13.0 in /usr/local/lib/python3.7/dist-packages (from spacy<3.2.0,>=3.1.0->ja-core-news-sm==3.1.0) (2.23.0)\n",
            "Requirement already satisfied: spacy-legacy<3.1.0,>=3.0.8 in /usr/local/lib/python3.7/dist-packages (from spacy<3.2.0,>=3.1.0->ja-core-news-sm==3.1.0) (3.0.8)\n",
            "Requirement already satisfied: wasabi<1.1.0,>=0.8.1 in /usr/local/lib/python3.7/dist-packages (from spacy<3.2.0,>=3.1.0->ja-core-news-sm==3.1.0) (0.8.2)\n",
            "Requirement already satisfied: srsly<3.0.0,>=2.4.1 in /usr/local/lib/python3.7/dist-packages (from spacy<3.2.0,>=3.1.0->ja-core-news-sm==3.1.0) (2.4.2)\n",
            "Requirement already satisfied: pydantic!=1.8,!=1.8.1,<1.9.0,>=1.7.4 in /usr/local/lib/python3.7/dist-packages (from spacy<3.2.0,>=3.1.0->ja-core-news-sm==3.1.0) (1.8.2)\n",
            "Requirement already satisfied: catalogue<2.1.0,>=2.0.6 in /usr/local/lib/python3.7/dist-packages (from spacy<3.2.0,>=3.1.0->ja-core-news-sm==3.1.0) (2.0.6)\n",
            "Requirement already satisfied: thinc<8.1.0,>=8.0.12 in /usr/local/lib/python3.7/dist-packages (from spacy<3.2.0,>=3.1.0->ja-core-news-sm==3.1.0) (8.0.12)\n",
            "Requirement already satisfied: tqdm<5.0.0,>=4.38.0 in /usr/local/lib/python3.7/dist-packages (from spacy<3.2.0,>=3.1.0->ja-core-news-sm==3.1.0) (4.62.3)\n",
            "Requirement already satisfied: typing-extensions<4.0.0.0,>=3.7.4 in /usr/local/lib/python3.7/dist-packages (from spacy<3.2.0,>=3.1.0->ja-core-news-sm==3.1.0) (3.7.4.3)\n",
            "Requirement already satisfied: blis<0.8.0,>=0.4.0 in /usr/local/lib/python3.7/dist-packages (from spacy<3.2.0,>=3.1.0->ja-core-news-sm==3.1.0) (0.4.1)\n",
            "Requirement already satisfied: jinja2 in /usr/local/lib/python3.7/dist-packages (from spacy<3.2.0,>=3.1.0->ja-core-news-sm==3.1.0) (2.11.3)\n",
            "Requirement already satisfied: packaging>=20.0 in /usr/local/lib/python3.7/dist-packages (from spacy<3.2.0,>=3.1.0->ja-core-news-sm==3.1.0) (21.0)\n",
            "Requirement already satisfied: setuptools in /usr/local/lib/python3.7/dist-packages (from spacy<3.2.0,>=3.1.0->ja-core-news-sm==3.1.0) (57.4.0)\n",
            "Requirement already satisfied: preshed<3.1.0,>=3.0.2 in /usr/local/lib/python3.7/dist-packages (from spacy<3.2.0,>=3.1.0->ja-core-news-sm==3.1.0) (3.0.5)\n",
            "Requirement already satisfied: numpy>=1.15.0 in /usr/local/lib/python3.7/dist-packages (from spacy<3.2.0,>=3.1.0->ja-core-news-sm==3.1.0) (1.19.5)\n",
            "Requirement already satisfied: zipp>=0.5 in /usr/local/lib/python3.7/dist-packages (from catalogue<2.1.0,>=2.0.6->spacy<3.2.0,>=3.1.0->ja-core-news-sm==3.1.0) (3.6.0)\n",
            "Requirement already satisfied: pyparsing>=2.0.2 in /usr/local/lib/python3.7/dist-packages (from packaging>=20.0->spacy<3.2.0,>=3.1.0->ja-core-news-sm==3.1.0) (2.4.7)\n",
            "Requirement already satisfied: smart-open<6.0.0,>=5.0.0 in /usr/local/lib/python3.7/dist-packages (from pathy>=0.3.5->spacy<3.2.0,>=3.1.0->ja-core-news-sm==3.1.0) (5.2.1)\n",
            "Requirement already satisfied: urllib3!=1.25.0,!=1.25.1,<1.26,>=1.21.1 in /usr/local/lib/python3.7/dist-packages (from requests<3.0.0,>=2.13.0->spacy<3.2.0,>=3.1.0->ja-core-news-sm==3.1.0) (1.24.3)\n",
            "Requirement already satisfied: certifi>=2017.4.17 in /usr/local/lib/python3.7/dist-packages (from requests<3.0.0,>=2.13.0->spacy<3.2.0,>=3.1.0->ja-core-news-sm==3.1.0) (2021.5.30)\n",
            "Requirement already satisfied: chardet<4,>=3.0.2 in /usr/local/lib/python3.7/dist-packages (from requests<3.0.0,>=2.13.0->spacy<3.2.0,>=3.1.0->ja-core-news-sm==3.1.0) (3.0.4)\n",
            "Requirement already satisfied: idna<3,>=2.5 in /usr/local/lib/python3.7/dist-packages (from requests<3.0.0,>=2.13.0->spacy<3.2.0,>=3.1.0->ja-core-news-sm==3.1.0) (2.10)\n",
            "Collecting sortedcontainers~=2.1.0\n",
            "  Downloading sortedcontainers-2.1.0-py2.py3-none-any.whl (28 kB)\n",
            "Collecting dartsclone~=0.9.0\n",
            "  Downloading dartsclone-0.9.0-cp37-cp37m-manylinux1_x86_64.whl (473 kB)\n",
            "\u001b[K     |████████████████████████████████| 473 kB 35.1 MB/s \n",
            "\u001b[?25hRequirement already satisfied: Cython in /usr/local/lib/python3.7/dist-packages (from dartsclone~=0.9.0->sudachipy>=0.4.9->ja-core-news-sm==3.1.0) (0.29.24)\n",
            "Requirement already satisfied: click<9.0.0,>=7.1.1 in /usr/local/lib/python3.7/dist-packages (from typer<0.5.0,>=0.3.0->spacy<3.2.0,>=3.1.0->ja-core-news-sm==3.1.0) (7.1.2)\n",
            "Requirement already satisfied: MarkupSafe>=0.23 in /usr/local/lib/python3.7/dist-packages (from jinja2->spacy<3.2.0,>=3.1.0->ja-core-news-sm==3.1.0) (2.0.1)\n",
            "Building wheels for collected packages: sudachidict-core, sudachipy\n",
            "  Building wheel for sudachidict-core (setup.py) ... \u001b[?25l\u001b[?25hdone\n",
            "  Created wheel for sudachidict-core: filename=SudachiDict_core-20210802-py3-none-any.whl size=71418512 sha256=a6b4ae56cd09b77d71ddb9bfd94228b0b3622ed016f687a4164a09bbe514d6d9\n",
            "  Stored in directory: /root/.cache/pip/wheels/91/e8/21/e80d212743835d87bb5e7eca81b6abef6d8cb67a294007a837\n",
            "  Building wheel for sudachipy (setup.py) ... \u001b[?25l\u001b[?25hdone\n",
            "  Created wheel for sudachipy: filename=SudachiPy-0.5.4-cp37-cp37m-linux_x86_64.whl size=872161 sha256=d22b52f57699d5a821f5532cf3ba4f54655578c220776f79a6f35aee7f197b5f\n",
            "  Stored in directory: /root/.cache/pip/wheels/6b/5b/8b/ce1f543c9e9af590fdc62e8344fda5a3950c60c0d21c83174e\n",
            "Successfully built sudachidict-core sudachipy\n",
            "Installing collected packages: sortedcontainers, dartsclone, sudachipy, sudachidict-core, ja-core-news-sm\n",
            "  Attempting uninstall: sortedcontainers\n",
            "    Found existing installation: sortedcontainers 2.4.0\n",
            "    Uninstalling sortedcontainers-2.4.0:\n",
            "      Successfully uninstalled sortedcontainers-2.4.0\n",
            "Successfully installed dartsclone-0.9.0 ja-core-news-sm-3.1.0 sortedcontainers-2.1.0 sudachidict-core-20210802 sudachipy-0.5.4\n",
            "\u001b[38;5;2m✔ Download and installation successful\u001b[0m\n",
            "You can now load the package via spacy.load('ja_core_news_sm')\n"
          ]
        }
      ]
    },
    {
      "cell_type": "markdown",
      "metadata": {
        "id": "VUn9iYzC9QOQ"
      },
      "source": [
        "* ここでランタイムを再起動する。その後、以下を実行。"
      ]
    },
    {
      "cell_type": "code",
      "metadata": {
        "id": "TkYJszlO9MuS"
      },
      "source": [
        "from spacy.lang.ja import Japanese\n",
        "\n",
        "nlp = Japanese()"
      ],
      "execution_count": 1,
      "outputs": []
    },
    {
      "cell_type": "markdown",
      "metadata": {
        "id": "QinzSotXQkZd"
      },
      "source": [
        "## 日本語WIkipediaの人工知能の記事をダウンロード\n",
        "* BeautifulSoupでHTMLのparsingを行う。"
      ]
    },
    {
      "cell_type": "code",
      "metadata": {
        "id": "2V4ykRr8755D"
      },
      "source": [
        "from bs4 import BeautifulSoup\n",
        "from urllib.request import urlopen\n",
        "\n",
        "url = 'https://ja.wikipedia.org/wiki/%E4%BA%BA%E5%B7%A5%E7%9F%A5%E8%83%BD'\n",
        "html = urlopen(url) \n",
        "soup = BeautifulSoup(html, 'html.parser')"
      ],
      "execution_count": 2,
      "outputs": []
    },
    {
      "cell_type": "markdown",
      "metadata": {
        "id": "bP7NnBqyRaBh"
      },
      "source": [
        "* 一連の処理を行う関数を定義しておく。\n",
        " * HTMLのpタグの中身を取り出し・・・\n",
        " * 形態素解析する。"
      ]
    },
    {
      "cell_type": "code",
      "metadata": {
        "id": "G0sCA3up8PkY"
      },
      "source": [
        "def morph(soup, nlp):\n",
        "  # 段落のテキストを取得する。\n",
        "  lines = list()\n",
        "  for para in soup.find_all('p'):\n",
        "    lines.append(para.text)\n",
        "  # Sudachiで形態素解析し、分かち書き後のlemmaを取得する。\n",
        "  x_pos = ['SPACE', 'PUNCT', 'AUX', 'ADP', 'SYM', 'DET', 'SCONJ', 'PART']\n",
        "  tokens = list()\n",
        "  for line in lines:\n",
        "    for token in nlp(line):\n",
        "      pos = token.pos_\n",
        "      if pos not in x_pos:\n",
        "        tokens.append(token.lemma_)\n",
        "\n",
        "  return ' '.join(tokens)"
      ],
      "execution_count": 3,
      "outputs": []
    },
    {
      "cell_type": "markdown",
      "metadata": {
        "id": "liaHPu7nQ9U2"
      },
      "source": [
        "* 人工知能の記事だけ先に形態素解析する。"
      ]
    },
    {
      "cell_type": "code",
      "metadata": {
        "id": "OlhvuRxtQ5E1"
      },
      "source": [
        "doc_AI = morph(soup, nlp)"
      ],
      "execution_count": 4,
      "outputs": []
    },
    {
      "cell_type": "markdown",
      "metadata": {
        "id": "6pK0OTWuRoEa"
      },
      "source": [
        "## 比較対象の記事群を取得"
      ]
    },
    {
      "cell_type": "code",
      "metadata": {
        "colab": {
          "base_uri": "https://localhost:8080/"
        },
        "id": "QggY-K2a8exH",
        "outputId": "1def04d1-10db-443d-8df2-832dc3654d4f"
      },
      "source": [
        "target_str = '表話編歴コンピュータ科学'\n",
        "prefix = '/wiki/'\n",
        "\n",
        "urls = dict()\n",
        "for table in soup.find_all('table'):\n",
        "  if table.text[:len(target_str)] != target_str: continue\n",
        "  for td in table.find_all('td'):\n",
        "    for a in td.find_all('a'):\n",
        "      if not a.text: continue\n",
        "      try:\n",
        "        if a.text.find('英語版') == -1:\n",
        "          href = a['href']\n",
        "          if href[:len(prefix)] == prefix and href.find('/Template:') == -1 and href.find('/Category:') == -1:\n",
        "            urls[a.text] = 'https://ja.wikipedia.org' + href\n",
        "      except:\n",
        "        continue\n",
        "\n",
        "for k in urls:\n",
        "  print(k, urls[k])"
      ],
      "execution_count": 5,
      "outputs": [
        {
          "output_type": "stream",
          "name": "stdout",
          "text": [
            "プリント基板 https://ja.wikipedia.org/wiki/%E3%83%97%E3%83%AA%E3%83%B3%E3%83%88%E5%9F%BA%E6%9D%BF\n",
            "周辺機器 https://ja.wikipedia.org/wiki/%E5%91%A8%E8%BE%BA%E6%A9%9F%E5%99%A8\n",
            "集積回路 https://ja.wikipedia.org/wiki/%E9%9B%86%E7%A9%8D%E5%9B%9E%E8%B7%AF\n",
            "Systems on Chip (SoCs) https://ja.wikipedia.org/wiki/System-on-a-chip\n",
            "エネルギー消費 (グリーン・コンピューティング) https://ja.wikipedia.org/wiki/%E3%82%B0%E3%83%AA%E3%83%BC%E3%83%B3IT\n",
            "EDA https://ja.wikipedia.org/wiki/EDA_(%E5%8D%8A%E5%B0%8E%E4%BD%93)\n",
            "ハードウェアアクセラレーション https://ja.wikipedia.org/wiki/%E3%83%8F%E3%83%BC%E3%83%89%E3%82%A6%E3%82%A7%E3%82%A2%E3%82%A2%E3%82%AF%E3%82%BB%E3%83%A9%E3%83%AC%E3%83%BC%E3%82%B7%E3%83%A7%E3%83%B3\n",
            "コンピュータ・アーキテクチャ https://ja.wikipedia.org/wiki/%E3%82%B3%E3%83%B3%E3%83%94%E3%83%A5%E3%83%BC%E3%82%BF%E3%83%BB%E3%82%A2%E3%83%BC%E3%82%AD%E3%83%86%E3%82%AF%E3%83%81%E3%83%A3\n",
            "組み込みシステム https://ja.wikipedia.org/wiki/%E7%B5%84%E3%81%BF%E8%BE%BC%E3%81%BF%E3%82%B7%E3%82%B9%E3%83%86%E3%83%A0\n",
            "リアルタイムシステム https://ja.wikipedia.org/wiki/%E3%83%AA%E3%82%A2%E3%83%AB%E3%82%BF%E3%82%A4%E3%83%A0%E3%82%B7%E3%82%B9%E3%83%86%E3%83%A0\n",
            "ディペンダビリティ https://ja.wikipedia.org/wiki/%E3%83%87%E3%82%A3%E3%83%9A%E3%83%B3%E3%83%80%E3%83%93%E3%83%AA%E3%83%86%E3%82%A3\n",
            "通信プロトコル https://ja.wikipedia.org/wiki/%E9%80%9A%E4%BF%A1%E3%83%97%E3%83%AD%E3%83%88%E3%82%B3%E3%83%AB\n",
            "インタプリタ https://ja.wikipedia.org/wiki/%E3%82%A4%E3%83%B3%E3%82%BF%E3%83%97%E3%83%AA%E3%82%BF\n",
            "ミドルウェア https://ja.wikipedia.org/wiki/%E3%83%9F%E3%83%89%E3%83%AB%E3%82%A6%E3%82%A7%E3%82%A2\n",
            "仮想マシン https://ja.wikipedia.org/wiki/%E4%BB%AE%E6%83%B3%E3%83%9E%E3%82%B7%E3%83%B3\n",
            "オペレーティングシステム https://ja.wikipedia.org/wiki/%E3%82%AA%E3%83%9A%E3%83%AC%E3%83%BC%E3%83%86%E3%82%A3%E3%83%B3%E3%82%B0%E3%82%B7%E3%82%B9%E3%83%86%E3%83%A0\n",
            "ソフトウェア品質 https://ja.wikipedia.org/wiki/%E3%82%BD%E3%83%95%E3%83%88%E3%82%A6%E3%82%A7%E3%82%A2%E5%93%81%E8%B3%AA\n",
            "プログラミングパラダイム https://ja.wikipedia.org/wiki/%E3%83%97%E3%83%AD%E3%82%B0%E3%83%A9%E3%83%9F%E3%83%B3%E3%82%B0%E3%83%91%E3%83%A9%E3%83%80%E3%82%A4%E3%83%A0\n",
            "プログラミング言語 https://ja.wikipedia.org/wiki/%E3%83%97%E3%83%AD%E3%82%B0%E3%83%A9%E3%83%9F%E3%83%B3%E3%82%B0%E8%A8%80%E8%AA%9E\n",
            "コンパイラ https://ja.wikipedia.org/wiki/%E3%82%B3%E3%83%B3%E3%83%91%E3%82%A4%E3%83%A9\n",
            "ドメイン固有言語 https://ja.wikipedia.org/wiki/%E3%83%89%E3%83%A1%E3%82%A4%E3%83%B3%E5%9B%BA%E6%9C%89%E8%A8%80%E8%AA%9E\n",
            "モデリング言語 https://ja.wikipedia.org/wiki/%E3%83%A2%E3%83%87%E3%83%AA%E3%83%B3%E3%82%B0%E8%A8%80%E8%AA%9E\n",
            "ソフトウェアフレームワーク https://ja.wikipedia.org/wiki/%E3%82%BD%E3%83%95%E3%83%88%E3%82%A6%E3%82%A7%E3%82%A2%E3%83%95%E3%83%AC%E3%83%BC%E3%83%A0%E3%83%AF%E3%83%BC%E3%82%AF\n",
            "統合開発環境 https://ja.wikipedia.org/wiki/%E7%B5%B1%E5%90%88%E9%96%8B%E7%99%BA%E7%92%B0%E5%A2%83\n",
            "ソフトウェア構成管理 https://ja.wikipedia.org/wiki/%E3%82%BD%E3%83%95%E3%83%88%E3%82%A6%E3%82%A7%E3%82%A2%E6%A7%8B%E6%88%90%E7%AE%A1%E7%90%86\n",
            "ソフトウェアライブラリ https://ja.wikipedia.org/wiki/%E3%83%A9%E3%82%A4%E3%83%96%E3%83%A9%E3%83%AA\n",
            "ソフトウェアリポジトリ https://ja.wikipedia.org/wiki/%E3%83%AA%E3%83%9D%E3%82%B8%E3%83%88%E3%83%AA\n",
            "ソフトウェア開発プロセス https://ja.wikipedia.org/wiki/%E3%82%BD%E3%83%95%E3%83%88%E3%82%A6%E3%82%A7%E3%82%A2%E9%96%8B%E7%99%BA%E3%83%97%E3%83%AD%E3%82%BB%E3%82%B9\n",
            "要求分析 https://ja.wikipedia.org/wiki/%E8%A6%81%E6%B1%82%E5%88%86%E6%9E%90\n",
            "ソフトウェア設計 https://ja.wikipedia.org/wiki/%E3%82%BD%E3%83%95%E3%83%88%E3%82%A6%E3%82%A7%E3%82%A2%E8%A8%AD%E8%A8%88\n",
            "ソフトウェアデプロイメント https://ja.wikipedia.org/wiki/%E3%82%BD%E3%83%95%E3%83%88%E3%82%A6%E3%82%A7%E3%82%A2%E3%83%87%E3%83%97%E3%83%AD%E3%82%A4%E3%83%A1%E3%83%B3%E3%83%88\n",
            "ソフトウェアメンテナンス https://ja.wikipedia.org/wiki/%E3%82%BD%E3%83%95%E3%83%88%E3%82%A6%E3%82%A7%E3%82%A2%E3%83%A1%E3%83%B3%E3%83%86%E3%83%8A%E3%83%B3%E3%82%B9\n",
            "オープンソースモデル https://ja.wikipedia.org/wiki/%E3%82%AA%E3%83%BC%E3%83%97%E3%83%B3%E3%82%BD%E3%83%BC%E3%82%B9%E3%82%BD%E3%83%95%E3%83%88%E3%82%A6%E3%82%A7%E3%82%A2\n",
            "計算モデル https://ja.wikipedia.org/wiki/%E8%A8%88%E7%AE%97%E3%83%A2%E3%83%87%E3%83%AB\n",
            "形式言語 https://ja.wikipedia.org/wiki/%E5%BD%A2%E5%BC%8F%E8%A8%80%E8%AA%9E\n",
            "オートマトン理論 https://ja.wikipedia.org/wiki/%E3%82%AA%E3%83%BC%E3%83%88%E3%83%9E%E3%83%88%E3%83%B3%E7%90%86%E8%AB%96\n",
            "計算可能性理論 https://ja.wikipedia.org/wiki/%E8%A8%88%E7%AE%97%E5%8F%AF%E8%83%BD%E6%80%A7%E7%90%86%E8%AB%96\n",
            "計算複雑性理論 https://ja.wikipedia.org/wiki/%E8%A8%88%E7%AE%97%E8%A4%87%E9%9B%91%E6%80%A7%E7%90%86%E8%AB%96\n",
            "意味論 https://ja.wikipedia.org/wiki/%E3%83%97%E3%83%AD%E3%82%B0%E3%83%A9%E3%83%A0%E6%84%8F%E5%91%B3%E8%AB%96\n",
            "アルゴリズム解析 https://ja.wikipedia.org/wiki/%E3%82%A2%E3%83%AB%E3%82%B4%E3%83%AA%E3%82%BA%E3%83%A0%E8%A7%A3%E6%9E%90\n",
            "乱択アルゴリズム https://ja.wikipedia.org/wiki/%E4%B9%B1%E6%8A%9E%E3%82%A2%E3%83%AB%E3%82%B4%E3%83%AA%E3%82%BA%E3%83%A0\n",
            "計算幾何学 https://ja.wikipedia.org/wiki/%E8%A8%88%E7%AE%97%E5%B9%BE%E4%BD%95%E5%AD%A6\n",
            "離散数学 https://ja.wikipedia.org/wiki/%E9%9B%A2%E6%95%A3%E6%95%B0%E5%AD%A6\n",
            "確率 https://ja.wikipedia.org/wiki/%E7%A2%BA%E7%8E%87\n",
            "統計学 https://ja.wikipedia.org/wiki/%E7%B5%B1%E8%A8%88%E5%AD%A6\n",
            "数学ソフトウェア https://ja.wikipedia.org/wiki/%E6%95%B0%E5%AD%A6%E3%82%BD%E3%83%95%E3%83%88%E3%82%A6%E3%82%A7%E3%82%A2\n",
            "情報理論 https://ja.wikipedia.org/wiki/%E6%83%85%E5%A0%B1%E7%90%86%E8%AB%96\n",
            "解析学 https://ja.wikipedia.org/wiki/%E8%A7%A3%E6%9E%90%E5%AD%A6\n",
            "数値解析 https://ja.wikipedia.org/wiki/%E6%95%B0%E5%80%A4%E8%A7%A3%E6%9E%90\n",
            "データベース管理システム https://ja.wikipedia.org/wiki/%E3%83%87%E3%83%BC%E3%82%BF%E3%83%99%E3%83%BC%E3%82%B9\n",
            "情報ストレージシステム https://ja.wikipedia.org/wiki/%E8%A8%98%E6%86%B6%E8%A3%85%E7%BD%AE\n",
            "企業情報システム https://ja.wikipedia.org/wiki/%E4%BC%81%E6%A5%AD%E6%83%85%E5%A0%B1%E3%82%B7%E3%82%B9%E3%83%86%E3%83%A0\n",
            "地理情報システム https://ja.wikipedia.org/wiki/%E5%9C%B0%E7%90%86%E6%83%85%E5%A0%B1%E3%82%B7%E3%82%B9%E3%83%86%E3%83%A0\n",
            "意思決定支援システム https://ja.wikipedia.org/wiki/%E6%84%8F%E6%80%9D%E6%B1%BA%E5%AE%9A%E6%94%AF%E6%8F%B4%E3%82%B7%E3%82%B9%E3%83%86%E3%83%A0\n",
            "プロセス制御システム https://ja.wikipedia.org/wiki/%E3%83%97%E3%83%AD%E3%82%BB%E3%82%B9%E5%88%B6%E5%BE%A1\n",
            "データマイニング https://ja.wikipedia.org/wiki/%E3%83%87%E3%83%BC%E3%82%BF%E3%83%9E%E3%82%A4%E3%83%8B%E3%83%B3%E3%82%B0\n",
            "電子図書館 https://ja.wikipedia.org/wiki/%E9%9B%BB%E5%AD%90%E5%9B%B3%E6%9B%B8%E9%A4%A8\n",
            "コンピューティング・プラットフォーム https://ja.wikipedia.org/wiki/%E3%83%97%E3%83%A9%E3%83%83%E3%83%88%E3%83%95%E3%82%A9%E3%83%BC%E3%83%A0_(%E3%82%B3%E3%83%B3%E3%83%94%E3%83%A5%E3%83%BC%E3%83%86%E3%82%A3%E3%83%B3%E3%82%B0)\n",
            "デジタルマーケティング https://ja.wikipedia.org/wiki/%E3%83%87%E3%82%B8%E3%82%BF%E3%83%AB%E3%83%9E%E3%83%BC%E3%82%B1%E3%83%86%E3%82%A3%E3%83%B3%E3%82%B0\n",
            "World Wide Web https://ja.wikipedia.org/wiki/World_Wide_Web\n",
            "情報検索 https://ja.wikipedia.org/wiki/%E6%83%85%E5%A0%B1%E6%A4%9C%E7%B4%A2\n",
            "暗号理論 https://ja.wikipedia.org/wiki/%E6%9A%97%E5%8F%B7%E7%90%86%E8%AB%96\n",
            "形式手法 https://ja.wikipedia.org/wiki/%E5%BD%A2%E5%BC%8F%E6%89%8B%E6%B3%95\n",
            "侵入検知システム https://ja.wikipedia.org/wiki/%E4%BE%B5%E5%85%A5%E6%A4%9C%E7%9F%A5%E3%82%B7%E3%82%B9%E3%83%86%E3%83%A0\n",
            "ネットワーク・セキュリティ https://ja.wikipedia.org/wiki/%E3%83%8D%E3%83%83%E3%83%88%E3%83%AF%E3%83%BC%E3%82%AF%E3%83%BB%E3%82%BB%E3%82%AD%E3%83%A5%E3%83%AA%E3%83%86%E3%82%A3\n",
            "情報セキュリティ https://ja.wikipedia.org/wiki/%E6%83%85%E5%A0%B1%E3%82%BB%E3%82%AD%E3%83%A5%E3%83%AA%E3%83%86%E3%82%A3\n",
            "インタラクションデザイン https://ja.wikipedia.org/wiki/%E3%82%A4%E3%83%B3%E3%82%BF%E3%83%A9%E3%82%AF%E3%82%B7%E3%83%A7%E3%83%B3%E3%83%87%E3%82%B6%E3%82%A4%E3%83%B3\n",
            "ユビキタスコンピューティング https://ja.wikipedia.org/wiki/%E3%83%A6%E3%83%93%E3%82%AD%E3%82%BF%E3%82%B9%E3%82%B3%E3%83%B3%E3%83%94%E3%83%A5%E3%83%BC%E3%83%86%E3%82%A3%E3%83%B3%E3%82%B0\n",
            "可視化 https://ja.wikipedia.org/wiki/%E5%8F%AF%E8%A6%96%E5%8C%96\n",
            "アクセシビリティ https://ja.wikipedia.org/wiki/%E3%82%B3%E3%83%B3%E3%83%94%E3%83%A5%E3%83%BC%E3%82%BF%E3%82%A2%E3%82%AF%E3%82%BB%E3%82%B7%E3%83%93%E3%83%AA%E3%83%86%E3%82%A3\n",
            "並行コンピューティング https://ja.wikipedia.org/wiki/%E4%B8%A6%E8%A1%8C%E3%82%B3%E3%83%B3%E3%83%94%E3%83%A5%E3%83%BC%E3%83%86%E3%82%A3%E3%83%B3%E3%82%B0\n",
            "並列コンピューティング https://ja.wikipedia.org/wiki/%E4%B8%A6%E5%88%97%E3%82%B3%E3%83%B3%E3%83%94%E3%83%A5%E3%83%BC%E3%83%86%E3%82%A3%E3%83%B3%E3%82%B0\n",
            "分散コンピューティング https://ja.wikipedia.org/wiki/%E5%88%86%E6%95%A3%E3%82%B3%E3%83%B3%E3%83%94%E3%83%A5%E3%83%BC%E3%83%86%E3%82%A3%E3%83%B3%E3%82%B0\n",
            "マルチスレッディング https://ja.wikipedia.org/wiki/%E3%83%8F%E3%83%BC%E3%83%89%E3%82%A6%E3%82%A7%E3%82%A2%E3%83%9E%E3%83%AB%E3%83%81%E3%82%B9%E3%83%AC%E3%83%83%E3%83%87%E3%82%A3%E3%83%B3%E3%82%B0\n",
            "マルチプロセッシング https://ja.wikipedia.org/wiki/%E3%83%9E%E3%83%AB%E3%83%81%E3%83%97%E3%83%AD%E3%82%BB%E3%83%83%E3%82%B7%E3%83%B3%E3%82%B0\n",
            "自然言語処理 https://ja.wikipedia.org/wiki/%E8%87%AA%E7%84%B6%E8%A8%80%E8%AA%9E%E5%87%A6%E7%90%86\n",
            "知識表現と推論 https://ja.wikipedia.org/wiki/%E7%9F%A5%E8%AD%98%E8%A1%A8%E7%8F%BE\n",
            "コンピュータビジョン https://ja.wikipedia.org/wiki/%E3%82%B3%E3%83%B3%E3%83%94%E3%83%A5%E3%83%BC%E3%82%BF%E3%83%93%E3%82%B8%E3%83%A7%E3%83%B3\n",
            "自動計画とスケジューリング https://ja.wikipedia.org/wiki/%E8%87%AA%E5%8B%95%E8%A8%88%E7%94%BB\n",
            "検索手法 https://ja.wikipedia.org/wiki/%E6%95%B0%E7%90%86%E6%9C%80%E9%81%A9%E5%8C%96\n",
            "制御手法 https://ja.wikipedia.org/wiki/%E5%88%B6%E5%BE%A1%E7%90%86%E8%AB%96\n",
            "教師あり学習 https://ja.wikipedia.org/wiki/%E6%95%99%E5%B8%AB%E3%81%82%E3%82%8A%E5%AD%A6%E7%BF%92\n",
            "教師なし学習 https://ja.wikipedia.org/wiki/%E6%95%99%E5%B8%AB%E3%81%AA%E3%81%97%E5%AD%A6%E7%BF%92\n",
            "強化学習 https://ja.wikipedia.org/wiki/%E5%BC%B7%E5%8C%96%E5%AD%A6%E7%BF%92\n",
            "交差検証 https://ja.wikipedia.org/wiki/%E4%BA%A4%E5%B7%AE%E6%A4%9C%E8%A8%BC\n",
            "アニメーション https://ja.wikipedia.org/wiki/%E3%82%B3%E3%83%B3%E3%83%94%E3%83%A5%E3%83%BC%E3%82%BF%E3%82%A2%E3%83%8B%E3%83%A1%E3%83%BC%E3%82%B7%E3%83%A7%E3%83%B3\n",
            "レンダリング https://ja.wikipedia.org/wiki/%E3%83%AC%E3%83%B3%E3%83%80%E3%83%AA%E3%83%B3%E3%82%B0_(%E3%82%B3%E3%83%B3%E3%83%94%E3%83%A5%E3%83%BC%E3%82%BF)\n",
            "画像編集 https://ja.wikipedia.org/wiki/%E5%86%99%E7%9C%9F%E7%B7%A8%E9%9B%86\n",
            "GPU https://ja.wikipedia.org/wiki/Graphics_Processing_Unit\n",
            "複合現実 https://ja.wikipedia.org/wiki/%E8%A4%87%E5%90%88%E7%8F%BE%E5%AE%9F\n",
            "バーチャル・リアリティ https://ja.wikipedia.org/wiki/%E3%83%90%E3%83%BC%E3%83%81%E3%83%A3%E3%83%AB%E3%83%BB%E3%83%AA%E3%82%A2%E3%83%AA%E3%83%86%E3%82%A3\n",
            "画像圧縮 https://ja.wikipedia.org/wiki/%E7%94%BB%E5%83%8F%E5%9C%A7%E7%B8%AE\n",
            "ソリッドモデリング https://ja.wikipedia.org/wiki/%E3%82%BD%E3%83%AA%E3%83%83%E3%83%89%E3%83%A2%E3%83%87%E3%83%AA%E3%83%B3%E3%82%B0\n",
            "電子商取引 https://ja.wikipedia.org/wiki/%E9%9B%BB%E5%AD%90%E5%95%86%E5%8F%96%E5%BC%95\n",
            "企業アプリケーション https://ja.wikipedia.org/wiki/%E4%BC%81%E6%A5%AD%E3%82%A2%E3%83%97%E3%83%AA%E3%82%B1%E3%83%BC%E3%82%B7%E3%83%A7%E3%83%B3\n",
            "計算物理学 https://ja.wikipedia.org/wiki/%E8%A8%88%E7%AE%97%E7%89%A9%E7%90%86%E5%AD%A6\n",
            "計算化学 https://ja.wikipedia.org/wiki/%E8%A8%88%E7%AE%97%E5%8C%96%E5%AD%A6\n",
            "計算生物学 https://ja.wikipedia.org/wiki/%E8%A8%88%E7%AE%97%E7%94%9F%E7%89%A9%E5%AD%A6\n",
            "計算社会科学 https://ja.wikipedia.org/wiki/%E8%A8%88%E7%AE%97%E7%A4%BE%E4%BC%9A%E7%A7%91%E5%AD%A6\n",
            "健康情報学 https://ja.wikipedia.org/wiki/%E5%81%A5%E5%BA%B7%E6%83%85%E5%A0%B1%E5%AD%A6\n",
            "デジタルアート https://ja.wikipedia.org/wiki/%E3%83%87%E3%82%B8%E3%82%BF%E3%83%AB%E3%82%A2%E3%83%BC%E3%83%88\n",
            "電子出版 https://ja.wikipedia.org/wiki/%E9%9B%BB%E5%AD%90%E5%87%BA%E7%89%88\n",
            "サイバー戦争 https://ja.wikipedia.org/wiki/%E3%82%B5%E3%82%A4%E3%83%90%E3%83%BC%E6%88%A6%E4%BA%89\n",
            "電子投票 https://ja.wikipedia.org/wiki/%E9%9B%BB%E5%AD%90%E6%8A%95%E7%A5%A8\n",
            "コンピュータゲーム https://ja.wikipedia.org/wiki/%E3%82%B3%E3%83%B3%E3%83%94%E3%83%A5%E3%83%BC%E3%82%BF%E3%82%B2%E3%83%BC%E3%83%A0\n",
            "ワードプロセッサー https://ja.wikipedia.org/wiki/%E3%83%AF%E3%83%BC%E3%83%89%E3%83%97%E3%83%AD%E3%82%BB%E3%83%83%E3%82%B5%E3%83%BC\n",
            "オペレーションズ・リサーチ https://ja.wikipedia.org/wiki/%E3%82%AA%E3%83%9A%E3%83%AC%E3%83%BC%E3%82%B7%E3%83%A7%E3%83%B3%E3%82%BA%E3%83%BB%E3%83%AA%E3%82%B5%E3%83%BC%E3%83%81\n",
            "教育工学 https://ja.wikipedia.org/wiki/%E6%95%99%E8%82%B2%E5%B7%A5%E5%AD%A6\n",
            "文書管理システム https://ja.wikipedia.org/wiki/%E6%96%87%E6%9B%B8%E7%AE%A1%E7%90%86%E3%82%B7%E3%82%B9%E3%83%86%E3%83%A0\n"
          ]
        }
      ]
    },
    {
      "cell_type": "code",
      "metadata": {
        "id": "WqodiVui-9l4"
      },
      "source": [
        "soups = dict()\n",
        "for k in urls:\n",
        "  html = urlopen(urls[k]) \n",
        "  soups[k] = BeautifulSoup(html, 'html.parser')"
      ],
      "execution_count": 6,
      "outputs": []
    },
    {
      "cell_type": "code",
      "metadata": {
        "id": "2mcapUF-_AWZ"
      },
      "source": [
        "genre = list()\n",
        "corpus = list()\n",
        "for k in soups:\n",
        "  genre.append(k)\n",
        "  doc = morph(soups[k], nlp)\n",
        "  corpus.append(doc)"
      ],
      "execution_count": 7,
      "outputs": []
    },
    {
      "cell_type": "markdown",
      "metadata": {
        "id": "8kUkcWw6R0cd"
      },
      "source": [
        "* 先に処理しておいた人工知能の記事を含めてファイルに保存する。"
      ]
    },
    {
      "cell_type": "code",
      "metadata": {
        "colab": {
          "base_uri": "https://localhost:8080/"
        },
        "id": "p8BSYpma_TKT",
        "outputId": "3e9832c2-e718-4ff4-8d7b-b6abb8f9dd08"
      },
      "source": [
        "import pandas as pd\n",
        "\n",
        "genre.append('人工知能')\n",
        "corpus.append(doc_AI)\n",
        "\n",
        "df = pd.DataFrame(list(zip(genre, corpus)), columns=['genre', 'text'])\n",
        "print(df.head())\n",
        "df.to_csv('cs_corpus.csv')"
      ],
      "execution_count": 8,
      "outputs": [
        {
          "output_type": "stream",
          "name": "stdout",
          "text": [
            "                      genre                                               text\n",
            "0                    プリント基板  プリント 基板 プリント きばる 短縮 形 pwb PCB 基板 一種 以下 ふた つ まと...\n",
            "1                      周辺機器  周辺 機器 しゅうへん きく また ペリフェラル 英 peripheral コンピュータ ゲ...\n",
            "2                      集積回路  集積 回路 しゅう せき かいろ 英 integrated circuit IC 半 導体 ...\n",
            "3    Systems on Chip (SoCs)  System － on a chip SOC SOC 集積 回路 1 個 チップ 上 プロセ...\n",
            "4  エネルギー消費 (グリーン・コンピューティング)  グリーン It グリーン アイティー 英 GREEN computing 地球 環境 配慮 ...\n"
          ]
        }
      ]
    },
    {
      "cell_type": "markdown",
      "metadata": {
        "id": "Zxee3g5RSTYq"
      },
      "source": [
        "## CountVectorizerで単語の出現頻度を要素とする文書ベクトルを作成"
      ]
    },
    {
      "cell_type": "code",
      "metadata": {
        "colab": {
          "base_uri": "https://localhost:8080/"
        },
        "id": "9Y6dRtZ5SJSE",
        "outputId": "591e2054-d433-4d82-e43b-8cb58cb5624d"
      },
      "source": [
        "import numpy as np\n",
        "from scipy.spatial import distance\n",
        "from sklearn.feature_extraction.text import CountVectorizer\n",
        "\n",
        "df = pd.read_csv('cs_corpus.csv')\n",
        "genre = df['genre'].to_numpy()\n",
        "index_AI = list(genres).index('人工知能')\n",
        "\n",
        "vectorizer = CountVectorizer()\n",
        "X = vectorizer.fit_transform(df['text']).toarray()\n",
        "print('文書数:{}, 語彙サイズ：{}'.format(*X.shape))\n",
        "vocab = np.array(vectorizer.get_feature_names())\n",
        "print('DFの降順: ' + ', '.join(list(vocab[np.argsort(- (X > 0).sum(0))[:10]])))\n",
        "print()\n",
        "\n",
        "top3 = np.argsort(np.linalg.norm(X - X[index_AI], axis=1))[1:4]\n",
        "print('ユークリッド距離: ' + ', '.join(list(genre[top3])))\n",
        "top3 = np.argsort(- np.dot(X, X[index_AI]))[1:4]\n",
        "print('内積: ' + ', '.join(list(genre[top3])))\n",
        "top3 = np.argsort(np.array([distance.cosine(x, X[index_AI]) for x in X]))[1:4]\n",
        "print('コサイン類似度: ' + ', '.join(list(genre[top3])))"
      ],
      "execution_count": 12,
      "outputs": [
        {
          "output_type": "stream",
          "name": "stdout",
          "text": [
            "文書数:110, 語彙サイズ：9588\n",
            "DFの降順: こと, する, ある, よる, いう, もの, ため, なる, また, おく\n",
            "\n",
            "ユークリッド距離: オペレーションズ・リサーチ, 知識表現と推論, 計算幾何学\n",
            "内積: オープンソースモデル, プログラミング言語, オペレーティングシステム\n",
            "コサイン類似度: オペレーションズ・リサーチ, コンピュータビジョン, 知識表現と推論\n"
          ]
        }
      ]
    },
    {
      "cell_type": "markdown",
      "metadata": {
        "id": "d4JQgm5rX49-"
      },
      "source": [
        "## TfidfVectorizerでTF-IDF値を要素とする文書ベクトルを作成"
      ]
    },
    {
      "cell_type": "code",
      "metadata": {
        "colab": {
          "base_uri": "https://localhost:8080/"
        },
        "id": "AfOoDDb0Tyvv",
        "outputId": "a5df4bbb-c1c4-496f-8187-f4d79358ef49"
      },
      "source": [
        "from sklearn.feature_extraction.text import TfidfVectorizer\n",
        "\n",
        "vectorizer = TfidfVectorizer()\n",
        "X = vectorizer.fit_transform(df['text']).toarray()\n",
        "print('文書数:{}, 語彙サイズ：{}'.format(*X.shape))\n",
        "vocab = np.array(vectorizer.get_feature_names())\n",
        "print('DFの降順: ' + ', '.join(list(vocab[np.argsort(- (X > 0).sum(0))[:10]])))\n",
        "print()\n",
        "\n",
        "top3 = np.argsort(np.linalg.norm(X - X[index_AI], axis=1))[1:4]\n",
        "print('ユークリッド距離: ' + ', '.join(list(genre[top3])))\n",
        "top3 = np.argsort(- np.dot(X, X[index_AI]))[1:4]\n",
        "print('内積: ' + ', '.join(list(genre[top3])))\n",
        "top3 = np.argsort(np.array([distance.cosine(x, X[index_AI]) for x in X]))[1:4]\n",
        "print('コサイン類似度: ' + ', '.join(list(genre[top3])))"
      ],
      "execution_count": 15,
      "outputs": [
        {
          "output_type": "stream",
          "name": "stdout",
          "text": [
            "文書数:110, 語彙サイズ：9588\n",
            "DFの降順: こと, する, ある, よる, いう, もの, ため, なる, また, おく\n",
            "\n",
            "ユークリッド距離: コンピュータビジョン, 計算社会科学, 自然言語処理\n",
            "内積: コンピュータビジョン, 計算社会科学, 自然言語処理\n",
            "コサイン類似度: コンピュータビジョン, 計算社会科学, 自然言語処理\n"
          ]
        }
      ]
    },
    {
      "cell_type": "markdown",
      "metadata": {
        "id": "0U6QSxyBX7QC"
      },
      "source": [
        "## TfidfVectorizerのパラメータを変更してみる"
      ]
    },
    {
      "cell_type": "code",
      "metadata": {
        "colab": {
          "base_uri": "https://localhost:8080/"
        },
        "id": "7bam0fT5XvGl",
        "outputId": "a9ee2aae-dbee-4c06-9ece-4bba1c56f1c1"
      },
      "source": [
        "vectorizer = TfidfVectorizer(min_df=2)\n",
        "X = vectorizer.fit_transform(df['text']).toarray()\n",
        "print('文書数:{}, 語彙サイズ：{}'.format(*X.shape))\n",
        "vocab = np.array(vectorizer.get_feature_names())\n",
        "print('DFの降順: ' + ', '.join(list(vocab[np.argsort(- (X > 0).sum(0))[:10]])))\n",
        "print()\n",
        "\n",
        "top3 = np.argsort(np.linalg.norm(X - X[index_AI], axis=1))[1:4]\n",
        "print('ユークリッド距離: ' + ', '.join(list(genre[top3])))\n",
        "top3 = np.argsort(- np.dot(X, X[index_AI]))[1:4]\n",
        "print('内積: ' + ', '.join(list(genre[top3])))\n",
        "top3 = np.argsort(np.array([distance.cosine(x, X[index_AI]) for x in X]))[1:4]\n",
        "print('コサイン類似度: ' + ', '.join(list(genre[top3])))"
      ],
      "execution_count": 16,
      "outputs": [
        {
          "output_type": "stream",
          "name": "stdout",
          "text": [
            "文書数:110, 語彙サイズ：4109\n",
            "DFの降順: こと, する, ある, よる, いう, もの, ため, なる, また, おく\n",
            "\n",
            "ユークリッド距離: コンピュータビジョン, 計算社会科学, データマイニング\n",
            "内積: コンピュータビジョン, 計算社会科学, データマイニング\n",
            "コサイン類似度: コンピュータビジョン, 計算社会科学, データマイニング\n"
          ]
        }
      ]
    },
    {
      "cell_type": "code",
      "metadata": {
        "colab": {
          "base_uri": "https://localhost:8080/"
        },
        "id": "gIO9P4L1X0Un",
        "outputId": "b8ca03c0-09cd-4b96-b37a-ad5cf601ff48"
      },
      "source": [
        "vectorizer = TfidfVectorizer(max_df=.1)\n",
        "X = vectorizer.fit_transform(df['text']).toarray()\n",
        "print('文書数:{}, 語彙サイズ：{}'.format(*X.shape))\n",
        "vocab = np.array(vectorizer.get_feature_names())\n",
        "print('DFの降順: ' + ', '.join(list(vocab[np.argsort(- (X > 0).sum(0))[:10]])))\n",
        "print()\n",
        "\n",
        "top3 = np.argsort(np.linalg.norm(X - X[index_AI], axis=1))[1:4]\n",
        "print('ユークリッド距離: ' + ', '.join(list(genre[top3])))\n",
        "top3 = np.argsort(- np.dot(X, X[index_AI]))[1:4]\n",
        "print('内積: ' + ', '.join(list(genre[top3])))\n",
        "top3 = np.argsort(np.array([distance.cosine(x, X[index_AI]) for x in X]))[1:4]\n",
        "print('コサイン類似度: ' + ', '.join(list(genre[top3])))"
      ],
      "execution_count": 17,
      "outputs": [
        {
          "output_type": "stream",
          "name": "stdout",
          "text": [
            "文書数:110, 語彙サイズ：8864\n",
            "DFの降順: どれ, 実施, 起源, マーク, 意識, 表面, 顧客, 幾何, ところ, ネット\n",
            "\n",
            "ユークリッド距離: 自然言語処理, 計算社会科学, コンピュータビジョン\n",
            "内積: 自然言語処理, 計算社会科学, コンピュータビジョン\n",
            "コサイン類似度: 自然言語処理, 計算社会科学, コンピュータビジョン\n"
          ]
        }
      ]
    },
    {
      "cell_type": "code",
      "metadata": {
        "colab": {
          "base_uri": "https://localhost:8080/"
        },
        "id": "yhVReh_dYG_c",
        "outputId": "905da787-24b8-4c94-f270-9c7a07ee6b97"
      },
      "source": [
        "vectorizer = TfidfVectorizer(min_df=2, max_df=.1)\n",
        "X = vectorizer.fit_transform(df['text']).toarray()\n",
        "print('文書数:{}; 語彙サイズ：{}'.format(*X.shape))\n",
        "vocab = np.array(vectorizer.get_feature_names())\n",
        "print('DFの降順: ' + ', '.join(list(vocab[np.argsort(- (X > 0).sum(0))[:10]])))\n",
        "print()\n",
        "\n",
        "top3 = np.argsort(np.linalg.norm(X - X[index_AI], axis=1))[1:4]\n",
        "print('ユークリッド距離: ' + ', '.join(list(genre[top3])))\n",
        "top3 = np.argsort(- np.dot(X, X[index_AI]))[1:4]\n",
        "print('内積: ' + ', '.join(list(genre[top3])))\n",
        "top3 = np.argsort(np.array([distance.cosine(x, X[index_AI]) for x in X]))[1:4]\n",
        "print('コサイン類似度: ' + ', '.join(list(genre[top3])))"
      ],
      "execution_count": 18,
      "outputs": [
        {
          "output_type": "stream",
          "name": "stdout",
          "text": [
            "文書数:110; 語彙サイズ：3385\n",
            "DFの降順: ネット, 離散, 静的, 背景, 導く, オンライン, マーク, 略称, メディア, 盛ん\n",
            "\n",
            "ユークリッド距離: 自然言語処理, 計算社会科学, コンピュータビジョン\n",
            "内積: 自然言語処理, 計算社会科学, コンピュータビジョン\n",
            "コサイン類似度: 自然言語処理, 計算社会科学, コンピュータビジョン\n"
          ]
        }
      ]
    },
    {
      "cell_type": "code",
      "metadata": {
        "id": "dkvH_pU5ZcpO"
      },
      "source": [
        ""
      ],
      "execution_count": 18,
      "outputs": []
    }
  ]
}