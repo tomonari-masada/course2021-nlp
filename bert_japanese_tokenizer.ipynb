{
  "nbformat": 4,
  "nbformat_minor": 0,
  "metadata": {
    "colab": {
      "name": "bert-japanese-tokenizer.ipynb",
      "provenance": [],
      "collapsed_sections": [],
      "authorship_tag": "ABX9TyODRy2EcAbsFLdwWaJKI0qT",
      "include_colab_link": true
    },
    "kernelspec": {
      "name": "python3",
      "display_name": "Python 3"
    },
    "accelerator": "GPU"
  },
  "cells": [
    {
      "cell_type": "markdown",
      "metadata": {
        "id": "view-in-github",
        "colab_type": "text"
      },
      "source": [
        "<a href=\"https://colab.research.google.com/github/tomonari-masada/course2021-nlp/blob/main/bert_japanese_tokenizer.ipynb\" target=\"_parent\"><img src=\"https://colab.research.google.com/assets/colab-badge.svg\" alt=\"Open In Colab\"/></a>"
      ]
    },
    {
      "cell_type": "markdown",
      "metadata": {
        "id": "1y1cIaXBDRnF"
      },
      "source": [
        "# Transformer向けの日本語tokenizerを使う\n",
        "* 目的：日本語の場合、subwordへの分割がどのようになるか、調べてみる。"
      ]
    },
    {
      "cell_type": "markdown",
      "metadata": {
        "id": "0cz6D69EDiWw"
      },
      "source": [
        "## transformersをインストール\n",
        "* https://huggingface.co/transformers/installation.html"
      ]
    },
    {
      "cell_type": "code",
      "metadata": {
        "id": "O9Bb48dGMknE"
      },
      "source": [
        "!pip install transformers"
      ],
      "execution_count": null,
      "outputs": []
    },
    {
      "cell_type": "markdown",
      "metadata": {
        "id": "5vBvh1OPE3Gl"
      },
      "source": [
        "## BERT向け日本語tokenizerを使う(1/3)"
      ]
    },
    {
      "cell_type": "markdown",
      "metadata": {
        "id": "A5fdDrjFJ0XY"
      },
      "source": [
        "* `BertJapaneseTokenizer`をインポート"
      ]
    },
    {
      "cell_type": "code",
      "metadata": {
        "id": "Ao1ZHgMpEebJ"
      },
      "source": [
        "from transformers import BertJapaneseTokenizer"
      ],
      "execution_count": null,
      "outputs": []
    },
    {
      "cell_type": "markdown",
      "metadata": {
        "id": "27mIvOcbJ_DP"
      },
      "source": [
        "* 日本語データを使った事前学習が済んでいるモデルのtokenizerを準備\n",
        " * https://huggingface.co/cl-tohoku/bert-base-japanese-whole-word-masking"
      ]
    },
    {
      "cell_type": "code",
      "metadata": {
        "id": "gKPC7cm3ElYC"
      },
      "source": [
        "tokenizer = BertJapaneseTokenizer.from_pretrained('cl-tohoku/bert-base-japanese-whole-word-masking')"
      ],
      "execution_count": null,
      "outputs": []
    },
    {
      "cell_type": "markdown",
      "metadata": {
        "id": "FreUhv6uE_g5"
      },
      "source": [
        "## fugashiをインストール"
      ]
    },
    {
      "cell_type": "code",
      "metadata": {
        "id": "YxtF0Pp3KivR"
      },
      "source": [
        "!pip install fugashi"
      ],
      "execution_count": null,
      "outputs": []
    },
    {
      "cell_type": "markdown",
      "metadata": {
        "id": "4ohbXxCGFQG7"
      },
      "source": [
        "## BERT向け日本語tokenizerを使う(2/3)"
      ]
    },
    {
      "cell_type": "code",
      "metadata": {
        "id": "CXTy5LdTFFY4"
      },
      "source": [
        "tokenizer = BertJapaneseTokenizer.from_pretrained('cl-tohoku/bert-base-japanese-whole-word-masking')"
      ],
      "execution_count": null,
      "outputs": []
    },
    {
      "cell_type": "markdown",
      "metadata": {
        "id": "Zm61GbLMFHgE"
      },
      "source": [
        "## ipadicのインストール"
      ]
    },
    {
      "cell_type": "code",
      "metadata": {
        "id": "0ZY_15nuKtUs"
      },
      "source": [
        "!pip install ipadic"
      ],
      "execution_count": null,
      "outputs": []
    },
    {
      "cell_type": "markdown",
      "metadata": {
        "id": "HzobPPe6FSTi"
      },
      "source": [
        "## BERT向け日本語tokenizerを使う(3/3)"
      ]
    },
    {
      "cell_type": "code",
      "metadata": {
        "id": "WNltipWzFThQ"
      },
      "source": [
        "tokenizer = BertJapaneseTokenizer.from_pretrained('cl-tohoku/bert-base-japanese-whole-word-masking')"
      ],
      "execution_count": null,
      "outputs": []
    },
    {
      "cell_type": "code",
      "metadata": {
        "id": "HbnUbfJIPTN4"
      },
      "source": [
        "print(tokenizer.tokenize('人工知能科学研究科では、幅広い知識や経験を持った学生が、自らの知識とAIを掛け合わすことで新たな可能性を生み出そうと日々研究を行っています。'))"
      ],
      "execution_count": null,
      "outputs": []
    },
    {
      "cell_type": "code",
      "metadata": {
        "id": "1Nlib9wCIWHr"
      },
      "source": [
        "print(tokenizer.tokenize('　岸田新内閣が4日、正式に発足しました。就任会見では、早くも衆議院選挙の日程を表明。総理就任から1カ月弱での、異例の“短期決戦”となります。'))"
      ],
      "execution_count": null,
      "outputs": []
    },
    {
      "cell_type": "markdown",
      "metadata": {
        "id": "VKx9VCWBHm-x"
      },
      "source": [
        "## NEologdのインストール\n",
        "* https://zenn.dev/kwashizzz/articles/nlp-mecab-startup"
      ]
    },
    {
      "cell_type": "code",
      "metadata": {
        "id": "DDUem-ULHxpP"
      },
      "source": [
        "!apt install aptitude swig file"
      ],
      "execution_count": null,
      "outputs": []
    },
    {
      "cell_type": "code",
      "metadata": {
        "id": "JzqBI1_GIqnw"
      },
      "source": [
        "!ls /usr/local/lib/python3.7/dist-packages/ideep4py/lib/libmkldnn.so.*"
      ],
      "execution_count": null,
      "outputs": []
    },
    {
      "cell_type": "code",
      "metadata": {
        "id": "T0BuCNrcIrnY"
      },
      "source": [
        "!ln -fs /usr/local/lib/python3.7/dist-packages/ideep4py/lib/libmkldnn.so.0.14.0 /usr/local/lib/python3.7/dist-packages/ideep4py/lib/libmkldnn.so.0"
      ],
      "execution_count": null,
      "outputs": []
    },
    {
      "cell_type": "code",
      "metadata": {
        "id": "q1PCazgXJRf0"
      },
      "source": [
        "!aptitude -y install mecab libmecab-dev mecab-ipadic-utf8\n",
        "!pip install mecab-python3"
      ],
      "execution_count": null,
      "outputs": []
    },
    {
      "cell_type": "code",
      "metadata": {
        "id": "08XWbltEHBmB"
      },
      "source": [
        "!git clone --depth 1 https://github.com/neologd/mecab-ipadic-neologd.git\n",
        "!./mecab-ipadic-neologd/bin/install-mecab-ipadic-neologd -n -a -y"
      ],
      "execution_count": null,
      "outputs": []
    },
    {
      "cell_type": "code",
      "metadata": {
        "id": "9xbkxiJJHmZY"
      },
      "source": [
        "!echo `mecab-config --dicdir`\"/mecab-ipadic-neologd\""
      ],
      "execution_count": null,
      "outputs": []
    },
    {
      "cell_type": "code",
      "metadata": {
        "id": "iyNcEJFiK38E"
      },
      "source": [
        "!echo \"インスタ映え\" | mecab"
      ],
      "execution_count": null,
      "outputs": []
    },
    {
      "cell_type": "code",
      "metadata": {
        "id": "Bbm4bohsLJ5z"
      },
      "source": [
        "!echo \"インスタ映え\" | mecab -d /usr/lib/x86_64-linux-gnu/mecab/dic/mecab-ipadic-neologd"
      ],
      "execution_count": null,
      "outputs": []
    },
    {
      "cell_type": "markdown",
      "metadata": {
        "id": "C2RP42hjIPXX"
      },
      "source": [
        "## NEologdをBertJapaneseTokenizerで使う\n",
        "* https://qiita.com/ken11_/items/fd20e69103bb0ce698af"
      ]
    },
    {
      "cell_type": "code",
      "metadata": {
        "id": "2B6ThjUnIO9A"
      },
      "source": [
        "tokenizer2 = BertJapaneseTokenizer.from_pretrained(\n",
        "    \"cl-tohoku/bert-base-japanese-whole-word-masking\",\n",
        "    do_subword_tokenize=False,\n",
        "    mecab_kwargs={\"mecab_dic\": None, \"mecab_option\": \"-d /usr/lib/x86_64-linux-gnu/mecab/dic/mecab-ipadic-neologd\"}\n",
        "    )"
      ],
      "execution_count": null,
      "outputs": []
    },
    {
      "cell_type": "markdown",
      "metadata": {
        "id": "wB3s-7n8MGZW"
      },
      "source": [
        "* エラーが出るのは、mecabrcファイルを`-r`オプションで指定していないため。"
      ]
    },
    {
      "cell_type": "markdown",
      "metadata": {
        "id": "gyVEWoFyMQL4"
      },
      "source": [
        "* mecabrcファイルを探す。"
      ]
    },
    {
      "cell_type": "code",
      "metadata": {
        "id": "7dBRtFNuIiJz"
      },
      "source": [
        "!find / -iname mecabrc"
      ],
      "execution_count": null,
      "outputs": []
    },
    {
      "cell_type": "markdown",
      "metadata": {
        "id": "XEeOtgJ8L2qD"
      },
      "source": [
        "* subwordへの分割なしでNEologdを使ってtokenize"
      ]
    },
    {
      "cell_type": "code",
      "metadata": {
        "id": "aRMMHcxJI-W6"
      },
      "source": [
        "tokenizer2 = BertJapaneseTokenizer.from_pretrained(\n",
        "    \"cl-tohoku/bert-base-japanese-whole-word-masking\",\n",
        "    do_subword_tokenize=False,\n",
        "    mecab_kwargs={\"mecab_dic\": None, \"mecab_option\": \"-d /usr/lib/x86_64-linux-gnu/mecab/dic/mecab-ipadic-neologd -r /etc/mecabrc\"}\n",
        "    )"
      ],
      "execution_count": null,
      "outputs": []
    },
    {
      "cell_type": "code",
      "metadata": {
        "id": "0uU-1FkmLhIm"
      },
      "source": [
        "print(tokenizer.tokenize('人工知能科学研究科では、幅広い知識や経験を持った学生が、自らの知識とAIを掛け合わすことで新たな可能性を生み出そうと日々研究を行っています。'))"
      ],
      "execution_count": null,
      "outputs": []
    },
    {
      "cell_type": "code",
      "metadata": {
        "id": "6ugYUkoPLmpW"
      },
      "source": [
        "print(tokenizer2.tokenize('人工知能科学研究科では、幅広い知識や経験を持った学生が、自らの知識とAIを掛け合わすことで新たな可能性を生み出そうと日々研究を行っています。'))"
      ],
      "execution_count": null,
      "outputs": []
    },
    {
      "cell_type": "markdown",
      "metadata": {
        "id": "m-QPygZJL9aS"
      },
      "source": [
        "* subwordへの分割ありでNEologdを使ってtokenize"
      ]
    },
    {
      "cell_type": "code",
      "metadata": {
        "id": "mzN-rCdsLoMl"
      },
      "source": [
        "tokenizer3 = BertJapaneseTokenizer.from_pretrained(\n",
        "    \"cl-tohoku/bert-base-japanese-whole-word-masking\",\n",
        "    mecab_kwargs={\"mecab_dic\": None, \"mecab_option\": \"-d /usr/lib/x86_64-linux-gnu/mecab/dic/mecab-ipadic-neologd -r /etc/mecabrc\"}\n",
        "    )"
      ],
      "execution_count": null,
      "outputs": []
    },
    {
      "cell_type": "code",
      "metadata": {
        "id": "k67iC83OLv29"
      },
      "source": [
        "print(tokenizer3.tokenize('人工知能科学研究科では、幅広い知識や経験を持った学生が、自らの知識とAIを掛け合わすことで新たな可能性を生み出そうと日々研究を行っています。'))"
      ],
      "execution_count": null,
      "outputs": []
    },
    {
      "cell_type": "code",
      "metadata": {
        "id": "PqSYbbpZLy09"
      },
      "source": [
        ""
      ],
      "execution_count": null,
      "outputs": []
    }
  ]
}