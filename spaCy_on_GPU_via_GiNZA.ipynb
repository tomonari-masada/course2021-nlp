{
  "nbformat": 4,
  "nbformat_minor": 0,
  "metadata": {
    "colab": {
      "name": "spaCy_on_GPU_via_GiNZA.ipynb",
      "provenance": [],
      "collapsed_sections": [],
      "authorship_tag": "ABX9TyPcHmZ2AWctmWzqCNsmnhzB",
      "include_colab_link": true
    },
    "kernelspec": {
      "name": "python3",
      "display_name": "Python 3"
    },
    "language_info": {
      "name": "python"
    }
  },
  "cells": [
    {
      "cell_type": "markdown",
      "metadata": {
        "id": "view-in-github",
        "colab_type": "text"
      },
      "source": [
        "<a href=\"https://colab.research.google.com/github/tomonari-masada/course2021-nlp/blob/main/spaCy_on_GPU_via_GiNZA.ipynb\" target=\"_parent\"><img src=\"https://colab.research.google.com/assets/colab-badge.svg\" alt=\"Open In Colab\"/></a>"
      ]
    },
    {
      "cell_type": "markdown",
      "metadata": {
        "id": "1DJRbvDPfmVL"
      },
      "source": [
        "# GiNZA（日本語NLPライブラリ）からGPU上でSudachiを使う\n",
        "* 詳細は下記URLを参照のこと。\n",
        " * https://megagonlabs.github.io/ginza/"
      ]
    },
    {
      "cell_type": "markdown",
      "metadata": {
        "id": "CwvP4QwFfvnQ"
      },
      "source": [
        "## GiNZAのインストール"
      ]
    },
    {
      "cell_type": "code",
      "metadata": {
        "colab": {
          "base_uri": "https://localhost:8080/"
        },
        "id": "h_aydStketRq",
        "outputId": "05f13938-c146-4d26-c8cc-8ee32c997ace"
      },
      "source": [
        "!pip install -U ginza ja-ginza"
      ],
      "execution_count": 1,
      "outputs": [
        {
          "output_type": "stream",
          "name": "stdout",
          "text": [
            "Collecting ginza\n",
            "  Downloading ginza-5.0.2.tar.gz (23 kB)\n",
            "Collecting ja-ginza\n",
            "  Downloading ja_ginza-5.0.0.tar.gz (58.7 MB)\n",
            "\u001b[K     |████████████████████████████████| 58.7 MB 7.4 kB/s \n",
            "\u001b[?25hCollecting spacy<3.2.0,>=3.0.6\n",
            "  Downloading spacy-3.1.3-cp37-cp37m-manylinux_2_17_x86_64.manylinux2014_x86_64.whl (5.9 MB)\n",
            "\u001b[K     |████████████████████████████████| 5.9 MB 35.5 MB/s \n",
            "\u001b[?25hCollecting plac>=1.3.3\n",
            "  Downloading plac-1.3.3-py2.py3-none-any.whl (22 kB)\n",
            "Collecting SudachiPy<0.6.0,>=0.5.2\n",
            "  Downloading SudachiPy-0.5.4.tar.gz (86 kB)\n",
            "\u001b[K     |████████████████████████████████| 86 kB 6.1 MB/s \n",
            "\u001b[?25hCollecting SudachiDict-core>=20210608\n",
            "  Downloading SudachiDict-core-20210802.tar.gz (9.1 kB)\n",
            "Collecting srsly<3.0.0,>=2.4.1\n",
            "  Downloading srsly-2.4.1-cp37-cp37m-manylinux2014_x86_64.whl (456 kB)\n",
            "\u001b[K     |████████████████████████████████| 456 kB 64.2 MB/s \n",
            "\u001b[?25hRequirement already satisfied: jinja2 in /usr/local/lib/python3.7/dist-packages (from spacy<3.2.0,>=3.0.6->ginza) (2.11.3)\n",
            "Requirement already satisfied: packaging>=20.0 in /usr/local/lib/python3.7/dist-packages (from spacy<3.2.0,>=3.0.6->ginza) (21.0)\n",
            "Collecting thinc<8.1.0,>=8.0.9\n",
            "  Downloading thinc-8.0.10-cp37-cp37m-manylinux_2_17_x86_64.manylinux2014_x86_64.whl (623 kB)\n",
            "\u001b[K     |████████████████████████████████| 623 kB 47.2 MB/s \n",
            "\u001b[?25hRequirement already satisfied: wasabi<1.1.0,>=0.8.1 in /usr/local/lib/python3.7/dist-packages (from spacy<3.2.0,>=3.0.6->ginza) (0.8.2)\n",
            "Collecting typer<0.5.0,>=0.3.0\n",
            "  Downloading typer-0.4.0-py3-none-any.whl (27 kB)\n",
            "Collecting pathy>=0.3.5\n",
            "  Downloading pathy-0.6.0-py3-none-any.whl (42 kB)\n",
            "\u001b[K     |████████████████████████████████| 42 kB 1.3 MB/s \n",
            "\u001b[?25hRequirement already satisfied: murmurhash<1.1.0,>=0.28.0 in /usr/local/lib/python3.7/dist-packages (from spacy<3.2.0,>=3.0.6->ginza) (1.0.5)\n",
            "Requirement already satisfied: numpy>=1.15.0 in /usr/local/lib/python3.7/dist-packages (from spacy<3.2.0,>=3.0.6->ginza) (1.19.5)\n",
            "Requirement already satisfied: preshed<3.1.0,>=3.0.2 in /usr/local/lib/python3.7/dist-packages (from spacy<3.2.0,>=3.0.6->ginza) (3.0.5)\n",
            "Requirement already satisfied: cymem<2.1.0,>=2.0.2 in /usr/local/lib/python3.7/dist-packages (from spacy<3.2.0,>=3.0.6->ginza) (2.0.5)\n",
            "Requirement already satisfied: setuptools in /usr/local/lib/python3.7/dist-packages (from spacy<3.2.0,>=3.0.6->ginza) (57.4.0)\n",
            "Requirement already satisfied: blis<0.8.0,>=0.4.0 in /usr/local/lib/python3.7/dist-packages (from spacy<3.2.0,>=3.0.6->ginza) (0.4.1)\n",
            "Collecting catalogue<2.1.0,>=2.0.6\n",
            "  Downloading catalogue-2.0.6-py3-none-any.whl (17 kB)\n",
            "Requirement already satisfied: requests<3.0.0,>=2.13.0 in /usr/local/lib/python3.7/dist-packages (from spacy<3.2.0,>=3.0.6->ginza) (2.23.0)\n",
            "Collecting pydantic!=1.8,!=1.8.1,<1.9.0,>=1.7.4\n",
            "  Downloading pydantic-1.8.2-cp37-cp37m-manylinux2014_x86_64.whl (10.1 MB)\n",
            "\u001b[K     |████████████████████████████████| 10.1 MB 43.1 MB/s \n",
            "\u001b[?25hRequirement already satisfied: typing-extensions<4.0.0.0,>=3.7.4 in /usr/local/lib/python3.7/dist-packages (from spacy<3.2.0,>=3.0.6->ginza) (3.7.4.3)\n",
            "Requirement already satisfied: tqdm<5.0.0,>=4.38.0 in /usr/local/lib/python3.7/dist-packages (from spacy<3.2.0,>=3.0.6->ginza) (4.62.3)\n",
            "Collecting spacy-legacy<3.1.0,>=3.0.8\n",
            "  Downloading spacy_legacy-3.0.8-py2.py3-none-any.whl (14 kB)\n",
            "Requirement already satisfied: zipp>=0.5 in /usr/local/lib/python3.7/dist-packages (from catalogue<2.1.0,>=2.0.6->spacy<3.2.0,>=3.0.6->ginza) (3.6.0)\n",
            "Requirement already satisfied: pyparsing>=2.0.2 in /usr/local/lib/python3.7/dist-packages (from packaging>=20.0->spacy<3.2.0,>=3.0.6->ginza) (2.4.7)\n",
            "Requirement already satisfied: smart-open<6.0.0,>=5.0.0 in /usr/local/lib/python3.7/dist-packages (from pathy>=0.3.5->spacy<3.2.0,>=3.0.6->ginza) (5.2.1)\n",
            "Requirement already satisfied: idna<3,>=2.5 in /usr/local/lib/python3.7/dist-packages (from requests<3.0.0,>=2.13.0->spacy<3.2.0,>=3.0.6->ginza) (2.10)\n",
            "Requirement already satisfied: chardet<4,>=3.0.2 in /usr/local/lib/python3.7/dist-packages (from requests<3.0.0,>=2.13.0->spacy<3.2.0,>=3.0.6->ginza) (3.0.4)\n",
            "Requirement already satisfied: urllib3!=1.25.0,!=1.25.1,<1.26,>=1.21.1 in /usr/local/lib/python3.7/dist-packages (from requests<3.0.0,>=2.13.0->spacy<3.2.0,>=3.0.6->ginza) (1.24.3)\n",
            "Requirement already satisfied: certifi>=2017.4.17 in /usr/local/lib/python3.7/dist-packages (from requests<3.0.0,>=2.13.0->spacy<3.2.0,>=3.0.6->ginza) (2021.5.30)\n",
            "Collecting sortedcontainers~=2.1.0\n",
            "  Downloading sortedcontainers-2.1.0-py2.py3-none-any.whl (28 kB)\n",
            "Collecting dartsclone~=0.9.0\n",
            "  Downloading dartsclone-0.9.0-cp37-cp37m-manylinux1_x86_64.whl (473 kB)\n",
            "\u001b[K     |████████████████████████████████| 473 kB 64.9 MB/s \n",
            "\u001b[?25hRequirement already satisfied: Cython in /usr/local/lib/python3.7/dist-packages (from dartsclone~=0.9.0->SudachiPy<0.6.0,>=0.5.2->ginza) (0.29.24)\n",
            "Requirement already satisfied: click<9.0.0,>=7.1.1 in /usr/local/lib/python3.7/dist-packages (from typer<0.5.0,>=0.3.0->spacy<3.2.0,>=3.0.6->ginza) (7.1.2)\n",
            "Requirement already satisfied: MarkupSafe>=0.23 in /usr/local/lib/python3.7/dist-packages (from jinja2->spacy<3.2.0,>=3.0.6->ginza) (2.0.1)\n",
            "Building wheels for collected packages: ginza, SudachiDict-core, SudachiPy, ja-ginza\n",
            "  Building wheel for ginza (setup.py) ... \u001b[?25l\u001b[?25hdone\n",
            "  Created wheel for ginza: filename=ginza-5.0.2-py3-none-any.whl size=17857 sha256=2bd9336d9bc320979ca7e1368fb18c89ddce94c121bee81ed5e863cb2ba24525\n",
            "  Stored in directory: /root/.cache/pip/wheels/63/3d/ef/46ca55e86d264ddffc04422b20a53d1a0fbd781f1904e2c577\n",
            "  Building wheel for SudachiDict-core (setup.py) ... \u001b[?25l\u001b[?25hdone\n",
            "  Created wheel for SudachiDict-core: filename=SudachiDict_core-20210802-py3-none-any.whl size=71418512 sha256=9667a8a1ce3ec570aa340c295426d827fa47083aa43c7eacae2d08cb8d92f15c\n",
            "  Stored in directory: /root/.cache/pip/wheels/91/e8/21/e80d212743835d87bb5e7eca81b6abef6d8cb67a294007a837\n",
            "  Building wheel for SudachiPy (setup.py) ... \u001b[?25l\u001b[?25hdone\n",
            "  Created wheel for SudachiPy: filename=SudachiPy-0.5.4-cp37-cp37m-linux_x86_64.whl size=872151 sha256=fb33b4d889e04a1cbfaf06389dca90f7f74740faf071de4f325bc911ff1d4369\n",
            "  Stored in directory: /root/.cache/pip/wheels/6b/5b/8b/ce1f543c9e9af590fdc62e8344fda5a3950c60c0d21c83174e\n",
            "  Building wheel for ja-ginza (setup.py) ... \u001b[?25l\u001b[?25hdone\n",
            "  Created wheel for ja-ginza: filename=ja_ginza-5.0.0-py3-none-any.whl size=58774084 sha256=1a38c4508d8dd888fd0fd2ee2b5cddb618ff2c1520fd4c8cd9f1c74bd6e36e55\n",
            "  Stored in directory: /root/.cache/pip/wheels/18/47/0e/771f28614f415d92c5c9f42790349ba1bda1f7d19d1f2d1649\n",
            "Successfully built ginza SudachiDict-core SudachiPy ja-ginza\n",
            "Installing collected packages: catalogue, typer, srsly, sortedcontainers, pydantic, dartsclone, thinc, SudachiPy, spacy-legacy, pathy, SudachiDict-core, spacy, plac, ginza, ja-ginza\n",
            "  Attempting uninstall: catalogue\n",
            "    Found existing installation: catalogue 1.0.0\n",
            "    Uninstalling catalogue-1.0.0:\n",
            "      Successfully uninstalled catalogue-1.0.0\n",
            "  Attempting uninstall: srsly\n",
            "    Found existing installation: srsly 1.0.5\n",
            "    Uninstalling srsly-1.0.5:\n",
            "      Successfully uninstalled srsly-1.0.5\n",
            "  Attempting uninstall: sortedcontainers\n",
            "    Found existing installation: sortedcontainers 2.4.0\n",
            "    Uninstalling sortedcontainers-2.4.0:\n",
            "      Successfully uninstalled sortedcontainers-2.4.0\n",
            "  Attempting uninstall: thinc\n",
            "    Found existing installation: thinc 7.4.0\n",
            "    Uninstalling thinc-7.4.0:\n",
            "      Successfully uninstalled thinc-7.4.0\n",
            "  Attempting uninstall: spacy\n",
            "    Found existing installation: spacy 2.2.4\n",
            "    Uninstalling spacy-2.2.4:\n",
            "      Successfully uninstalled spacy-2.2.4\n",
            "  Attempting uninstall: plac\n",
            "    Found existing installation: plac 1.1.3\n",
            "    Uninstalling plac-1.1.3:\n",
            "      Successfully uninstalled plac-1.1.3\n",
            "Successfully installed SudachiDict-core-20210802 SudachiPy-0.5.4 catalogue-2.0.6 dartsclone-0.9.0 ginza-5.0.2 ja-ginza-5.0.0 pathy-0.6.0 plac-1.3.3 pydantic-1.8.2 sortedcontainers-2.1.0 spacy-3.1.3 spacy-legacy-3.0.8 srsly-2.4.1 thinc-8.0.10 typer-0.4.0\n"
          ]
        }
      ]
    },
    {
      "cell_type": "markdown",
      "metadata": {
        "id": "QPsZaY11faQf"
      },
      "source": [
        "* ここで、ランタイムを再起動。"
      ]
    },
    {
      "cell_type": "markdown",
      "metadata": {
        "id": "2RVFCpKWgJMk"
      },
      "source": [
        "## spaCyで日本語形態素解析"
      ]
    },
    {
      "cell_type": "code",
      "metadata": {
        "colab": {
          "base_uri": "https://localhost:8080/"
        },
        "id": "uadWrSyUdOae",
        "outputId": "be333103-0db3-4bf4-e30d-78bd81c172cd"
      },
      "source": [
        "import spacy\n",
        "\n",
        "nlp = spacy.load('ja_ginza')\n",
        "doc = nlp('銀座でランチをご一緒しましょう。')\n",
        "for sent in doc.sents:\n",
        "  for token in sent:\n",
        "    print(token.i, token.orth_, token.lemma_, token.pos_, token.tag_, token.dep_, token.head.i)\n",
        "  print('EOS')"
      ],
      "execution_count": 1,
      "outputs": [
        {
          "output_type": "stream",
          "name": "stdout",
          "text": [
            "0 銀座 銀座 PROPN 名詞-固有名詞-地名-一般 obl 5\n",
            "1 で で ADP 助詞-格助詞 case 0\n",
            "2 ランチ ランチ NOUN 名詞-普通名詞-一般 obj 5\n",
            "3 を を ADP 助詞-格助詞 case 2\n",
            "4 ご ご NOUN 接頭辞 compound 5\n",
            "5 一緒 一緒 NOUN 名詞-普通名詞-サ変可能 ROOT 5\n",
            "6 し する AUX 動詞-非自立可能 aux 5\n",
            "7 ましょう ます AUX 助動詞 aux 5\n",
            "8 。 。 PUNCT 補助記号-句点 punct 5\n",
            "EOS\n"
          ]
        }
      ]
    },
    {
      "cell_type": "code",
      "metadata": {
        "id": "efCouB5hdVFU"
      },
      "source": [
        ""
      ],
      "execution_count": null,
      "outputs": []
    }
  ]
}